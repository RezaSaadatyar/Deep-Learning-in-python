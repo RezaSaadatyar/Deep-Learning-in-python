{
 "cells": [
  {
   "cell_type": "markdown",
   "metadata": {},
   "source": [
    "Presented by: Reza Saadatyar 2022-2023<br/>\n",
    "E-mail: Reza.Saadatyar92@gmail.com<br/>\n",
    "[Link](https://github.com/RezaSaadatyar/Deep-Learning-in-python)"
   ]
  },
  {
   "cell_type": "markdown",
   "metadata": {},
   "source": [
    "**Recurrent Neurons and Layers**"
   ]
  },
  {
   "cell_type": "markdown",
   "metadata": {},
   "source": [
    "![Alt text](1.jpg)\n",
    "![Alt text](2.jpg)"
   ]
  },
  {
   "cell_type": "markdown",
   "metadata": {},
   "source": [
    "================================== Importing the required Libraries ==========================="
   ]
  },
  {
   "cell_type": "code",
   "execution_count": 21,
   "metadata": {},
   "outputs": [],
   "source": [
    "import os\n",
    "import sys\n",
    "import math \n",
    "import numpy as np\n",
    "import pandas as pd\n",
    "import yfinance as yf          # pip install yfinance\n",
    "import tensorflow as tf\n",
    "import statsmodels.api as sm\n",
    "import matplotlib.pyplot as plt\n",
    "from sklearn.preprocessing import MinMaxScaler"
   ]
  },
  {
   "cell_type": "markdown",
   "metadata": {},
   "source": [
    "========================================= Functions =================================="
   ]
  },
  {
   "cell_type": "code",
   "execution_count": 25,
   "metadata": {},
   "outputs": [],
   "source": [
    "# =============================================== Preparing data =====================================================\n",
    "def Prepare_data(data):  \n",
    "     # -------------------------------------------- Step 1.1: Check type data ----------------------------------------     \n",
    "    if 'DataFrame' not in str(type(data)):      \n",
    "        data = pd.DataFrame(data)\n",
    "    # ---------------------------------------- Step 1.2: Check dimensional data --------------------------------------\n",
    "    if data.ndim < 3:\n",
    "        if data.shape[0] < data.shape[1]:\n",
    "            data = data.T\n",
    "    elif data.ndim > 3:\n",
    "        print(\"Please configure the data as two-dimensional (Sample * Channels)\")\n",
    "        sys.exit()\n",
    "        \n",
    "    return data\n",
    "\n",
    "# ============================================= Sequences data =======================================================\n",
    "def sequences_data(data, x_steps=6, y_steps=3, train_size=0.7, nfeatures=1):\n",
    "    # !============================================= Step 1: Split data ==============================================\n",
    "    # -------------------------------------------- Step 1.1: Check type data -----------------------------------------    \n",
    "    if 'DataFrame' not in str(type(data)):      \n",
    "        data = pd.DataFrame(data)\n",
    "    # ---------------------------------------- Step 1.2: Check dimensional data --------------------------------------\n",
    "    if data.ndim < 3:\n",
    "        if data.shape[0] < data.shape[1]:\n",
    "            data = data.T\n",
    "    elif data.ndim > 3:\n",
    "        print(\"Please configure the data as two-dimensional (Sample * Channels)\")\n",
    "        sys.exit()\n",
    "    # ----------------------------------------------- Step 1.3: split ------------------------------------------------   \n",
    "    n = math.floor(data.shape[0] * train_size)\n",
    "    data_train = data.iloc[0:n,:].values.reshape(-1,1)\n",
    "    data_test = data.iloc[data_train.shape[0]-x_steps:,:].values.reshape(-1,1)\n",
    "    # ?============================================== Step 2: Normalize ==============================================\n",
    "    mod = MinMaxScaler(feature_range=(0, 1))\n",
    "    # data_train = mod.fit_transform(data_train)\n",
    "    # data_test = mod.transform(data_test.reshape(-1,1))\n",
    "    # !============================================== Step 3: Sequences ==============================================\n",
    "    # --------------------------------------------- Step 3.1: Sequences x_train --------------------------------------\n",
    "    x_train = []\n",
    "    y_train = []\n",
    "    for i in range(x_steps, len(data_train)-y_steps+1):\n",
    "        x_train.append(data_train[i-x_steps:i, 0])\n",
    "        y_train.append(data_train[i:i+y_steps, 0])\n",
    "    x_train = np.array(x_train)\n",
    "    y_train = np.array(y_train)\n",
    "    x_train = x_train.reshape((x_train.shape[0], x_train.shape[1], nfeatures))\n",
    "    # -------------------------------------------- Step 3.2: Sequences x_test ----------------------------------------\n",
    "    x_test = []\n",
    "    y_test = []\n",
    "    for i in range(x_steps, len(data.iloc[n:,:])+x_steps-y_steps+1):\n",
    "        x_test.append(data_test[i-x_steps:i, 0])\n",
    "        y_test.append(data_test[i:i+y_steps, 0])\n",
    "\n",
    "    x_test = np.array(x_test)\n",
    "    x_test = x_test.reshape((x_test.shape[0], x_test.shape[1], 1))\n",
    "    y_test = np.array(y_test)\n",
    "    \n",
    "    return x_train, y_train, x_test, y_test, mod"
   ]
  },
  {
   "cell_type": "markdown",
   "metadata": {},
   "source": [
    "*Step 1.1: Load Data*"
   ]
  },
  {
   "cell_type": "code",
   "execution_count": 6,
   "metadata": {},
   "outputs": [],
   "source": [
    "data = sm.datasets.sunspots.load_pandas()  \n",
    "data = data.data[\"SUNACTIVITY\"]"
   ]
  },
  {
   "cell_type": "code",
   "execution_count": 9,
   "metadata": {},
   "outputs": [
    {
     "name": "stdout",
     "output_type": "stream",
     "text": [
      "data =      SUNACTIVITY\n",
      "0            5.0\n",
      "1           11.0\n",
      "2           16.0\n",
      "3           23.0\n",
      "4           36.0\n",
      "..           ...\n",
      "304         40.4\n",
      "305         29.8\n",
      "306         15.2\n",
      "307          7.5\n",
      "308          2.9\n",
      "\n",
      "[309 rows x 1 columns]\n",
      " \n"
     ]
    }
   ],
   "source": [
    "data = Prepare_data(data)\n",
    "print(f\"{data = }\")"
   ]
  },
  {
   "cell_type": "markdown",
   "metadata": {},
   "source": [
    "*Step 1.2: Plot data*"
   ]
  },
  {
   "cell_type": "code",
   "execution_count": 10,
   "metadata": {},
   "outputs": [
    {
     "data": {
      "image/png": "[encoded data removed]",
      "text/plain": [
       "<Figure size 500x300 with 1 Axes>"
      ]
     },
     "metadata": {},
     "output_type": "display_data"
    }
   ],
   "source": [
    "_, axs = plt.subplots(nrows=1,sharey='row', figsize=(5,3))\n",
    "axs.plot(data)\n",
    "axs.set_xlabel('', fontsize=10)\n",
    "axs.set_title(f\"\", fontsize=10)\n",
    "axs.set_ylabel('', fontsize=10)\n",
    "axs.autoscale(enable=True, axis=\"x\",tight=True)"
   ]
  },
  {
   "cell_type": "markdown",
   "metadata": {},
   "source": [
    "*Step 2: Sequences*"
   ]
  },
  {
   "cell_type": "code",
   "execution_count": 122,
   "metadata": {},
   "outputs": [],
   "source": [
    "x_train, y_train, x_test, y_test, mod = sequences_data(data, x_steps=6, y_steps=3, train_size=0.7, nfeatures=1)"
   ]
  },
  {
   "cell_type": "code",
   "execution_count": 130,
   "metadata": {},
   "outputs": [
    {
     "data": {
      "text/plain": [
       "(309, 1)"
      ]
     },
     "execution_count": 130,
     "metadata": {},
     "output_type": "execute_result"
    }
   ],
   "source": [
    "data.shape"
   ]
  },
  {
   "cell_type": "code",
   "execution_count": 132,
   "metadata": {},
   "outputs": [
    {
     "data": {
      "text/plain": [
       "-10"
      ]
     },
     "execution_count": 132,
     "metadata": {},
     "output_type": "execute_result"
    }
   ],
   "source": [
    "208+91-309"
   ]
  },
  {
   "cell_type": "markdown",
   "metadata": {},
   "source": [
    "**Recurrent Neural Networks (RNN)**<br/>\n",
    "*inputs $\\Rightarrow$ A 3D tensor, with shape [batch, timesteps, feature].*<br/>\n",
    "[Link](https://www.tensorflow.org/api_docs/python/tf/keras/layers/SimpleRNN)"
   ]
  },
  {
   "cell_type": "code",
   "execution_count": null,
   "metadata": {},
   "outputs": [],
   "source": []
  }
 ],
 "metadata": {
  "kernelspec": {
   "display_name": "Python 3",
   "language": "python",
   "name": "python3"
  },
  "language_info": {
   "codemirror_mode": {
    "name": "ipython",
    "version": 3
   },
   "file_extension": ".py",
   "mimetype": "text/x-python",
   "name": "python",
   "nbconvert_exporter": "python",
   "pygments_lexer": "ipython3",
   "version": "3.11.4"
  },
  "orig_nbformat": 4
 },
 "nbformat": 4,
 "nbformat_minor": 2
}
