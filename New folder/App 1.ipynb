{
 "cells": [
  {
   "cell_type": "markdown",
   "metadata": {},
   "source": [
    "Presented by: Reza Saadatyar 2022-2023<br/>\n",
    "E-mail: Reza.Saadatyar92@gmail.com<br/>\n",
    "[Link](https://github.com/RezaSaadatyar/Deep-Learning-in-python)"
   ]
  },
  {
   "cell_type": "markdown",
   "metadata": {},
   "source": [
    "**Recurrent Neurons and Layers**"
   ]
  },
  {
   "cell_type": "markdown",
   "metadata": {},
   "source": [
    "![Alt text](1.jpg)\n",
    "![Alt text](2.jpg)"
   ]
  },
  {
   "cell_type": "markdown",
   "metadata": {},
   "source": [
    "================================== Importing the required Libraries ==========================="
   ]
  },
  {
   "cell_type": "code",
   "execution_count": 2,
   "metadata": {},
   "outputs": [],
   "source": [
    "import os\n",
    "import sys\n",
    "import math \n",
    "import numpy as np\n",
    "import pandas as pd\n",
    "import yfinance as yf          # pip install yfinance\n",
    "import tensorflow as tf\n",
    "import statsmodels.api as sm\n",
    "import matplotlib.pyplot as plt\n",
    "from sklearn.preprocessing import MinMaxScaler\n",
    "from keras.models import Sequential\n",
    "from keras.layers import Dense, SimpleRNN"
   ]
  },
  {
   "cell_type": "markdown",
   "metadata": {},
   "source": [
    "========================================= Functions =================================="
   ]
  },
  {
   "cell_type": "code",
   "execution_count": 4,
   "metadata": {},
   "outputs": [],
   "source": [
    "# =============================================== Preparing data =====================================================\n",
    "def Prepare_data(data):  \n",
    "     # -------------------------------------------- Step 1.1: Check type data ----------------------------------------     \n",
    "    if 'DataFrame' not in str(type(data)):      \n",
    "        data = pd.DataFrame(data)\n",
    "    # ---------------------------------------- Step 1.2: Check dimensional data --------------------------------------\n",
    "    if data.ndim < 3:\n",
    "        if data.shape[0] < data.shape[1]:\n",
    "            data = data.T\n",
    "    elif data.ndim > 3:\n",
    "        print(\"Please configure the data as two-dimensional (Sample * Channels)\")\n",
    "        sys.exit()\n",
    "        \n",
    "    return data\n",
    "\n",
    "# ============================================= Sequences data =======================================================\n",
    "def sequences_data(data, x_steps=6, y_steps=3, train_size=0.7, nfeatures=1):\n",
    "    # !============================================= Step 1: Split data ==============================================\n",
    "    # -------------------------------------------- Step 1.1: Check type data -----------------------------------------    \n",
    "    if 'DataFrame' not in str(type(data)):      \n",
    "        data = pd.DataFrame(data)\n",
    "    # ---------------------------------------- Step 1.2: Check dimensional data --------------------------------------\n",
    "    if data.ndim < 3:\n",
    "        if data.shape[0] < data.shape[1]:\n",
    "            data = data.T\n",
    "    elif data.ndim > 3:\n",
    "        print(\"Please configure the data as two-dimensional (Sample * Channels)\")\n",
    "        sys.exit()\n",
    "    # ----------------------------------------------- Step 1.3: split ------------------------------------------------   \n",
    "    n = math.floor(data.shape[0] * train_size)\n",
    "    data_train = data.iloc[0:n,:].values.reshape(-1,1)\n",
    "    data_test = data.iloc[data_train.shape[0]-x_steps:,:].values.reshape(-1,1)\n",
    "    # !============================================== Step 2: Normalize ==============================================\n",
    "    mod = MinMaxScaler(feature_range=(0, 1))\n",
    "    # data_train = mod.fit_transform(data_train)\n",
    "    # data_test = mod.transform(data_test.reshape(-1,1))\n",
    "    # !============================================== Step 3: Sequences ==============================================\n",
    "    # --------------------------------------------- Step 3.1: Sequences x_train --------------------------------------\n",
    "    x_train = []\n",
    "    y_train = []\n",
    "    for i in range(x_steps, len(data_train)-y_steps+1):\n",
    "        x_train.append(data_train[i-x_steps:i, 0])\n",
    "        y_train.append(data_train[i:i+y_steps, 0])\n",
    "    x_train = np.array(x_train)\n",
    "    y_train = np.array(y_train)\n",
    "    x_train = x_train.reshape((x_train.shape[0], x_train.shape[1], nfeatures))\n",
    "    # -------------------------------------------- Step 3.2: Sequences x_test ----------------------------------------\n",
    "    x_test = []\n",
    "    y_test = []\n",
    "    for i in range(x_steps, len(data.iloc[n:,:])+x_steps-y_steps+1):\n",
    "        x_test.append(data_test[i-x_steps:i, 0])\n",
    "        y_test.append(data_test[i:i+y_steps, 0])\n",
    "\n",
    "    x_test = np.array(x_test)\n",
    "    y_test = np.array(y_test)\n",
    "    \n",
    "    x_test = x_test.reshape((x_test.shape[0], x_test.shape[1], 1))\n",
    "    \n",
    "    return x_train, y_train, x_test, y_test, mod"
   ]
  },
  {
   "cell_type": "markdown",
   "metadata": {},
   "source": [
    "*Step 1.1: Load Data*"
   ]
  },
  {
   "cell_type": "code",
   "execution_count": 5,
   "metadata": {},
   "outputs": [],
   "source": [
    "data = sm.datasets.sunspots.load_pandas()  \n",
    "data = data.data[\"SUNACTIVITY\"]"
   ]
  },
  {
   "cell_type": "code",
   "execution_count": 6,
   "metadata": {},
   "outputs": [
    {
     "name": "stdout",
     "output_type": "stream",
     "text": [
      "data =      SUNACTIVITY\n",
      "0            5.0\n",
      "1           11.0\n",
      "2           16.0\n",
      "3           23.0\n",
      "4           36.0\n",
      "..           ...\n",
      "304         40.4\n",
      "305         29.8\n",
      "306         15.2\n",
      "307          7.5\n",
      "308          2.9\n",
      "\n",
      "[309 rows x 1 columns]\n"
     ]
    }
   ],
   "source": [
    "data = Prepare_data(data)\n",
    "print(f\"{data = }\")"
   ]
  },
  {
   "cell_type": "markdown",
   "metadata": {},
   "source": [
    "*Step 1.2: Plot data*"
   ]
  },
  {
   "cell_type": "code",
   "execution_count": 7,
   "metadata": {},
   "outputs": [
    {
     "data": {
      "image/png": "[encoded data removed]",
      "text/plain": [
       "<Figure size 500x300 with 1 Axes>"
      ]
     },
     "metadata": {},
     "output_type": "display_data"
    }
   ],
   "source": [
    "_, axs = plt.subplots(nrows=1,sharey='row', figsize=(5,3))\n",
    "axs.plot(data)\n",
    "axs.set_xlabel('', fontsize=10)\n",
    "axs.set_title(f\"\", fontsize=10)\n",
    "axs.set_ylabel('', fontsize=10)\n",
    "axs.autoscale(enable=True, axis=\"x\",tight=True)"
   ]
  },
  {
   "cell_type": "markdown",
   "metadata": {},
   "source": [
    "*Step 2: Sequences*"
   ]
  },
  {
   "cell_type": "code",
   "execution_count": 37,
   "metadata": {},
   "outputs": [],
   "source": [
    "x_steps = 6\n",
    "y_steps = 2\n",
    "x_train, y_train, x_test, y_test, mod = sequences_data(data, x_steps, y_steps, train_size=0.6, nfeatures=1)"
   ]
  },
  {
   "cell_type": "markdown",
   "metadata": {},
   "source": [
    "*Step 3: Creating a Sequential model:*<br/>\n",
    "[Sequential model](https://keras.io/guides/sequential_model/)<br/>\n",
    "[Dense layer](https://keras.io/api/layers/core_layers/dense/)<br/>\n",
    "[Activation functions](https://keras.io/api/layers/activations/)<br/>\n",
    "[Flatten layer](https://keras.io/api/layers/reshaping_layers/flatten/)<br/>\n",
    "\n",
    "*Step 3.1: Simple Recurrent Neural Networks ([RNN](https://www.tensorflow.org/api_docs/python/tf/keras/layers/SimpleRNN))-Model*<br/>\n",
    "*inputs $\\Rightarrow$ A 3D tensor, with shape [batch, timesteps, feature].*"
   ]
  },
  {
   "cell_type": "code",
   "execution_count": 38,
   "metadata": {},
   "outputs": [
    {
     "data": {
      "text/plain": [
       "[<keras.src.layers.rnn.simple_rnn.SimpleRNN at 0x2311f4c6d10>,\n",
       " <keras.src.layers.rnn.simple_rnn.SimpleRNN at 0x2311f4d2990>,\n",
       " <keras.src.layers.core.dense.Dense at 0x2311d340110>]"
      ]
     },
     "execution_count": 38,
     "metadata": {},
     "output_type": "execute_result"
    }
   ],
   "source": [
    "simple_rnn_mod = Sequential([SimpleRNN(50, return_sequences=True),\n",
    "                            SimpleRNN(50),\n",
    "                            Dense(y_steps)])\n",
    "simple_rnn_mod.layers                                 # Print the model parameters"
   ]
  },
  {
   "cell_type": "markdown",
   "metadata": {},
   "source": [
    "*Step 3.2: [Model compile](https://keras.io/api/models/model_training_apis/)*<br/>\n",
    "[Metrics](https://keras.io/api/metrics/regression_metrics/)<br/>"
   ]
  },
  {
   "cell_type": "code",
   "execution_count": 39,
   "metadata": {},
   "outputs": [],
   "source": [
    "simple_rnn_mod.compile(optimizer=\"adam\", loss=\"mean_squared_error\", metrics=[\"mean_absolute_error\"])  # Regression:mean_squared_error"
   ]
  },
  {
   "cell_type": "markdown",
   "metadata": {},
   "source": [
    "*Step 3.3: Fit Model*<br/>\n",
    "[Fit method](https://keras.io/api/models/model_training_apis/)"
   ]
  },
  {
   "cell_type": "code",
   "execution_count": 41,
   "metadata": {},
   "outputs": [
    {
     "name": "stdout",
     "output_type": "stream",
     "text": [
      "Epoch 1/100\n",
      "5/5 [==============================] - 0s 69ms/step - loss: 1491.6122 - mean_absolute_error: 27.3089 - val_loss: 1867.9744 - val_mean_absolute_error: 34.4865\n",
      "Epoch 2/100\n",
      "5/5 [==============================] - 0s 24ms/step - loss: 1485.1669 - mean_absolute_error: 27.2437 - val_loss: 1858.7491 - val_mean_absolute_error: 34.3615\n",
      "Epoch 3/100\n",
      "5/5 [==============================] - 0s 22ms/step - loss: 1478.6274 - mean_absolute_error: 27.2078 - val_loss: 1851.6671 - val_mean_absolute_error: 34.3642\n",
      "Epoch 4/100\n",
      "5/5 [==============================] - 0s 19ms/step - loss: 1471.1907 - mean_absolute_error: 27.1475 - val_loss: 1843.1753 - val_mean_absolute_error: 34.2706\n",
      "Epoch 5/100\n",
      "5/5 [==============================] - 0s 20ms/step - loss: 1464.2742 - mean_absolute_error: 27.0726 - val_loss: 1834.3115 - val_mean_absolute_error: 34.1523\n",
      "Epoch 6/100\n",
      "5/5 [==============================] - 0s 17ms/step - loss: 1457.7209 - mean_absolute_error: 27.0193 - val_loss: 1826.5454 - val_mean_absolute_error: 34.1152\n",
      "Epoch 7/100\n",
      "5/5 [==============================] - 0s 17ms/step - loss: 1451.1199 - mean_absolute_error: 26.9809 - val_loss: 1820.1829 - val_mean_absolute_error: 34.0636\n",
      "Epoch 8/100\n",
      "5/5 [==============================] - 0s 17ms/step - loss: 1445.1724 - mean_absolute_error: 26.9249 - val_loss: 1812.3132 - val_mean_absolute_error: 33.9535\n",
      "Epoch 9/100\n",
      "5/5 [==============================] - 0s 16ms/step - loss: 1438.7277 - mean_absolute_error: 26.8660 - val_loss: 1804.7047 - val_mean_absolute_error: 33.9036\n",
      "Epoch 10/100\n",
      "5/5 [==============================] - 0s 17ms/step - loss: 1432.2665 - mean_absolute_error: 26.8138 - val_loss: 1796.3289 - val_mean_absolute_error: 33.8173\n",
      "Epoch 11/100\n",
      "5/5 [==============================] - 0s 17ms/step - loss: 1426.1993 - mean_absolute_error: 26.7609 - val_loss: 1789.5062 - val_mean_absolute_error: 33.7460\n",
      "Epoch 12/100\n",
      "5/5 [==============================] - 0s 16ms/step - loss: 1421.0955 - mean_absolute_error: 26.7467 - val_loss: 1784.3698 - val_mean_absolute_error: 33.7653\n",
      "Epoch 13/100\n",
      "5/5 [==============================] - 0s 15ms/step - loss: 1414.4541 - mean_absolute_error: 26.6917 - val_loss: 1776.0317 - val_mean_absolute_error: 33.6187\n",
      "Epoch 14/100\n",
      "5/5 [==============================] - 0s 16ms/step - loss: 1408.3080 - mean_absolute_error: 26.6162 - val_loss: 1771.7306 - val_mean_absolute_error: 33.6172\n",
      "Epoch 15/100\n",
      "5/5 [==============================] - 0s 15ms/step - loss: 1402.5496 - mean_absolute_error: 26.5793 - val_loss: 1761.5616 - val_mean_absolute_error: 33.5013\n",
      "Epoch 16/100\n",
      "5/5 [==============================] - 0s 20ms/step - loss: 1396.9821 - mean_absolute_error: 26.5396 - val_loss: 1756.5292 - val_mean_absolute_error: 33.4884\n",
      "Epoch 17/100\n",
      "5/5 [==============================] - 0s 16ms/step - loss: 1391.7067 - mean_absolute_error: 26.4885 - val_loss: 1751.7268 - val_mean_absolute_error: 33.4003\n",
      "Epoch 18/100\n",
      "5/5 [==============================] - 0s 43ms/step - loss: 1385.3848 - mean_absolute_error: 26.4141 - val_loss: 1744.4757 - val_mean_absolute_error: 33.3725\n",
      "Epoch 19/100\n",
      "5/5 [==============================] - 0s 19ms/step - loss: 1380.3165 - mean_absolute_error: 26.4027 - val_loss: 1737.0542 - val_mean_absolute_error: 33.3394\n",
      "Epoch 20/100\n",
      "5/5 [==============================] - 0s 17ms/step - loss: 1373.9717 - mean_absolute_error: 26.3646 - val_loss: 1728.3718 - val_mean_absolute_error: 33.2058\n",
      "Epoch 21/100\n",
      "5/5 [==============================] - 0s 20ms/step - loss: 1369.2928 - mean_absolute_error: 26.2987 - val_loss: 1720.5974 - val_mean_absolute_error: 33.1265\n",
      "Epoch 22/100\n",
      "5/5 [==============================] - 0s 17ms/step - loss: 1363.4298 - mean_absolute_error: 26.2553 - val_loss: 1718.6266 - val_mean_absolute_error: 33.2033\n",
      "Epoch 23/100\n",
      "5/5 [==============================] - 0s 19ms/step - loss: 1358.7812 - mean_absolute_error: 26.2560 - val_loss: 1712.7703 - val_mean_absolute_error: 33.1527\n",
      "Epoch 24/100\n",
      "5/5 [==============================] - 0s 18ms/step - loss: 1353.0599 - mean_absolute_error: 26.1885 - val_loss: 1702.7045 - val_mean_absolute_error: 33.0109\n",
      "Epoch 25/100\n",
      "5/5 [==============================] - 0s 17ms/step - loss: 1347.9637 - mean_absolute_error: 26.1157 - val_loss: 1695.9885 - val_mean_absolute_error: 32.9061\n",
      "Epoch 26/100\n",
      "5/5 [==============================] - 0s 17ms/step - loss: 1341.7426 - mean_absolute_error: 26.0539 - val_loss: 1692.9829 - val_mean_absolute_error: 32.9347\n",
      "Epoch 27/100\n",
      "5/5 [==============================] - 0s 17ms/step - loss: 1336.7014 - mean_absolute_error: 26.0324 - val_loss: 1684.2319 - val_mean_absolute_error: 32.8621\n",
      "Epoch 28/100\n",
      "5/5 [==============================] - 0s 21ms/step - loss: 1331.5133 - mean_absolute_error: 25.9762 - val_loss: 1678.0708 - val_mean_absolute_error: 32.7715\n",
      "Epoch 29/100\n",
      "5/5 [==============================] - 0s 19ms/step - loss: 1326.2516 - mean_absolute_error: 25.9217 - val_loss: 1669.3387 - val_mean_absolute_error: 32.7044\n",
      "Epoch 30/100\n",
      "5/5 [==============================] - 0s 21ms/step - loss: 1320.7075 - mean_absolute_error: 25.8886 - val_loss: 1662.6060 - val_mean_absolute_error: 32.6578\n",
      "Epoch 31/100\n",
      "5/5 [==============================] - 0s 18ms/step - loss: 1316.0663 - mean_absolute_error: 25.8677 - val_loss: 1656.5986 - val_mean_absolute_error: 32.6100\n",
      "Epoch 32/100\n",
      "5/5 [==============================] - 0s 17ms/step - loss: 1311.1027 - mean_absolute_error: 25.8037 - val_loss: 1653.5679 - val_mean_absolute_error: 32.5708\n",
      "Epoch 33/100\n",
      "5/5 [==============================] - 0s 17ms/step - loss: 1306.5944 - mean_absolute_error: 25.7538 - val_loss: 1648.7318 - val_mean_absolute_error: 32.5748\n",
      "Epoch 34/100\n",
      "5/5 [==============================] - 0s 19ms/step - loss: 1301.0166 - mean_absolute_error: 25.7152 - val_loss: 1643.2413 - val_mean_absolute_error: 32.5348\n",
      "Epoch 35/100\n",
      "5/5 [==============================] - 0s 19ms/step - loss: 1296.5416 - mean_absolute_error: 25.6817 - val_loss: 1636.4521 - val_mean_absolute_error: 32.4564\n",
      "Epoch 36/100\n",
      "5/5 [==============================] - 0s 17ms/step - loss: 1291.7577 - mean_absolute_error: 25.6402 - val_loss: 1630.6194 - val_mean_absolute_error: 32.4141\n",
      "Epoch 37/100\n",
      "5/5 [==============================] - 0s 17ms/step - loss: 1287.4053 - mean_absolute_error: 25.5912 - val_loss: 1627.9783 - val_mean_absolute_error: 32.4083\n",
      "Epoch 38/100\n",
      "5/5 [==============================] - 0s 16ms/step - loss: 1282.1952 - mean_absolute_error: 25.5393 - val_loss: 1618.8693 - val_mean_absolute_error: 32.3298\n",
      "Epoch 39/100\n",
      "5/5 [==============================] - 0s 27ms/step - loss: 1276.5455 - mean_absolute_error: 25.4834 - val_loss: 1611.8976 - val_mean_absolute_error: 32.2354\n",
      "Epoch 40/100\n",
      "5/5 [==============================] - 0s 24ms/step - loss: 1270.9000 - mean_absolute_error: 25.3970 - val_loss: 1606.1886 - val_mean_absolute_error: 32.1870\n",
      "Epoch 41/100\n",
      "5/5 [==============================] - 0s 19ms/step - loss: 1264.8986 - mean_absolute_error: 25.3159 - val_loss: 1596.6198 - val_mean_absolute_error: 32.0624\n",
      "Epoch 42/100\n",
      "5/5 [==============================] - 0s 19ms/step - loss: 1260.5095 - mean_absolute_error: 25.2841 - val_loss: 1589.3258 - val_mean_absolute_error: 31.9632\n",
      "Epoch 43/100\n",
      "5/5 [==============================] - 0s 16ms/step - loss: 1254.3914 - mean_absolute_error: 25.1900 - val_loss: 1585.8447 - val_mean_absolute_error: 31.9310\n",
      "Epoch 44/100\n",
      "5/5 [==============================] - 0s 17ms/step - loss: 1249.0267 - mean_absolute_error: 25.1291 - val_loss: 1577.9725 - val_mean_absolute_error: 31.8482\n",
      "Epoch 45/100\n",
      "5/5 [==============================] - 0s 22ms/step - loss: 1244.0957 - mean_absolute_error: 25.0774 - val_loss: 1575.2764 - val_mean_absolute_error: 31.8408\n",
      "Epoch 46/100\n",
      "5/5 [==============================] - 0s 23ms/step - loss: 1238.8784 - mean_absolute_error: 24.9840 - val_loss: 1570.7850 - val_mean_absolute_error: 31.7966\n",
      "Epoch 47/100\n",
      "5/5 [==============================] - 0s 18ms/step - loss: 1233.9657 - mean_absolute_error: 24.9409 - val_loss: 1564.6085 - val_mean_absolute_error: 31.7108\n",
      "Epoch 48/100\n",
      "5/5 [==============================] - 0s 19ms/step - loss: 1228.7950 - mean_absolute_error: 24.8835 - val_loss: 1559.7018 - val_mean_absolute_error: 31.6717\n",
      "Epoch 49/100\n",
      "5/5 [==============================] - 0s 21ms/step - loss: 1224.0548 - mean_absolute_error: 24.8337 - val_loss: 1557.4779 - val_mean_absolute_error: 31.6868\n",
      "Epoch 50/100\n",
      "5/5 [==============================] - 0s 34ms/step - loss: 1218.9310 - mean_absolute_error: 24.7676 - val_loss: 1551.2649 - val_mean_absolute_error: 31.6035\n",
      "Epoch 51/100\n",
      "5/5 [==============================] - 0s 21ms/step - loss: 1213.6853 - mean_absolute_error: 24.7105 - val_loss: 1541.2593 - val_mean_absolute_error: 31.4662\n",
      "Epoch 52/100\n",
      "5/5 [==============================] - 0s 19ms/step - loss: 1206.7367 - mean_absolute_error: 24.5833 - val_loss: 1537.9534 - val_mean_absolute_error: 31.4232\n",
      "Epoch 53/100\n",
      "5/5 [==============================] - 0s 18ms/step - loss: 1200.5505 - mean_absolute_error: 24.4496 - val_loss: 1531.8724 - val_mean_absolute_error: 31.3326\n",
      "Epoch 54/100\n",
      "5/5 [==============================] - 0s 16ms/step - loss: 1194.1771 - mean_absolute_error: 24.3664 - val_loss: 1521.9396 - val_mean_absolute_error: 31.1818\n",
      "Epoch 55/100\n",
      "5/5 [==============================] - 0s 19ms/step - loss: 1188.0439 - mean_absolute_error: 24.3060 - val_loss: 1513.2393 - val_mean_absolute_error: 31.0562\n",
      "Epoch 56/100\n",
      "5/5 [==============================] - 0s 18ms/step - loss: 1183.3069 - mean_absolute_error: 24.2299 - val_loss: 1510.1108 - val_mean_absolute_error: 31.0108\n",
      "Epoch 57/100\n",
      "5/5 [==============================] - 0s 16ms/step - loss: 1175.8339 - mean_absolute_error: 24.1269 - val_loss: 1495.4712 - val_mean_absolute_error: 30.8234\n",
      "Epoch 58/100\n",
      "5/5 [==============================] - 0s 15ms/step - loss: 1169.9874 - mean_absolute_error: 24.0425 - val_loss: 1498.4541 - val_mean_absolute_error: 30.8712\n",
      "Epoch 59/100\n",
      "5/5 [==============================] - 0s 14ms/step - loss: 1163.4888 - mean_absolute_error: 23.9145 - val_loss: 1493.9828 - val_mean_absolute_error: 30.8134\n",
      "Epoch 60/100\n",
      "5/5 [==============================] - 0s 19ms/step - loss: 1158.9292 - mean_absolute_error: 23.8634 - val_loss: 1485.5765 - val_mean_absolute_error: 30.7033\n",
      "Epoch 61/100\n",
      "5/5 [==============================] - 0s 16ms/step - loss: 1153.8434 - mean_absolute_error: 23.7914 - val_loss: 1484.2467 - val_mean_absolute_error: 30.7058\n",
      "Epoch 62/100\n",
      "5/5 [==============================] - 0s 16ms/step - loss: 1148.4844 - mean_absolute_error: 23.7310 - val_loss: 1475.2561 - val_mean_absolute_error: 30.5960\n",
      "Epoch 63/100\n",
      "5/5 [==============================] - 0s 17ms/step - loss: 1143.3959 - mean_absolute_error: 23.6824 - val_loss: 1472.0061 - val_mean_absolute_error: 30.5467\n",
      "Epoch 64/100\n",
      "5/5 [==============================] - 0s 16ms/step - loss: 1139.1249 - mean_absolute_error: 23.6391 - val_loss: 1474.4268 - val_mean_absolute_error: 30.5986\n",
      "Epoch 65/100\n",
      "5/5 [==============================] - 0s 17ms/step - loss: 1133.4401 - mean_absolute_error: 23.5162 - val_loss: 1468.8234 - val_mean_absolute_error: 30.5208\n",
      "Epoch 66/100\n",
      "5/5 [==============================] - 0s 16ms/step - loss: 1127.5535 - mean_absolute_error: 23.4509 - val_loss: 1455.0374 - val_mean_absolute_error: 30.3267\n",
      "Epoch 67/100\n",
      "5/5 [==============================] - 0s 17ms/step - loss: 1120.8339 - mean_absolute_error: 23.3356 - val_loss: 1462.6094 - val_mean_absolute_error: 30.3964\n",
      "Epoch 68/100\n",
      "5/5 [==============================] - 0s 17ms/step - loss: 1114.2496 - mean_absolute_error: 23.1703 - val_loss: 1456.7919 - val_mean_absolute_error: 30.2750\n",
      "Epoch 69/100\n",
      "5/5 [==============================] - 0s 17ms/step - loss: 1108.2493 - mean_absolute_error: 23.0661 - val_loss: 1447.3376 - val_mean_absolute_error: 30.1126\n",
      "Epoch 70/100\n",
      "5/5 [==============================] - 0s 17ms/step - loss: 1101.8380 - mean_absolute_error: 22.9578 - val_loss: 1436.7229 - val_mean_absolute_error: 29.9465\n",
      "Epoch 71/100\n",
      "5/5 [==============================] - 0s 18ms/step - loss: 1094.1141 - mean_absolute_error: 22.7947 - val_loss: 1428.3458 - val_mean_absolute_error: 29.7592\n",
      "Epoch 72/100\n",
      "5/5 [==============================] - 0s 16ms/step - loss: 1086.6973 - mean_absolute_error: 22.6467 - val_loss: 1416.9602 - val_mean_absolute_error: 29.6072\n",
      "Epoch 73/100\n",
      "5/5 [==============================] - 0s 17ms/step - loss: 1080.9636 - mean_absolute_error: 22.5741 - val_loss: 1407.1744 - val_mean_absolute_error: 29.4830\n",
      "Epoch 74/100\n",
      "5/5 [==============================] - 0s 16ms/step - loss: 1074.6930 - mean_absolute_error: 22.5040 - val_loss: 1403.5853 - val_mean_absolute_error: 29.4343\n",
      "Epoch 75/100\n",
      "5/5 [==============================] - 0s 25ms/step - loss: 1068.9724 - mean_absolute_error: 22.4167 - val_loss: 1396.3627 - val_mean_absolute_error: 29.3487\n",
      "Epoch 76/100\n",
      "5/5 [==============================] - 0s 17ms/step - loss: 1062.5208 - mean_absolute_error: 22.3048 - val_loss: 1391.5830 - val_mean_absolute_error: 29.2512\n",
      "Epoch 77/100\n",
      "5/5 [==============================] - 0s 17ms/step - loss: 1055.6431 - mean_absolute_error: 22.1624 - val_loss: 1387.2841 - val_mean_absolute_error: 29.1423\n",
      "Epoch 78/100\n",
      "5/5 [==============================] - 0s 40ms/step - loss: 1049.7831 - mean_absolute_error: 22.0656 - val_loss: 1384.1335 - val_mean_absolute_error: 29.1088\n",
      "Epoch 79/100\n",
      "5/5 [==============================] - 0s 18ms/step - loss: 1044.1858 - mean_absolute_error: 21.9873 - val_loss: 1369.5494 - val_mean_absolute_error: 28.9261\n",
      "Epoch 80/100\n",
      "5/5 [==============================] - 0s 17ms/step - loss: 1039.1620 - mean_absolute_error: 21.9474 - val_loss: 1366.0393 - val_mean_absolute_error: 28.8677\n",
      "Epoch 81/100\n",
      "5/5 [==============================] - 0s 17ms/step - loss: 1035.0045 - mean_absolute_error: 21.8958 - val_loss: 1360.8483 - val_mean_absolute_error: 28.8035\n",
      "Epoch 82/100\n",
      "5/5 [==============================] - 0s 15ms/step - loss: 1030.0107 - mean_absolute_error: 21.8255 - val_loss: 1360.6719 - val_mean_absolute_error: 28.7865\n",
      "Epoch 83/100\n",
      "5/5 [==============================] - 0s 17ms/step - loss: 1025.8524 - mean_absolute_error: 21.8010 - val_loss: 1349.3828 - val_mean_absolute_error: 28.6460\n",
      "Epoch 84/100\n",
      "5/5 [==============================] - 0s 18ms/step - loss: 1021.8184 - mean_absolute_error: 21.8019 - val_loss: 1339.9532 - val_mean_absolute_error: 28.5939\n",
      "Epoch 85/100\n",
      "5/5 [==============================] - 0s 17ms/step - loss: 1016.5889 - mean_absolute_error: 21.7146 - val_loss: 1344.6552 - val_mean_absolute_error: 28.6068\n",
      "Epoch 86/100\n",
      "5/5 [==============================] - 0s 16ms/step - loss: 1012.9641 - mean_absolute_error: 21.6811 - val_loss: 1335.5386 - val_mean_absolute_error: 28.4829\n",
      "Epoch 87/100\n",
      "5/5 [==============================] - 0s 16ms/step - loss: 1007.9849 - mean_absolute_error: 21.6345 - val_loss: 1323.0225 - val_mean_absolute_error: 28.3115\n",
      "Epoch 88/100\n",
      "5/5 [==============================] - 0s 15ms/step - loss: 1004.2839 - mean_absolute_error: 21.6146 - val_loss: 1315.5907 - val_mean_absolute_error: 28.2280\n",
      "Epoch 89/100\n",
      "5/5 [==============================] - 0s 17ms/step - loss: 1000.4922 - mean_absolute_error: 21.5877 - val_loss: 1315.8605 - val_mean_absolute_error: 28.2199\n",
      "Epoch 90/100\n",
      "5/5 [==============================] - 0s 15ms/step - loss: 996.1896 - mean_absolute_error: 21.5362 - val_loss: 1312.2850 - val_mean_absolute_error: 28.1742\n",
      "Epoch 91/100\n",
      "5/5 [==============================] - 0s 17ms/step - loss: 992.1771 - mean_absolute_error: 21.5027 - val_loss: 1310.8032 - val_mean_absolute_error: 28.1579\n",
      "Epoch 92/100\n",
      "5/5 [==============================] - 0s 16ms/step - loss: 988.8636 - mean_absolute_error: 21.4944 - val_loss: 1302.9828 - val_mean_absolute_error: 28.0564\n",
      "Epoch 93/100\n",
      "5/5 [==============================] - 0s 17ms/step - loss: 984.0515 - mean_absolute_error: 21.4290 - val_loss: 1297.5266 - val_mean_absolute_error: 28.0279\n",
      "Epoch 94/100\n",
      "5/5 [==============================] - 0s 16ms/step - loss: 980.8531 - mean_absolute_error: 21.4239 - val_loss: 1296.2866 - val_mean_absolute_error: 27.9785\n",
      "Epoch 95/100\n",
      "5/5 [==============================] - 0s 15ms/step - loss: 976.5126 - mean_absolute_error: 21.3743 - val_loss: 1288.5258 - val_mean_absolute_error: 27.8707\n",
      "Epoch 96/100\n",
      "5/5 [==============================] - 0s 20ms/step - loss: 972.7750 - mean_absolute_error: 21.3346 - val_loss: 1282.9536 - val_mean_absolute_error: 27.7988\n",
      "Epoch 97/100\n",
      "5/5 [==============================] - 0s 15ms/step - loss: 969.5369 - mean_absolute_error: 21.3182 - val_loss: 1277.0940 - val_mean_absolute_error: 27.6970\n",
      "Epoch 98/100\n",
      "5/5 [==============================] - 0s 25ms/step - loss: 965.2390 - mean_absolute_error: 21.2628 - val_loss: 1275.5563 - val_mean_absolute_error: 27.6719\n",
      "Epoch 99/100\n",
      "5/5 [==============================] - 0s 16ms/step - loss: 962.1943 - mean_absolute_error: 21.2604 - val_loss: 1269.9742 - val_mean_absolute_error: 27.5997\n",
      "Epoch 100/100\n",
      "5/5 [==============================] - 0s 17ms/step - loss: 958.5460 - mean_absolute_error: 21.2416 - val_loss: 1264.3469 - val_mean_absolute_error: 27.5311\n"
     ]
    }
   ],
   "source": [
    "history_train = simple_rnn_mod.fit(x_train, y_train, epochs=100, validation_split=0.15)"
   ]
  },
  {
   "cell_type": "markdown",
   "metadata": {},
   "source": [
    "*Step 3.4: prediction*"
   ]
  },
  {
   "cell_type": "code",
   "execution_count": 50,
   "metadata": {},
   "outputs": [
    {
     "name": "stdout",
     "output_type": "stream",
     "text": [
      "6/6 [==============================] - 0s 3ms/step\n",
      "4/4 [==============================] - 0s 3ms/step\n"
     ]
    },
    {
     "data": {
      "text/plain": [
       "((178, 2), (123, 2))"
      ]
     },
     "execution_count": 50,
     "metadata": {},
     "output_type": "execute_result"
    }
   ],
   "source": [
    "pred_train = simple_rnn_mod.predict(x_train)\n",
    "pred_test = simple_rnn_mod.predict(x_test)\n",
    "pred_train.shape, pred_test.shape"
   ]
  },
  {
   "cell_type": "code",
   "execution_count": 86,
   "metadata": {},
   "outputs": [
    {
     "data": {
      "image/png": "[encoded data removed]",
      "text/plain": [
       "<Figure size 800x300 with 2 Axes>"
      ]
     },
     "metadata": {},
     "output_type": "display_data"
    }
   ],
   "source": [
    "_, axs = plt.subplots(nrows=1, ncols=2, sharey='row', figsize=(8, 3))\n",
    "# axs[0].plot(data.iloc[0:pred_train.shape[0],:], label='Train data')\n",
    "axs[0].plot(data.index[:pred_train.shape[0]], x_train[:,0], label='Train data')\n",
    "axs[0].plot(data.index[:pred_train.shape[0]], pred_train[:,0], label='Estimate')\n",
    "plt.legend('On')\n",
    "axs[0].autoscale(enable=True, axis=\"x\",tight=True)"
   ]
  },
  {
   "cell_type": "code",
   "execution_count": 85,
   "metadata": {},
   "outputs": [
    {
     "data": {
      "text/plain": [
       "RangeIndex(start=0, stop=178, step=1)"
      ]
     },
     "execution_count": 85,
     "metadata": {},
     "output_type": "execute_result"
    }
   ],
   "source": [
    "data.index[:pred_train.shape[0]]"
   ]
  },
  {
   "cell_type": "code",
   "execution_count": 80,
   "metadata": {},
   "outputs": [
    {
     "data": {
      "text/plain": [
       "pandas.core.frame.DataFrame"
      ]
     },
     "execution_count": 80,
     "metadata": {},
     "output_type": "execute_result"
    }
   ],
   "source": [
    "type(data)"
   ]
  },
  {
   "cell_type": "code",
   "execution_count": 43,
   "metadata": {},
   "outputs": [
    {
     "data": {
      "text/plain": [
       "(123, 6, 1)"
      ]
     },
     "execution_count": 43,
     "metadata": {},
     "output_type": "execute_result"
    }
   ],
   "source": [
    "def prediction_plot(predictions):\n",
    "        \n",
    "        axs.plot(data)\n",
    "        axs.set_xlabel('', fontsize=10)\n",
    "        axs.set_title(f\"\", fontsize=10)\n",
    "        axs.set_ylabel('', fontsize=10)\n",
    "        \n",
    "\n",
    "  fig, ax = plt.subplots()\n",
    "  ax.plot(df[\"2021\":].index[:len(y_test)],\n",
    "          sc.inverse_transform(y_test[:, 0].reshape(-1, 1)), label=\"Real\")\n",
    "  ax.plot(df[\"2021\":].index[:len(y_test)],\n",
    "          sc.inverse_transform(predictions[:, 0].reshape(-1, 1)), "
   ]
  }
 ],
 "metadata": {
  "kernelspec": {
   "display_name": "Python 3",
   "language": "python",
   "name": "python3"
  },
  "language_info": {
   "codemirror_mode": {
    "name": "ipython",
    "version": 3
   },
   "file_extension": ".py",
   "mimetype": "text/x-python",
   "name": "python",
   "nbconvert_exporter": "python",
   "pygments_lexer": "ipython3",
   "version": "3.11.4"
  },
  "orig_nbformat": 4
 },
 "nbformat": 4,
 "nbformat_minor": 2
}
