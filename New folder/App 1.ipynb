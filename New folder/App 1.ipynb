{
 "cells": [
  {
   "cell_type": "markdown",
   "metadata": {},
   "source": [
    "Presented by: Reza Saadatyar 2022-2023<br/>\n",
    "E-mail: Reza.Saadatyar92@gmail.com<br/>\n",
    "[Link](https://github.com/RezaSaadatyar/Deep-Learning-in-python)"
   ]
  },
  {
   "cell_type": "markdown",
   "metadata": {},
   "source": [
    "**Recurrent Neurons and Layers**"
   ]
  },
  {
   "cell_type": "markdown",
   "metadata": {},
   "source": [
    "![Alt text](1.jpg)\n",
    "![Alt text](2.jpg)"
   ]
  },
  {
   "cell_type": "markdown",
   "metadata": {},
   "source": [
    "================================== Importing the required Libraries ==========================="
   ]
  },
  {
   "cell_type": "code",
   "execution_count": 2,
   "metadata": {},
   "outputs": [],
   "source": [
    "import os\n",
    "import sys\n",
    "import math \n",
    "import numpy as np\n",
    "import pandas as pd\n",
    "import yfinance as yf          # pip install yfinance\n",
    "import tensorflow as tf\n",
    "import statsmodels.api as sm\n",
    "import matplotlib.pyplot as plt\n",
    "from sklearn.preprocessing import MinMaxScaler\n",
    "from keras.models import Sequential\n",
    "from keras.layers import Dense, SimpleRNN"
   ]
  },
  {
   "cell_type": "markdown",
   "metadata": {},
   "source": [
    "========================================= Functions =================================="
   ]
  },
  {
   "cell_type": "code",
   "execution_count": 4,
   "metadata": {},
   "outputs": [],
   "source": [
    "# =============================================== Preparing data =====================================================\n",
    "def Prepare_data(data):  \n",
    "     # -------------------------------------------- Step 1.1: Check type data ----------------------------------------     \n",
    "    if 'DataFrame' not in str(type(data)):      \n",
    "        data = pd.DataFrame(data)\n",
    "    # ---------------------------------------- Step 1.2: Check dimensional data --------------------------------------\n",
    "    if data.ndim < 3:\n",
    "        if data.shape[0] < data.shape[1]:\n",
    "            data = data.T\n",
    "    elif data.ndim > 3:\n",
    "        print(\"Please configure the data as two-dimensional (Sample * Channels)\")\n",
    "        sys.exit()\n",
    "        \n",
    "    return data\n",
    "\n",
    "# ============================================= Sequences data =======================================================\n",
    "def sequences_data(data, x_steps=6, y_steps=3, train_size=0.7, nfeatures=1):\n",
    "    # !============================================= Step 1: Split data ==============================================\n",
    "    # -------------------------------------------- Step 1.1: Check type data -----------------------------------------    \n",
    "    if 'DataFrame' not in str(type(data)):      \n",
    "        data = pd.DataFrame(data)\n",
    "    # ---------------------------------------- Step 1.2: Check dimensional data --------------------------------------\n",
    "    if data.ndim < 3:\n",
    "        if data.shape[0] < data.shape[1]:\n",
    "            data = data.T\n",
    "    elif data.ndim > 3:\n",
    "        print(\"Please configure the data as two-dimensional (Sample * Channels)\")\n",
    "        sys.exit()\n",
    "    # ----------------------------------------------- Step 1.3: split ------------------------------------------------   \n",
    "    n = math.floor(data.shape[0] * train_size)\n",
    "    data_train = data.iloc[0:n,:].values.reshape(-1,1)\n",
    "    data_test = data.iloc[data_train.shape[0]-x_steps:,:].values.reshape(-1,1)\n",
    "    # !============================================== Step 2: Normalize ==============================================\n",
    "    mod = MinMaxScaler(feature_range=(0, 1))\n",
    "    # data_train = mod.fit_transform(data_train)\n",
    "    # data_test = mod.transform(data_test.reshape(-1,1))\n",
    "    # !============================================== Step 3: Sequences ==============================================\n",
    "    # --------------------------------------------- Step 3.1: Sequences x_train --------------------------------------\n",
    "    x_train = []\n",
    "    y_train = []\n",
    "    for i in range(x_steps, len(data_train)-y_steps+1):\n",
    "        x_train.append(data_train[i-x_steps:i, 0])\n",
    "        y_train.append(data_train[i:i+y_steps, 0])\n",
    "    x_train = np.array(x_train)\n",
    "    y_train = np.array(y_train)\n",
    "    x_train = x_train.reshape((x_train.shape[0], x_train.shape[1], nfeatures))\n",
    "    # -------------------------------------------- Step 3.2: Sequences x_test ----------------------------------------\n",
    "    x_test = []\n",
    "    y_test = []\n",
    "    for i in range(x_steps, len(data.iloc[n:,:])+x_steps-y_steps+1):\n",
    "        x_test.append(data_test[i-x_steps:i, 0])\n",
    "        y_test.append(data_test[i:i+y_steps, 0])\n",
    "\n",
    "    x_test = np.array(x_test)\n",
    "    y_test = np.array(y_test)\n",
    "    \n",
    "    x_test = x_test.reshape((x_test.shape[0], x_test.shape[1], 1))\n",
    "    \n",
    "    return x_train, y_train, x_test, y_test, mod"
   ]
  },
  {
   "cell_type": "markdown",
   "metadata": {},
   "source": [
    "*Step 1.1: Load Data*"
   ]
  },
  {
   "cell_type": "code",
   "execution_count": 5,
   "metadata": {},
   "outputs": [],
   "source": [
    "data = sm.datasets.sunspots.load_pandas()  \n",
    "data = data.data[\"SUNACTIVITY\"]"
   ]
  },
  {
   "cell_type": "code",
   "execution_count": 6,
   "metadata": {},
   "outputs": [
    {
     "name": "stdout",
     "output_type": "stream",
     "text": [
      "data =      SUNACTIVITY\n",
      "0            5.0\n",
      "1           11.0\n",
      "2           16.0\n",
      "3           23.0\n",
      "4           36.0\n",
      "..           ...\n",
      "304         40.4\n",
      "305         29.8\n",
      "306         15.2\n",
      "307          7.5\n",
      "308          2.9\n",
      "\n",
      "[309 rows x 1 columns]\n"
     ]
    }
   ],
   "source": [
    "data = Prepare_data(data)\n",
    "print(f\"{data = }\")"
   ]
  },
  {
   "cell_type": "markdown",
   "metadata": {},
   "source": [
    "*Step 1.2: Plot data*"
   ]
  },
  {
   "cell_type": "code",
   "execution_count": 7,
   "metadata": {},
   "outputs": [
    {
     "data": {
      "image/png": "[encoded data removed]",
      "text/plain": [
       "<Figure size 500x300 with 1 Axes>"
      ]
     },
     "metadata": {},
     "output_type": "display_data"
    }
   ],
   "source": [
    "_, axs = plt.subplots(nrows=1,sharey='row', figsize=(5,3))\n",
    "axs.plot(data)\n",
    "axs.set_xlabel('', fontsize=10)\n",
    "axs.set_title(f\"\", fontsize=10)\n",
    "axs.set_ylabel('', fontsize=10)\n",
    "axs.autoscale(enable=True, axis=\"x\",tight=True)"
   ]
  },
  {
   "cell_type": "markdown",
   "metadata": {},
   "source": [
    "*Step 2: Sequences*"
   ]
  },
  {
   "cell_type": "code",
   "execution_count": 22,
   "metadata": {},
   "outputs": [],
   "source": [
    "x_steps = 6\n",
    "y_steps = 2\n",
    "x_train, y_train, x_test, y_test, mod = sequences_data(data, x_steps, y_steps, train_size=0.6, nfeatures=1)"
   ]
  },
  {
   "cell_type": "markdown",
   "metadata": {},
   "source": [
    "*Step 3: Creating a Sequential model:*<br/>\n",
    "[Sequential model](https://keras.io/guides/sequential_model/)<br/>\n",
    "[Dense layer](https://keras.io/api/layers/core_layers/dense/)<br/>\n",
    "[Activation functions](https://keras.io/api/layers/activations/)<br/>\n",
    "[Flatten layer](https://keras.io/api/layers/reshaping_layers/flatten/)<br/>\n",
    "\n",
    "*Step 3.1: Simple Recurrent Neural Networks ([RNN](https://www.tensorflow.org/api_docs/python/tf/keras/layers/SimpleRNN))-Model*<br/>\n",
    "*inputs $\\Rightarrow$ A 3D tensor, with shape [batch, timesteps, feature].*"
   ]
  },
  {
   "cell_type": "code",
   "execution_count": 23,
   "metadata": {},
   "outputs": [
    {
     "data": {
      "text/plain": [
       "[<keras.src.layers.rnn.simple_rnn.SimpleRNN at 0x2310ef10d50>,\n",
       " <keras.src.layers.rnn.simple_rnn.SimpleRNN at 0x23116089450>,\n",
       " <keras.src.layers.core.dense.Dense at 0x23112d72a10>]"
      ]
     },
     "execution_count": 23,
     "metadata": {},
     "output_type": "execute_result"
    }
   ],
   "source": [
    "simple_rnn_mod = Sequential([SimpleRNN(50, return_sequences=True),\n",
    "                            SimpleRNN(50),\n",
    "                            Dense(y_steps)])\n",
    "simple_rnn_mod.layers                     # Print the model parameters"
   ]
  },
  {
   "cell_type": "markdown",
   "metadata": {},
   "source": [
    "*Step 3.2: [Model compile](https://keras.io/api/models/model_training_apis/)*<br/>\n",
    "[Metrics](https://keras.io/api/metrics/regression_metrics/)<br/>"
   ]
  },
  {
   "cell_type": "code",
   "execution_count": 24,
   "metadata": {},
   "outputs": [],
   "source": [
    "simple_rnn_mod.compile(optimizer=\"adam\", loss=\"mean_squared_error\", metrics=[\"mean_absolute_error\"])  # Regression:mean_squared_error"
   ]
  },
  {
   "cell_type": "markdown",
   "metadata": {},
   "source": [
    "*Step 3.3: Fit Model*<br/>\n",
    "[Fit method](https://keras.io/api/models/model_training_apis/)"
   ]
  },
  {
   "cell_type": "code",
   "execution_count": 25,
   "metadata": {},
   "outputs": [
    {
     "name": "stdout",
     "output_type": "stream",
     "text": [
      "Epoch 1/100\n",
      "5/5 [==============================] - 8s 360ms/step - loss: 3145.3496 - mean_absolute_error: 43.4745 - val_loss: 3749.4956 - val_mean_absolute_error: 50.4097\n",
      "Epoch 2/100\n",
      "5/5 [==============================] - 0s 31ms/step - loss: 3041.3181 - mean_absolute_error: 42.3044 - val_loss: 3642.9441 - val_mean_absolute_error: 49.3561\n",
      "Epoch 3/100\n",
      "5/5 [==============================] - 0s 32ms/step - loss: 2955.1975 - mean_absolute_error: 41.3743 - val_loss: 3552.7905 - val_mean_absolute_error: 48.4414\n",
      "Epoch 4/100\n",
      "5/5 [==============================] - 0s 31ms/step - loss: 2884.5615 - mean_absolute_error: 40.5821 - val_loss: 3478.4512 - val_mean_absolute_error: 47.7258\n",
      "Epoch 5/100\n",
      "5/5 [==============================] - 0s 28ms/step - loss: 2825.8684 - mean_absolute_error: 39.9427 - val_loss: 3417.4143 - val_mean_absolute_error: 47.1299\n",
      "Epoch 6/100\n",
      "5/5 [==============================] - 0s 21ms/step - loss: 2780.5928 - mean_absolute_error: 39.4357 - val_loss: 3369.8528 - val_mean_absolute_error: 46.6531\n",
      "Epoch 7/100\n",
      "5/5 [==============================] - 0s 17ms/step - loss: 2744.1553 - mean_absolute_error: 39.0590 - val_loss: 3333.5610 - val_mean_absolute_error: 46.2825\n",
      "Epoch 8/100\n",
      "5/5 [==============================] - 0s 20ms/step - loss: 2715.7180 - mean_absolute_error: 38.7692 - val_loss: 3302.8628 - val_mean_absolute_error: 45.9766\n",
      "Epoch 9/100\n",
      "5/5 [==============================] - 0s 22ms/step - loss: 2691.5354 - mean_absolute_error: 38.5079 - val_loss: 3274.6892 - val_mean_absolute_error: 45.7020\n",
      "Epoch 10/100\n",
      "5/5 [==============================] - 0s 20ms/step - loss: 2669.3523 - mean_absolute_error: 38.2742 - val_loss: 3247.8193 - val_mean_absolute_error: 45.4500\n",
      "Epoch 11/100\n",
      "5/5 [==============================] - 0s 21ms/step - loss: 2646.7993 - mean_absolute_error: 38.0400 - val_loss: 3222.3889 - val_mean_absolute_error: 45.2192\n",
      "Epoch 12/100\n",
      "5/5 [==============================] - 0s 18ms/step - loss: 2626.5237 - mean_absolute_error: 37.8256 - val_loss: 3197.3362 - val_mean_absolute_error: 44.9904\n",
      "Epoch 13/100\n",
      "5/5 [==============================] - 0s 45ms/step - loss: 2606.1130 - mean_absolute_error: 37.6148 - val_loss: 3172.8765 - val_mean_absolute_error: 44.7658\n",
      "Epoch 14/100\n",
      "5/5 [==============================] - 0s 24ms/step - loss: 2586.0718 - mean_absolute_error: 37.4117 - val_loss: 3148.9514 - val_mean_absolute_error: 44.5513\n",
      "Epoch 15/100\n",
      "5/5 [==============================] - 0s 21ms/step - loss: 2566.3376 - mean_absolute_error: 37.2146 - val_loss: 3125.4771 - val_mean_absolute_error: 44.3433\n",
      "Epoch 16/100\n",
      "5/5 [==============================] - 0s 30ms/step - loss: 2547.5732 - mean_absolute_error: 37.0171 - val_loss: 3102.2395 - val_mean_absolute_error: 44.1362\n",
      "Epoch 17/100\n",
      "5/5 [==============================] - 0s 42ms/step - loss: 2528.1760 - mean_absolute_error: 36.8309 - val_loss: 3079.6626 - val_mean_absolute_error: 43.9337\n",
      "Epoch 18/100\n",
      "5/5 [==============================] - 0s 34ms/step - loss: 2509.6072 - mean_absolute_error: 36.6450 - val_loss: 3057.2139 - val_mean_absolute_error: 43.7312\n",
      "Epoch 19/100\n",
      "5/5 [==============================] - 0s 30ms/step - loss: 2491.4319 - mean_absolute_error: 36.4656 - val_loss: 3034.9365 - val_mean_absolute_error: 43.5290\n",
      "Epoch 20/100\n",
      "5/5 [==============================] - 0s 28ms/step - loss: 2473.2803 - mean_absolute_error: 36.2820 - val_loss: 3013.0667 - val_mean_absolute_error: 43.3293\n",
      "Epoch 21/100\n",
      "5/5 [==============================] - 0s 26ms/step - loss: 2455.9182 - mean_absolute_error: 36.1055 - val_loss: 2991.3411 - val_mean_absolute_error: 43.1297\n",
      "Epoch 22/100\n",
      "5/5 [==============================] - 0s 21ms/step - loss: 2438.2634 - mean_absolute_error: 35.9338 - val_loss: 2970.0349 - val_mean_absolute_error: 42.9328\n",
      "Epoch 23/100\n",
      "5/5 [==============================] - 0s 17ms/step - loss: 2420.3210 - mean_absolute_error: 35.7673 - val_loss: 2949.4011 - val_mean_absolute_error: 42.7410\n",
      "Epoch 24/100\n",
      "5/5 [==============================] - 0s 16ms/step - loss: 2403.7856 - mean_absolute_error: 35.6007 - val_loss: 2928.6421 - val_mean_absolute_error: 42.5470\n",
      "Epoch 25/100\n",
      "5/5 [==============================] - 0s 17ms/step - loss: 2386.5437 - mean_absolute_error: 35.4388 - val_loss: 2908.2849 - val_mean_absolute_error: 42.3556\n",
      "Epoch 26/100\n",
      "5/5 [==============================] - 0s 17ms/step - loss: 2370.7385 - mean_absolute_error: 35.2953 - val_loss: 2887.7161 - val_mean_absolute_error: 42.1683\n",
      "Epoch 27/100\n",
      "5/5 [==============================] - 0s 16ms/step - loss: 2353.7617 - mean_absolute_error: 35.1459 - val_loss: 2867.7532 - val_mean_absolute_error: 41.9875\n",
      "Epoch 28/100\n",
      "5/5 [==============================] - 0s 16ms/step - loss: 2338.0701 - mean_absolute_error: 34.9960 - val_loss: 2847.8652 - val_mean_absolute_error: 41.8064\n",
      "Epoch 29/100\n",
      "5/5 [==============================] - 0s 16ms/step - loss: 2321.3369 - mean_absolute_error: 34.8581 - val_loss: 2828.7598 - val_mean_absolute_error: 41.6316\n",
      "Epoch 30/100\n",
      "5/5 [==============================] - 0s 17ms/step - loss: 2305.8406 - mean_absolute_error: 34.7192 - val_loss: 2809.6145 - val_mean_absolute_error: 41.4660\n",
      "Epoch 31/100\n",
      "5/5 [==============================] - 0s 17ms/step - loss: 2290.0747 - mean_absolute_error: 34.5759 - val_loss: 2790.7410 - val_mean_absolute_error: 41.3097\n",
      "Epoch 32/100\n",
      "5/5 [==============================] - 0s 22ms/step - loss: 2275.0024 - mean_absolute_error: 34.4407 - val_loss: 2771.7983 - val_mean_absolute_error: 41.1522\n",
      "Epoch 33/100\n",
      "5/5 [==============================] - 0s 25ms/step - loss: 2259.8279 - mean_absolute_error: 34.2981 - val_loss: 2753.2512 - val_mean_absolute_error: 40.9985\n",
      "Epoch 34/100\n",
      "5/5 [==============================] - 0s 23ms/step - loss: 2244.2434 - mean_absolute_error: 34.1563 - val_loss: 2735.4841 - val_mean_absolute_error: 40.8557\n",
      "Epoch 35/100\n",
      "5/5 [==============================] - 0s 21ms/step - loss: 2228.6987 - mean_absolute_error: 34.0153 - val_loss: 2718.5005 - val_mean_absolute_error: 40.7258\n",
      "Epoch 36/100\n",
      "5/5 [==============================] - 0s 21ms/step - loss: 2214.9585 - mean_absolute_error: 33.8779 - val_loss: 2700.8584 - val_mean_absolute_error: 40.5888\n",
      "Epoch 37/100\n",
      "5/5 [==============================] - 0s 12ms/step - loss: 2199.4326 - mean_absolute_error: 33.7300 - val_loss: 2684.1167 - val_mean_absolute_error: 40.4594\n",
      "Epoch 38/100\n",
      "5/5 [==============================] - 0s 16ms/step - loss: 2185.2803 - mean_absolute_error: 33.5893 - val_loss: 2667.5652 - val_mean_absolute_error: 40.3325\n",
      "Epoch 39/100\n",
      "5/5 [==============================] - 0s 23ms/step - loss: 2170.6787 - mean_absolute_error: 33.4551 - val_loss: 2650.8884 - val_mean_absolute_error: 40.2007\n",
      "Epoch 40/100\n",
      "5/5 [==============================] - 0s 24ms/step - loss: 2156.7014 - mean_absolute_error: 33.3153 - val_loss: 2634.8267 - val_mean_absolute_error: 40.0755\n",
      "Epoch 41/100\n",
      "5/5 [==============================] - 0s 20ms/step - loss: 2142.5903 - mean_absolute_error: 33.1786 - val_loss: 2618.6963 - val_mean_absolute_error: 39.9467\n",
      "Epoch 42/100\n",
      "5/5 [==============================] - 0s 17ms/step - loss: 2127.9480 - mean_absolute_error: 33.0369 - val_loss: 2603.2510 - val_mean_absolute_error: 39.8231\n",
      "Epoch 43/100\n",
      "5/5 [==============================] - 0s 21ms/step - loss: 2115.0493 - mean_absolute_error: 32.9123 - val_loss: 2587.4014 - val_mean_absolute_error: 39.6945\n",
      "Epoch 44/100\n",
      "5/5 [==============================] - 0s 17ms/step - loss: 2101.2974 - mean_absolute_error: 32.7743 - val_loss: 2572.6980 - val_mean_absolute_error: 39.5805\n",
      "Epoch 45/100\n",
      "5/5 [==============================] - 0s 29ms/step - loss: 2088.1165 - mean_absolute_error: 32.6394 - val_loss: 2558.3560 - val_mean_absolute_error: 39.4710\n",
      "Epoch 46/100\n",
      "5/5 [==============================] - 0s 30ms/step - loss: 2074.8445 - mean_absolute_error: 32.5085 - val_loss: 2544.0786 - val_mean_absolute_error: 39.3610\n",
      "Epoch 47/100\n",
      "5/5 [==============================] - 0s 37ms/step - loss: 2061.0166 - mean_absolute_error: 32.3702 - val_loss: 2530.5969 - val_mean_absolute_error: 39.2626\n",
      "Epoch 48/100\n",
      "5/5 [==============================] - 0s 24ms/step - loss: 2047.9956 - mean_absolute_error: 32.2433 - val_loss: 2516.1995 - val_mean_absolute_error: 39.1561\n",
      "Epoch 49/100\n",
      "5/5 [==============================] - 0s 21ms/step - loss: 2035.4023 - mean_absolute_error: 32.1238 - val_loss: 2499.8994 - val_mean_absolute_error: 39.0240\n",
      "Epoch 50/100\n",
      "5/5 [==============================] - 0s 22ms/step - loss: 2022.0774 - mean_absolute_error: 32.0037 - val_loss: 2486.4856 - val_mean_absolute_error: 38.9330\n",
      "Epoch 51/100\n",
      "5/5 [==============================] - 0s 18ms/step - loss: 2010.0161 - mean_absolute_error: 31.8824 - val_loss: 2472.7871 - val_mean_absolute_error: 38.8454\n",
      "Epoch 52/100\n",
      "5/5 [==============================] - 0s 21ms/step - loss: 1996.4801 - mean_absolute_error: 31.7562 - val_loss: 2458.7004 - val_mean_absolute_error: 38.7542\n",
      "Epoch 53/100\n",
      "5/5 [==============================] - 0s 17ms/step - loss: 1984.9589 - mean_absolute_error: 31.6591 - val_loss: 2442.7292 - val_mean_absolute_error: 38.6392\n",
      "Epoch 54/100\n",
      "5/5 [==============================] - 0s 17ms/step - loss: 1972.2822 - mean_absolute_error: 31.5378 - val_loss: 2432.1001 - val_mean_absolute_error: 38.5946\n",
      "Epoch 55/100\n",
      "5/5 [==============================] - 0s 16ms/step - loss: 1959.3556 - mean_absolute_error: 31.4127 - val_loss: 2419.7856 - val_mean_absolute_error: 38.5290\n",
      "Epoch 56/100\n",
      "5/5 [==============================] - 0s 13ms/step - loss: 1947.8462 - mean_absolute_error: 31.3138 - val_loss: 2402.8721 - val_mean_absolute_error: 38.4021\n",
      "Epoch 57/100\n",
      "5/5 [==============================] - 0s 24ms/step - loss: 1935.9625 - mean_absolute_error: 31.2102 - val_loss: 2386.6865 - val_mean_absolute_error: 38.2836\n",
      "Epoch 58/100\n",
      "5/5 [==============================] - 0s 26ms/step - loss: 1923.5145 - mean_absolute_error: 31.1016 - val_loss: 2376.1760 - val_mean_absolute_error: 38.2421\n",
      "Epoch 59/100\n",
      "5/5 [==============================] - 0s 38ms/step - loss: 1912.2274 - mean_absolute_error: 30.9883 - val_loss: 2363.0129 - val_mean_absolute_error: 38.1632\n",
      "Epoch 60/100\n",
      "5/5 [==============================] - 0s 34ms/step - loss: 1900.9911 - mean_absolute_error: 30.8861 - val_loss: 2351.5120 - val_mean_absolute_error: 38.1064\n",
      "Epoch 61/100\n",
      "5/5 [==============================] - 0s 34ms/step - loss: 1889.4065 - mean_absolute_error: 30.7646 - val_loss: 2338.5054 - val_mean_absolute_error: 38.0240\n",
      "Epoch 62/100\n",
      "5/5 [==============================] - 0s 29ms/step - loss: 1878.4940 - mean_absolute_error: 30.6654 - val_loss: 2325.1687 - val_mean_absolute_error: 37.9380\n",
      "Epoch 63/100\n",
      "5/5 [==============================] - 0s 26ms/step - loss: 1866.4348 - mean_absolute_error: 30.5459 - val_loss: 2311.7666 - val_mean_absolute_error: 37.8444\n",
      "Epoch 64/100\n",
      "5/5 [==============================] - 0s 25ms/step - loss: 1856.0071 - mean_absolute_error: 30.4562 - val_loss: 2297.3953 - val_mean_absolute_error: 37.7404\n",
      "Epoch 65/100\n",
      "5/5 [==============================] - 0s 25ms/step - loss: 1844.8574 - mean_absolute_error: 30.3515 - val_loss: 2284.1375 - val_mean_absolute_error: 37.6476\n",
      "Epoch 66/100\n",
      "5/5 [==============================] - 0s 34ms/step - loss: 1834.1553 - mean_absolute_error: 30.2420 - val_loss: 2273.1682 - val_mean_absolute_error: 37.5861\n",
      "Epoch 67/100\n",
      "5/5 [==============================] - 0s 79ms/step - loss: 1823.6678 - mean_absolute_error: 30.1443 - val_loss: 2261.6724 - val_mean_absolute_error: 37.5180\n",
      "Epoch 68/100\n",
      "5/5 [==============================] - 0s 26ms/step - loss: 1812.6786 - mean_absolute_error: 30.0352 - val_loss: 2251.4558 - val_mean_absolute_error: 37.4628\n",
      "Epoch 69/100\n",
      "5/5 [==============================] - 0s 28ms/step - loss: 1802.6417 - mean_absolute_error: 29.9348 - val_loss: 2241.2668 - val_mean_absolute_error: 37.4087\n",
      "Epoch 70/100\n",
      "5/5 [==============================] - 0s 16ms/step - loss: 1792.3005 - mean_absolute_error: 29.8396 - val_loss: 2230.8567 - val_mean_absolute_error: 37.3477\n",
      "Epoch 71/100\n",
      "5/5 [==============================] - 0s 24ms/step - loss: 1781.8521 - mean_absolute_error: 29.7520 - val_loss: 2210.5042 - val_mean_absolute_error: 37.1478\n",
      "Epoch 72/100\n",
      "5/5 [==============================] - 0s 25ms/step - loss: 1771.9584 - mean_absolute_error: 29.6719 - val_loss: 2199.9685 - val_mean_absolute_error: 37.0839\n",
      "Epoch 73/100\n",
      "5/5 [==============================] - 0s 17ms/step - loss: 1761.5822 - mean_absolute_error: 29.5699 - val_loss: 2194.3381 - val_mean_absolute_error: 37.0876\n",
      "Epoch 74/100\n",
      "5/5 [==============================] - 0s 16ms/step - loss: 1751.4640 - mean_absolute_error: 29.4705 - val_loss: 2183.2075 - val_mean_absolute_error: 37.0090\n",
      "Epoch 75/100\n",
      "5/5 [==============================] - 0s 17ms/step - loss: 1742.5438 - mean_absolute_error: 29.4069 - val_loss: 2167.5027 - val_mean_absolute_error: 36.8679\n",
      "Epoch 76/100\n",
      "5/5 [==============================] - 0s 17ms/step - loss: 1732.6290 - mean_absolute_error: 29.3108 - val_loss: 2159.8350 - val_mean_absolute_error: 36.8416\n",
      "Epoch 77/100\n",
      "5/5 [==============================] - 0s 16ms/step - loss: 1722.8647 - mean_absolute_error: 29.2273 - val_loss: 2150.6208 - val_mean_absolute_error: 36.7912\n",
      "Epoch 78/100\n",
      "5/5 [==============================] - 0s 17ms/step - loss: 1713.8186 - mean_absolute_error: 29.1526 - val_loss: 2136.2837 - val_mean_absolute_error: 36.6609\n",
      "Epoch 79/100\n",
      "5/5 [==============================] - 0s 20ms/step - loss: 1703.8883 - mean_absolute_error: 29.0579 - val_loss: 2128.8750 - val_mean_absolute_error: 36.6284\n",
      "Epoch 80/100\n",
      "5/5 [==============================] - 0s 18ms/step - loss: 1695.3431 - mean_absolute_error: 28.9774 - val_loss: 2119.9080 - val_mean_absolute_error: 36.5756\n",
      "Epoch 81/100\n",
      "5/5 [==============================] - 0s 18ms/step - loss: 1686.0334 - mean_absolute_error: 28.8971 - val_loss: 2104.7727 - val_mean_absolute_error: 36.4390\n",
      "Epoch 82/100\n",
      "5/5 [==============================] - 0s 17ms/step - loss: 1676.9884 - mean_absolute_error: 28.8331 - val_loss: 2094.9900 - val_mean_absolute_error: 36.3704\n",
      "Epoch 83/100\n",
      "5/5 [==============================] - 0s 17ms/step - loss: 1668.1348 - mean_absolute_error: 28.7585 - val_loss: 2085.2510 - val_mean_absolute_error: 36.3015\n",
      "Epoch 84/100\n",
      "5/5 [==============================] - 0s 18ms/step - loss: 1659.2925 - mean_absolute_error: 28.6771 - val_loss: 2080.0012 - val_mean_absolute_error: 36.2942\n",
      "Epoch 85/100\n",
      "5/5 [==============================] - 0s 18ms/step - loss: 1650.3828 - mean_absolute_error: 28.5858 - val_loss: 2070.1160 - val_mean_absolute_error: 36.2188\n",
      "Epoch 86/100\n",
      "5/5 [==============================] - 0s 18ms/step - loss: 1641.2833 - mean_absolute_error: 28.5121 - val_loss: 2057.1819 - val_mean_absolute_error: 36.1024\n",
      "Epoch 87/100\n",
      "5/5 [==============================] - 0s 13ms/step - loss: 1633.0538 - mean_absolute_error: 28.4523 - val_loss: 2046.1700 - val_mean_absolute_error: 36.0086\n",
      "Epoch 88/100\n",
      "5/5 [==============================] - 0s 18ms/step - loss: 1624.1420 - mean_absolute_error: 28.3640 - val_loss: 2040.8624 - val_mean_absolute_error: 35.9931\n",
      "Epoch 89/100\n",
      "5/5 [==============================] - 0s 18ms/step - loss: 1616.7988 - mean_absolute_error: 28.3056 - val_loss: 2034.1494 - val_mean_absolute_error: 35.9719\n",
      "Epoch 90/100\n",
      "5/5 [==============================] - 0s 17ms/step - loss: 1607.5885 - mean_absolute_error: 28.2299 - val_loss: 2017.0007 - val_mean_absolute_error: 35.7873\n",
      "Epoch 91/100\n",
      "5/5 [==============================] - 0s 17ms/step - loss: 1599.7644 - mean_absolute_error: 28.1903 - val_loss: 2006.6763 - val_mean_absolute_error: 35.7017\n",
      "Epoch 92/100\n",
      "5/5 [==============================] - 0s 20ms/step - loss: 1591.1321 - mean_absolute_error: 28.1052 - val_loss: 2001.1368 - val_mean_absolute_error: 35.6892\n",
      "Epoch 93/100\n",
      "5/5 [==============================] - 0s 17ms/step - loss: 1583.3707 - mean_absolute_error: 28.0196 - val_loss: 1995.3552 - val_mean_absolute_error: 35.6465\n",
      "Epoch 94/100\n",
      "5/5 [==============================] - 0s 16ms/step - loss: 1575.4618 - mean_absolute_error: 27.9338 - val_loss: 1984.7756 - val_mean_absolute_error: 35.5582\n",
      "Epoch 95/100\n",
      "5/5 [==============================] - 0s 21ms/step - loss: 1567.9827 - mean_absolute_error: 27.8726 - val_loss: 1972.0359 - val_mean_absolute_error: 35.4323\n",
      "Epoch 96/100\n",
      "5/5 [==============================] - 0s 17ms/step - loss: 1559.6234 - mean_absolute_error: 27.8200 - val_loss: 1963.2321 - val_mean_absolute_error: 35.3716\n",
      "Epoch 97/100\n",
      "5/5 [==============================] - 0s 11ms/step - loss: 1552.6456 - mean_absolute_error: 27.7794 - val_loss: 1952.6219 - val_mean_absolute_error: 35.2801\n",
      "Epoch 98/100\n",
      "5/5 [==============================] - 0s 19ms/step - loss: 1544.8080 - mean_absolute_error: 27.7089 - val_loss: 1948.5708 - val_mean_absolute_error: 35.2763\n",
      "Epoch 99/100\n",
      "5/5 [==============================] - 0s 12ms/step - loss: 1537.5073 - mean_absolute_error: 27.6187 - val_loss: 1939.1991 - val_mean_absolute_error: 35.1782\n",
      "Epoch 100/100\n",
      "5/5 [==============================] - 0s 17ms/step - loss: 1529.9867 - mean_absolute_error: 27.5417 - val_loss: 1929.4882 - val_mean_absolute_error: 35.1008\n"
     ]
    },
    {
     "data": {
      "text/plain": [
       "<keras.src.callbacks.History at 0x23113f2ac10>"
      ]
     },
     "execution_count": 25,
     "metadata": {},
     "output_type": "execute_result"
    }
   ],
   "source": [
    "simple_rnn_mod.fit(x_train, y_train, epochs=100, validation_split=0.15)"
   ]
  },
  {
   "cell_type": "code",
   "execution_count": 64,
   "metadata": {},
   "outputs": [
    {
     "data": {
      "text/plain": [
       "(208, 3)"
      ]
     },
     "execution_count": 64,
     "metadata": {},
     "output_type": "execute_result"
    }
   ],
   "source": [
    "y_train.shape"
   ]
  },
  {
   "cell_type": "code",
   "execution_count": 38,
   "metadata": {},
   "outputs": [
    {
     "data": {
      "text/plain": [
       "array([[ 18.6,   5.7,   3.6,   1.4,   9.6,  47.4],\n",
       "       [  5.7,   3.6,   1.4,   9.6,  47.4,  57.1],\n",
       "       [  3.6,   1.4,   9.6,  47.4,  57.1, 103.9],\n",
       "       [  1.4,   9.6,  47.4,  57.1, 103.9,  80.6],\n",
       "       [  9.6,  47.4,  57.1, 103.9,  80.6,  63.6],\n",
       "       [ 47.4,  57.1, 103.9,  80.6,  63.6,  37.6],\n",
       "       [ 57.1, 103.9,  80.6,  63.6,  37.6,  26.1],\n",
       "       [103.9,  80.6,  63.6,  37.6,  26.1,  14.2],\n",
       "       [ 80.6,  63.6,  37.6,  26.1,  14.2,   5.8],\n",
       "       [ 63.6,  37.6,  26.1,  14.2,   5.8,  16.7],\n",
       "       [ 37.6,  26.1,  14.2,   5.8,  16.7,  44.3],\n",
       "       [ 26.1,  14.2,   5.8,  16.7,  44.3,  63.9],\n",
       "       [ 14.2,   5.8,  16.7,  44.3,  63.9,  69. ],\n",
       "       [  5.8,  16.7,  44.3,  63.9,  69. ,  77.8],\n",
       "       [ 16.7,  44.3,  63.9,  69. ,  77.8,  64.9],\n",
       "       [ 44.3,  63.9,  69. ,  77.8,  64.9,  35.7],\n",
       "       [ 63.9,  69. ,  77.8,  64.9,  35.7,  21.2],\n",
       "       [ 69. ,  77.8,  64.9,  35.7,  21.2,  11.1],\n",
       "       [ 77.8,  64.9,  35.7,  21.2,  11.1,   5.7],\n",
       "       [ 64.9,  35.7,  21.2,  11.1,   5.7,   8.7],\n",
       "       [ 35.7,  21.2,  11.1,   5.7,   8.7,  36.1],\n",
       "       [ 21.2,  11.1,   5.7,   8.7,  36.1,  79.7],\n",
       "       [ 11.1,   5.7,   8.7,  36.1,  79.7, 114.4],\n",
       "       [  5.7,   8.7,  36.1,  79.7, 114.4, 109.6],\n",
       "       [  8.7,  36.1,  79.7, 114.4, 109.6,  88.8],\n",
       "       [ 36.1,  79.7, 114.4, 109.6,  88.8,  67.8],\n",
       "       [ 79.7, 114.4, 109.6,  88.8,  67.8,  47.5],\n",
       "       [114.4, 109.6,  88.8,  67.8,  47.5,  30.6],\n",
       "       [109.6,  88.8,  67.8,  47.5,  30.6,  16.3],\n",
       "       [ 88.8,  67.8,  47.5,  30.6,  16.3,   9.6],\n",
       "       [ 67.8,  47.5,  30.6,  16.3,   9.6,  33.2],\n",
       "       [ 47.5,  30.6,  16.3,   9.6,  33.2,  92.6],\n",
       "       [ 30.6,  16.3,   9.6,  33.2,  92.6, 151.6],\n",
       "       [ 16.3,   9.6,  33.2,  92.6, 151.6, 136.3],\n",
       "       [  9.6,  33.2,  92.6, 151.6, 136.3, 134.7],\n",
       "       [ 33.2,  92.6, 151.6, 136.3, 134.7,  83.9],\n",
       "       [ 92.6, 151.6, 136.3, 134.7,  83.9,  69.4],\n",
       "       [151.6, 136.3, 134.7,  83.9,  69.4,  31.5],\n",
       "       [136.3, 134.7,  83.9,  69.4,  31.5,  13.9],\n",
       "       [134.7,  83.9,  69.4,  31.5,  13.9,   4.4],\n",
       "       [ 83.9,  69.4,  31.5,  13.9,   4.4,  38. ],\n",
       "       [ 69.4,  31.5,  13.9,   4.4,  38. , 141.7],\n",
       "       [ 31.5,  13.9,   4.4,  38. , 141.7, 190.2],\n",
       "       [ 13.9,   4.4,  38. , 141.7, 190.2, 184.8],\n",
       "       [  4.4,  38. , 141.7, 190.2, 184.8, 159. ],\n",
       "       [ 38. , 141.7, 190.2, 184.8, 159. , 112.3],\n",
       "       [141.7, 190.2, 184.8, 159. , 112.3,  53.9],\n",
       "       [190.2, 184.8, 159. , 112.3,  53.9,  37.6],\n",
       "       [184.8, 159. , 112.3,  53.9,  37.6,  27.9],\n",
       "       [159. , 112.3,  53.9,  37.6,  27.9,  10.2],\n",
       "       [112.3,  53.9,  37.6,  27.9,  10.2,  15.1],\n",
       "       [ 53.9,  37.6,  27.9,  10.2,  15.1,  47. ],\n",
       "       [ 37.6,  27.9,  10.2,  15.1,  47. ,  93.8],\n",
       "       [ 27.9,  10.2,  15.1,  47. ,  93.8, 105.9],\n",
       "       [ 10.2,  15.1,  47. ,  93.8, 105.9, 105.5],\n",
       "       [ 15.1,  47. ,  93.8, 105.9, 105.5, 104.5],\n",
       "       [ 47. ,  93.8, 105.9, 105.5, 104.5,  66.6],\n",
       "       [ 93.8, 105.9, 105.5, 104.5,  66.6,  68.9],\n",
       "       [105.9, 105.5, 104.5,  66.6,  68.9,  38. ],\n",
       "       [105.5, 104.5,  66.6,  68.9,  38. ,  34.5],\n",
       "       [104.5,  66.6,  68.9,  38. ,  34.5,  15.5],\n",
       "       [ 66.6,  68.9,  38. ,  34.5,  15.5,  12.6],\n",
       "       [ 68.9,  38. ,  34.5,  15.5,  12.6,  27.5],\n",
       "       [ 38. ,  34.5,  15.5,  12.6,  27.5,  92.5],\n",
       "       [ 34.5,  15.5,  12.6,  27.5,  92.5, 155.4],\n",
       "       [ 15.5,  12.6,  27.5,  92.5, 155.4, 154.6],\n",
       "       [ 12.6,  27.5,  92.5, 155.4, 154.6, 140.4],\n",
       "       [ 27.5,  92.5, 155.4, 154.6, 140.4, 115.9],\n",
       "       [ 92.5, 155.4, 154.6, 140.4, 115.9,  66.6],\n",
       "       [155.4, 154.6, 140.4, 115.9,  66.6,  45.9],\n",
       "       [154.6, 140.4, 115.9,  66.6,  45.9,  17.9],\n",
       "       [140.4, 115.9,  66.6,  45.9,  17.9,  13.4],\n",
       "       [115.9,  66.6,  45.9,  17.9,  13.4,  29.4],\n",
       "       [ 66.6,  45.9,  17.9,  13.4,  29.4, 100.2],\n",
       "       [ 45.9,  17.9,  13.4,  29.4, 100.2, 157.6],\n",
       "       [ 17.9,  13.4,  29.4, 100.2, 157.6, 142.6],\n",
       "       [ 13.4,  29.4, 100.2, 157.6, 142.6, 145.7],\n",
       "       [ 29.4, 100.2, 157.6, 142.6, 145.7,  94.3],\n",
       "       [100.2, 157.6, 142.6, 145.7,  94.3,  54.6],\n",
       "       [157.6, 142.6, 145.7,  94.3,  54.6,  29.9],\n",
       "       [142.6, 145.7,  94.3,  54.6,  29.9,  17.5],\n",
       "       [145.7,  94.3,  54.6,  29.9,  17.5,   8.6],\n",
       "       [ 94.3,  54.6,  29.9,  17.5,   8.6,  21.5],\n",
       "       [ 54.6,  29.9,  17.5,   8.6,  21.5,  64.3],\n",
       "       [ 29.9,  17.5,   8.6,  21.5,  64.3,  93.3],\n",
       "       [ 17.5,   8.6,  21.5,  64.3,  93.3, 119.6],\n",
       "       [  8.6,  21.5,  64.3,  93.3, 119.6, 111. ],\n",
       "       [ 21.5,  64.3,  93.3, 119.6, 111. , 104. ],\n",
       "       [ 64.3,  93.3, 119.6, 111. , 104. ,  63.7],\n",
       "       [ 93.3, 119.6, 111. , 104. ,  63.7,  40.4],\n",
       "       [119.6, 111. , 104. ,  63.7,  40.4,  29.8]])"
      ]
     },
     "execution_count": 38,
     "metadata": {},
     "output_type": "execute_result"
    }
   ],
   "source": [
    "x_test"
   ]
  },
  {
   "cell_type": "code",
   "execution_count": 39,
   "metadata": {},
   "outputs": [
    {
     "data": {
      "text/plain": [
       "array([[ 57.1, 103.9,  80.6],\n",
       "       [103.9,  80.6,  63.6],\n",
       "       [ 80.6,  63.6,  37.6],\n",
       "       [ 63.6,  37.6,  26.1],\n",
       "       [ 37.6,  26.1,  14.2],\n",
       "       [ 26.1,  14.2,   5.8],\n",
       "       [ 14.2,   5.8,  16.7],\n",
       "       [  5.8,  16.7,  44.3],\n",
       "       [ 16.7,  44.3,  63.9],\n",
       "       [ 44.3,  63.9,  69. ],\n",
       "       [ 63.9,  69. ,  77.8],\n",
       "       [ 69. ,  77.8,  64.9],\n",
       "       [ 77.8,  64.9,  35.7],\n",
       "       [ 64.9,  35.7,  21.2],\n",
       "       [ 35.7,  21.2,  11.1],\n",
       "       [ 21.2,  11.1,   5.7],\n",
       "       [ 11.1,   5.7,   8.7],\n",
       "       [  5.7,   8.7,  36.1],\n",
       "       [  8.7,  36.1,  79.7],\n",
       "       [ 36.1,  79.7, 114.4],\n",
       "       [ 79.7, 114.4, 109.6],\n",
       "       [114.4, 109.6,  88.8],\n",
       "       [109.6,  88.8,  67.8],\n",
       "       [ 88.8,  67.8,  47.5],\n",
       "       [ 67.8,  47.5,  30.6],\n",
       "       [ 47.5,  30.6,  16.3],\n",
       "       [ 30.6,  16.3,   9.6],\n",
       "       [ 16.3,   9.6,  33.2],\n",
       "       [  9.6,  33.2,  92.6],\n",
       "       [ 33.2,  92.6, 151.6],\n",
       "       [ 92.6, 151.6, 136.3],\n",
       "       [151.6, 136.3, 134.7],\n",
       "       [136.3, 134.7,  83.9],\n",
       "       [134.7,  83.9,  69.4],\n",
       "       [ 83.9,  69.4,  31.5],\n",
       "       [ 69.4,  31.5,  13.9],\n",
       "       [ 31.5,  13.9,   4.4],\n",
       "       [ 13.9,   4.4,  38. ],\n",
       "       [  4.4,  38. , 141.7],\n",
       "       [ 38. , 141.7, 190.2],\n",
       "       [141.7, 190.2, 184.8],\n",
       "       [190.2, 184.8, 159. ],\n",
       "       [184.8, 159. , 112.3],\n",
       "       [159. , 112.3,  53.9],\n",
       "       [112.3,  53.9,  37.6],\n",
       "       [ 53.9,  37.6,  27.9],\n",
       "       [ 37.6,  27.9,  10.2],\n",
       "       [ 27.9,  10.2,  15.1],\n",
       "       [ 10.2,  15.1,  47. ],\n",
       "       [ 15.1,  47. ,  93.8],\n",
       "       [ 47. ,  93.8, 105.9],\n",
       "       [ 93.8, 105.9, 105.5],\n",
       "       [105.9, 105.5, 104.5],\n",
       "       [105.5, 104.5,  66.6],\n",
       "       [104.5,  66.6,  68.9],\n",
       "       [ 66.6,  68.9,  38. ],\n",
       "       [ 68.9,  38. ,  34.5],\n",
       "       [ 38. ,  34.5,  15.5],\n",
       "       [ 34.5,  15.5,  12.6],\n",
       "       [ 15.5,  12.6,  27.5],\n",
       "       [ 12.6,  27.5,  92.5],\n",
       "       [ 27.5,  92.5, 155.4],\n",
       "       [ 92.5, 155.4, 154.6],\n",
       "       [155.4, 154.6, 140.4],\n",
       "       [154.6, 140.4, 115.9],\n",
       "       [140.4, 115.9,  66.6],\n",
       "       [115.9,  66.6,  45.9],\n",
       "       [ 66.6,  45.9,  17.9],\n",
       "       [ 45.9,  17.9,  13.4],\n",
       "       [ 17.9,  13.4,  29.4],\n",
       "       [ 13.4,  29.4, 100.2],\n",
       "       [ 29.4, 100.2, 157.6],\n",
       "       [100.2, 157.6, 142.6],\n",
       "       [157.6, 142.6, 145.7],\n",
       "       [142.6, 145.7,  94.3],\n",
       "       [145.7,  94.3,  54.6],\n",
       "       [ 94.3,  54.6,  29.9],\n",
       "       [ 54.6,  29.9,  17.5],\n",
       "       [ 29.9,  17.5,   8.6],\n",
       "       [ 17.5,   8.6,  21.5],\n",
       "       [  8.6,  21.5,  64.3],\n",
       "       [ 21.5,  64.3,  93.3],\n",
       "       [ 64.3,  93.3, 119.6],\n",
       "       [ 93.3, 119.6, 111. ],\n",
       "       [119.6, 111. , 104. ],\n",
       "       [111. , 104. ,  63.7],\n",
       "       [104. ,  63.7,  40.4],\n",
       "       [ 63.7,  40.4,  29.8],\n",
       "       [ 40.4,  29.8,  15.2],\n",
       "       [ 29.8,  15.2,   7.5],\n",
       "       [ 15.2,   7.5,   2.9]])"
      ]
     },
     "execution_count": 39,
     "metadata": {},
     "output_type": "execute_result"
    }
   ],
   "source": [
    "y_test"
   ]
  }
 ],
 "metadata": {
  "kernelspec": {
   "display_name": "Python 3",
   "language": "python",
   "name": "python3"
  },
  "language_info": {
   "codemirror_mode": {
    "name": "ipython",
    "version": 3
   },
   "file_extension": ".py",
   "mimetype": "text/x-python",
   "name": "python",
   "nbconvert_exporter": "python",
   "pygments_lexer": "ipython3",
   "version": "3.11.4"
  },
  "orig_nbformat": 4
 },
 "nbformat": 4,
 "nbformat_minor": 2
}
