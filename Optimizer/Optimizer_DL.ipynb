{
 "cells": [
  {
   "cell_type": "markdown",
   "metadata": {
    "collapsed": false
   },
   "source": [
    "*Import Libraries*"
   ]
  },
  {
   "cell_type": "code",
   "execution_count": 34,
   "metadata": {
    "collapsed": false
   },
   "outputs": [],
   "source": [
    "import numpy as np\n",
    "# import tensorflow as tf                                                       # print(tf.__version__)\n",
    "from tensorflow import keras\n",
    "from keras.datasets import fashion_mnist, mnist\n",
    "import matplotlib.pyplot as plt"
   ]
  },
  {
   "cell_type": "markdown",
   "metadata": {
    "collapsed": false
   },
   "source": [
    "*Step 1. Load data*<br/>\n",
    "Path data: C:\\Users\\name pc\\.keras<br/>\n",
    "[MNIST Dataset](https://www.tensorflow.org/datasets/catalog/mnist)<br>\n",
    "[Fashion MNIST](https://github.com/zalandoresearch/fashion-mnist)"
   ]
  },
  {
   "cell_type": "code",
   "execution_count": 38,
   "metadata": {
    "ExecuteTime": {
     "end_time": "2023-06-06T10:46:34.186953900Z",
     "start_time": "2023-06-06T10:46:33.304438100Z"
    },
    "collapsed": false
   },
   "outputs": [
    {
     "name": "stdout",
     "output_type": "stream",
     "text": [
      "x_train.shape:(60000, 28, 28)\n",
      "x_test.shape:(10000, 28, 28)\n",
      "y_train.shape:(60000,)\n",
      "y_test.shape:(10000,)\n",
      "y_train[:10]:[9 0 0 ... 3 0 5]\n",
      "x_train[0,]: [[0 0 0 0 0 0 0 0 0 0 0 0 0 0 0 0 0 0 0 0 0 0 0 0 0 0 0 0]\n",
      " [0 0 0 0 0 0 0 0 0 0 0 0 0 0 0 0 0 0 0 0 0 0 0 0 0 0 0 0]]\n",
      "labels: [0 1 2 3 4 5 6 7 8 9]\n"
     ]
    }
   ],
   "source": [
    "name = 2                                                                        # 1:mnist; 2:fashion_mnist\n",
    "if name==1:\n",
    "    (x_train, y_train), (x_test, y_test) = mnist.load_data()                    # 70,000 28x28\n",
    "else:\n",
    "    (x_train, y_train), (x_test, y_test) = fashion_mnist.load_data()            # 70,000 28x28\n",
    "print(f\"x_train.shape:{x_train.shape}\")                                         # (60000, 28, 28) = (Number of images, 28 , 28)\n",
    "print(f\"x_test.shape:{x_test.shape}\")                                           # (10000, 28, 28) = (Number of images, 28 , 28)\n",
    "print(f\"y_train.shape:{y_train.shape}\")                                         # (60000,) = (Number of label)\n",
    "print(f\"y_test.shape:{y_test.shape}\")                                           # (10000,) = (Number of label)\n",
    "print(f\"y_train[:10]:{y_train}\")                                                # Train labels\n",
    "print(f\"x_train[0,]: {x_train[0, 0:2, :]}\")                                     # (Image 0, 0:2 out of 28, 28) ==> Ankle boot\n",
    "labels = np.unique(y_train)\n",
    "print(f\"labels: {labels}\")"
   ]
  },
  {
   "cell_type": "code",
   "execution_count": 39,
   "metadata": {
    "ExecuteTime": {
     "end_time": "2023-06-06T10:46:42.505475200Z",
     "start_time": "2023-06-06T10:46:42.255618600Z"
    },
    "collapsed": false
   },
   "outputs": [
    {
     "data": {
      "image/png": "[encoded data removed]",
      "text/plain": [
       "<Figure size 250x250 with 9 Axes>"
      ]
     },
     "metadata": {},
     "output_type": "display_data"
    }
   ],
   "source": [
    "plt.figure(figsize=(2.5, 2.5))\n",
    "for i in range(len(labels)-1):\n",
    "    ax = plt.subplot(3, 3, i + 1)\n",
    "    plt.imshow(x_train[i, :, :], cmap='gray')\n",
    "    plt.autoscale(axis=\"both\", tight=True, enable=True)\n",
    "    plt.axis(\"off\")"
   ]
  },
  {
   "cell_type": "markdown",
   "metadata": {
    "collapsed": false
   },
   "source": [
    "*Step 2. Normalize data*<br/>\n",
    "pixel values between 0 and 255; Scale these values to a range of 0 to 1 before feeding them to the neural network model."
   ]
  },
  {
   "cell_type": "code",
   "execution_count": 40,
   "metadata": {
    "ExecuteTime": {
     "end_time": "2023-06-06T10:47:20.978817600Z",
     "start_time": "2023-06-06T10:47:20.674993Z"
    },
    "collapsed": false
   },
   "outputs": [],
   "source": [
    "x_train, x_test = x_train/255.0, x_test/255.0    "
   ]
  },
  {
   "cell_type": "markdown",
   "metadata": {
    "collapsed": false
   },
   "source": [
    "*Step 3. Creating a Sequential model*<br/>\n",
    "[Sequential model](https://keras.io/guides/sequential_model/)<br/>\n",
    "[Dense layer](https://keras.io/api/layers/core_layers/dense/)<br/>\n",
    "[Activation functions](https://keras.io/api/layers/activations/)<br/>\n",
    "[Flatten layer](https://keras.io/api/layers/reshaping_layers/flatten/)<br/>"
   ]
  },
  {
   "cell_type": "code",
   "execution_count": 41,
   "metadata": {
    "ExecuteTime": {
     "end_time": "2023-06-06T10:47:30.460498100Z",
     "start_time": "2023-06-06T10:47:30.285578200Z"
    },
    "collapsed": false
   },
   "outputs": [
    {
     "name": "stdout",
     "output_type": "stream",
     "text": [
      "Model: \"sequential_14\"\n",
      "_________________________________________________________________\n",
      " Layer (type)                Output Shape              Param #   \n",
      "=================================================================\n",
      " flatten_20 (Flatten)        (None, 784)               0         \n",
      "                                                                 \n",
      " dense_46 (Dense)            (None, 100)               78500     \n",
      "                                                                 \n",
      " dense_47 (Dense)            (None, 75)                7575      \n",
      "                                                                 \n",
      " dense_48 (Dense)            (None, 10)                760       \n",
      "                                                                 \n",
      "=================================================================\n",
      "Total params: 86835 (339.20 KB)\n",
      "Trainable params: 86835 (339.20 KB)\n",
      "Non-trainable params: 0 (0.00 Byte)\n",
      "_________________________________________________________________\n"
     ]
    }
   ],
   "source": [
    "# Define Sequential model with 3 layers using 2 methods\n",
    "def building_model(x_train,units_layer1, units_layer2, units_output, fun_output, method):\n",
    "    global model\n",
    "    if method==1:\n",
    "        model = keras.models.Sequential()\n",
    "        model.add(keras.layers.Flatten(input_shape=x_train.shape[1:3]))         # Layer input : Input must be vectored; x_train.shape[1:3]:(28, 28)\n",
    "        model.add(keras.layers.Dense(units_layer1, activation=\"relu\"))          # Layer 1: The first hidden layer\n",
    "        model.add(keras.layers.Dense(units_layer2, activation=\"relu\"))          # Layer 2: The second hidden layer\n",
    "        model.add(keras.layers.Dense(units_output, activation=fun_output))      # Layer output or 3: 10 neuron = 10 class; Multi classification then activation is softmax\n",
    "    elif method==2:\n",
    "        model = keras.models.Sequential([\n",
    "            keras.layers.Flatten(input_shape=x_train.shape[1:3]),               # x_train.shape[1:3]:(28, 28)\n",
    "            keras.layers.Dense(units_layer1,activation=\"relu\"),\n",
    "            keras.layers.Dense(units_layer2, activation=\"relu\"),\n",
    "            keras.layers.Dense(units_output, activation=fun_output)])\n",
    "    return model\n",
    "model= building_model(x_train,units_layer1=100, units_layer2=75, units_output=10, fun_output=\"softmax\", method=2)\n",
    "model.summary()"
   ]
  },
  {
   "cell_type": "markdown",
   "metadata": {
    "collapsed": false
   },
   "source": [
    "*Step 3.1: Print the model parameters*"
   ]
  },
  {
   "cell_type": "code",
   "execution_count": 42,
   "metadata": {
    "ExecuteTime": {
     "end_time": "2023-06-06T10:47:45.595611300Z",
     "start_time": "2023-06-06T10:47:45.543581700Z"
    },
    "collapsed": false
   },
   "outputs": [
    {
     "data": {
      "text/plain": [
       "[<keras.src.layers.reshaping.flatten.Flatten at 0x213945fb910>,\n",
       " <keras.src.layers.core.dense.Dense at 0x21390ba4b10>,\n",
       " <keras.src.layers.core.dense.Dense at 0x213908db650>,\n",
       " <keras.src.layers.core.dense.Dense at 0x213944b42d0>]"
      ]
     },
     "execution_count": 42,
     "metadata": {},
     "output_type": "execute_result"
    }
   ],
   "source": [
    "model.layers"
   ]
  },
  {
   "cell_type": "code",
   "execution_count": 43,
   "metadata": {
    "ExecuteTime": {
     "end_time": "2023-06-06T10:47:50.460984700Z",
     "start_time": "2023-06-06T10:47:50.400998900Z"
    },
    "collapsed": false
   },
   "outputs": [
    {
     "name": "stdout",
     "output_type": "stream",
     "text": [
      "weights:[[-0.02383609  0.03351085 -0.05519742 ...  0.04604888 -0.0197298\n",
      "  -0.08124409]\n",
      " [-0.07210767 -0.07808407  0.04149415 ... -0.04262806  0.06230271\n",
      "   0.06148922]\n",
      " [ 0.05307278  0.00803353 -0.05707329 ... -0.08126932 -0.03887204\n",
      "  -0.02396051]\n",
      " ...\n",
      " [-0.02994338  0.00211837  0.08155316 ...  0.00128915  0.03911582\n",
      "  -0.07306636]\n",
      " [ 0.01261988 -0.00767657 -0.05250114 ... -0.0616102  -0.019924\n",
      "  -0.0224393 ]\n",
      " [-0.07530802  0.05126864 -0.05741581 ...  0.04985867  0.07186888\n",
      "   0.0020948 ]]; weights.shape: (784, 100)\n",
      " bias: [0. 0. 0. 0. 0. 0. 0. 0. 0. 0. 0. 0. 0. 0. 0. 0. 0. 0. 0. 0. 0. 0. 0. 0.\n",
      " 0. 0. 0. 0. 0. 0. 0. 0. 0. 0. 0. 0. 0. 0. 0. 0. 0. 0. 0. 0. 0. 0. 0. 0.\n",
      " 0. 0. 0. 0. 0. 0. 0. 0. 0. 0. 0. 0. 0. 0. 0. 0. 0. 0. 0. 0. 0. 0. 0. 0.\n",
      " 0. 0. 0. 0. 0. 0. 0. 0. 0. 0. 0. 0. 0. 0. 0. 0. 0. 0. 0. 0. 0. 0. 0. 0.\n",
      " 0. 0. 0. 0.]; bias.shape: (100,)\n"
     ]
    }
   ],
   "source": [
    "weights, bias = model.layers[1].get_weights()                                 # weights & bias in first layer\n",
    "print(f\"weights:{weights}; weights.shape: {weights.shape}\")\n",
    "print(f\" bias: {bias}; bias.shape: {bias.shape}\")"
   ]
  },
  {
   "cell_type": "markdown",
   "metadata": {
    "collapsed": false
   },
   "source": [
    "*Step 4. [Compile Model](https://keras.io/api/models/model_training_apis/)*<br/>\n",
    "[Metrics](https://keras.io/api/metrics/)<br/>"
   ]
  },
  {
   "cell_type": "code",
   "execution_count": 44,
   "metadata": {
    "ExecuteTime": {
     "end_time": "2023-06-06T10:49:16.895904400Z",
     "start_time": "2023-06-06T10:49:16.809953400Z"
    },
    "collapsed": false
   },
   "outputs": [],
   "source": [
    "model.compile(loss=\"sparse_categorical_crossentropy\", optimizer=\"sgd\", metrics=[\"accuracy\"]) # Multi Classification:sparse_categorical_crossentropy"
   ]
  },
  {
   "cell_type": "markdown",
   "metadata": {
    "collapsed": false
   },
   "source": [
    "*Step 5: [Fit method](https://keras.io/api/models/model_training_apis/)*<br/>"
   ]
  },
  {
   "cell_type": "code",
   "execution_count": 45,
   "metadata": {
    "ExecuteTime": {
     "end_time": "2023-06-06T10:51:03.338115200Z",
     "start_time": "2023-06-06T10:49:23.318426600Z"
    },
    "collapsed": false
   },
   "outputs": [
    {
     "name": "stdout",
     "output_type": "stream",
     "text": [
      "Epoch 1/20\n",
      "1594/1594 [==============================] - 11s 6ms/step - loss: 0.8235 - accuracy: 0.7278 - val_loss: 0.5585 - val_accuracy: 0.8083\n",
      "Epoch 2/20\n",
      "1594/1594 [==============================] - 6s 4ms/step - loss: 0.5141 - accuracy: 0.8227 - val_loss: 0.5103 - val_accuracy: 0.8204\n",
      "Epoch 3/20\n",
      "1594/1594 [==============================] - 7s 4ms/step - loss: 0.4613 - accuracy: 0.8393 - val_loss: 0.4563 - val_accuracy: 0.8410\n",
      "Epoch 4/20\n",
      "1594/1594 [==============================] - 6s 4ms/step - loss: 0.4337 - accuracy: 0.8484 - val_loss: 0.4280 - val_accuracy: 0.8500\n",
      "Epoch 5/20\n",
      "1594/1594 [==============================] - 5s 3ms/step - loss: 0.4130 - accuracy: 0.8556 - val_loss: 0.4176 - val_accuracy: 0.8530\n",
      "Epoch 6/20\n",
      "1594/1594 [==============================] - 5s 3ms/step - loss: 0.3973 - accuracy: 0.8601 - val_loss: 0.4072 - val_accuracy: 0.8571\n",
      "Epoch 7/20\n",
      "1594/1594 [==============================] - 5s 3ms/step - loss: 0.3847 - accuracy: 0.8643 - val_loss: 0.4099 - val_accuracy: 0.8540\n",
      "Epoch 8/20\n",
      "1594/1594 [==============================] - 5s 3ms/step - loss: 0.3723 - accuracy: 0.8684 - val_loss: 0.4262 - val_accuracy: 0.8449\n",
      "Epoch 9/20\n",
      "1594/1594 [==============================] - 5s 3ms/step - loss: 0.3626 - accuracy: 0.8719 - val_loss: 0.3861 - val_accuracy: 0.8623\n",
      "Epoch 10/20\n",
      "1594/1594 [==============================] - 6s 4ms/step - loss: 0.3538 - accuracy: 0.8740 - val_loss: 0.3910 - val_accuracy: 0.8607\n",
      "Epoch 11/20\n",
      "1594/1594 [==============================] - 7s 5ms/step - loss: 0.3463 - accuracy: 0.8763 - val_loss: 0.3620 - val_accuracy: 0.8711\n",
      "Epoch 12/20\n",
      "1594/1594 [==============================] - 6s 4ms/step - loss: 0.3377 - accuracy: 0.8782 - val_loss: 0.3566 - val_accuracy: 0.8732\n",
      "Epoch 13/20\n",
      "1594/1594 [==============================] - 5s 3ms/step - loss: 0.3311 - accuracy: 0.8820 - val_loss: 0.3608 - val_accuracy: 0.8726\n",
      "Epoch 14/20\n",
      "1594/1594 [==============================] - 6s 3ms/step - loss: 0.3244 - accuracy: 0.8834 - val_loss: 0.3580 - val_accuracy: 0.8747\n",
      "Epoch 15/20\n",
      "1594/1594 [==============================] - 5s 3ms/step - loss: 0.3181 - accuracy: 0.8858 - val_loss: 0.3567 - val_accuracy: 0.8751\n",
      "Epoch 16/20\n",
      "1594/1594 [==============================] - 5s 3ms/step - loss: 0.3127 - accuracy: 0.8872 - val_loss: 0.3645 - val_accuracy: 0.8710\n",
      "Epoch 17/20\n",
      "1594/1594 [==============================] - 5s 3ms/step - loss: 0.3062 - accuracy: 0.8895 - val_loss: 0.3501 - val_accuracy: 0.8758\n",
      "Epoch 18/20\n",
      "1594/1594 [==============================] - 5s 3ms/step - loss: 0.3013 - accuracy: 0.8915 - val_loss: 0.3407 - val_accuracy: 0.8783\n",
      "Epoch 19/20\n",
      "1594/1594 [==============================] - 5s 3ms/step - loss: 0.2963 - accuracy: 0.8940 - val_loss: 0.3418 - val_accuracy: 0.8790\n",
      "Epoch 20/20\n",
      "1594/1594 [==============================] - 5s 3ms/step - loss: 0.2920 - accuracy: 0.8951 - val_loss: 0.3491 - val_accuracy: 0.8752\n"
     ]
    }
   ],
   "source": [
    "history_train = model.fit(x_train, y_train, epochs=20, validation_split=0.15)"
   ]
  },
  {
   "cell_type": "markdown",
   "metadata": {
    "collapsed": false
   },
   "source": [
    "*Step 5.1: Print the history parameters*"
   ]
  },
  {
   "cell_type": "code",
   "execution_count": 46,
   "metadata": {
    "ExecuteTime": {
     "end_time": "2023-06-06T10:52:11.649794500Z",
     "start_time": "2023-06-06T10:52:11.630804900Z"
    },
    "collapsed": false
   },
   "outputs": [
    {
     "name": "stdout",
     "output_type": "stream",
     "text": [
      " history_params: {'verbose': 1, 'epochs': 20, 'steps': 1594}\n",
      "Loss_train: [0.8235107064247131, 0.5141225457191467, 0.46129682660102844, 0.43370094895362854, 0.4129970073699951, 0.3973400592803955, 0.3847287595272064, 0.37225788831710815, 0.36264222860336304, 0.3538484275341034, 0.34630087018013, 0.33771610260009766, 0.3310639262199402, 0.32438579201698303, 0.3180685043334961, 0.31273114681243896, 0.3062456250190735, 0.3012879192829132, 0.29628658294677734, 0.2920190393924713]\n",
      "Accuracy_train: [0.7277843356132507, 0.8226862549781799, 0.839274525642395, 0.8483725786209106, 0.8555686473846436, 0.8600784540176392, 0.864254891872406, 0.8683921694755554, 0.8719019889831543, 0.8740392327308655, 0.8762549161911011, 0.8781960606575012, 0.882019579410553, 0.8833529353141785, 0.8857647180557251, 0.8871960639953613, 0.8894901871681213, 0.8915489912033081, 0.894019603729248, 0.8950784206390381]\n",
      "Loss_validation: [0.558455228805542, 0.5102646946907043, 0.4563395082950592, 0.4280143678188324, 0.4175804853439331, 0.40719273686408997, 0.40993574261665344, 0.42615237832069397, 0.38612478971481323, 0.39104801416397095, 0.3619738519191742, 0.356607049703598, 0.36084216833114624, 0.3580472767353058, 0.3567008078098297, 0.3644634485244751, 0.3501032888889313, 0.3406852185726166, 0.3418452739715576, 0.34907278418540955]\n",
      "Accuracy_validation: [0.8083333373069763, 0.8204444646835327, 0.8410000205039978, 0.8500000238418579, 0.8529999852180481, 0.8571110963821411, 0.8539999723434448, 0.8448888659477234, 0.862333357334137, 0.8606666922569275, 0.8711110949516296, 0.8732222318649292, 0.8725555539131165, 0.874666690826416, 0.8751111030578613, 0.8709999918937683, 0.8757777810096741, 0.878333330154419, 0.8790000081062317, 0.8752222061157227]\n"
     ]
    }
   ],
   "source": [
    "print(f\" history_params: {history_train.params}\")\n",
    "print(f\"Loss_train: {history_train.history['loss']}\")                              # print(f\"history.history: {history.history}\")\n",
    "print(f\"Accuracy_train: {history_train.history['accuracy']}\")\n",
    "print(f\"Loss_validation: {history_train.history['val_loss']}\")\n",
    "print(f\"Accuracy_validation: {history_train.history['val_accuracy']}\")"
   ]
  },
  {
   "cell_type": "markdown",
   "metadata": {
    "collapsed": false
   },
   "source": [
    "*Step 5.2: Plot*"
   ]
  },
  {
   "cell_type": "code",
   "execution_count": 48,
   "metadata": {
    "ExecuteTime": {
     "end_time": "2023-06-06T10:52:19.280808400Z",
     "start_time": "2023-06-06T10:52:18.983705300Z"
    },
    "collapsed": false
   },
   "outputs": [
    {
     "data": {
      "text/plain": [
       "<matplotlib.legend.Legend at 0x213921b01d0>"
      ]
     },
     "execution_count": 48,
     "metadata": {},
     "output_type": "execute_result"
    },
    {
     "data": {
      "image/png": "[encoded data removed]",
      "text/plain": [
       "<Figure size 400x300 with 1 Axes>"
      ]
     },
     "metadata": {},
     "output_type": "display_data"
    }
   ],
   "source": [
    "fig, ax = plt.subplots(figsize=(4, 3))\n",
    "ax.plot(history_train.history[\"loss\"], label=\"train loss\")\n",
    "ax.plot(history_train.history[\"accuracy\"], label=\"train accuracy\")\n",
    "ax.plot(history_train.history[\"val_loss\"], label=\"validation loss\")\n",
    "ax.plot(history_train.history[\"val_accuracy\"], label=\"validation accuracy\")\n",
    "ax.legend()"
   ]
  },
  {
   "cell_type": "markdown",
   "metadata": {
    "collapsed": false
   },
   "source": [
    "*Step 6: [Evaluate Model](https://keras.io/api/models/model_training_apis/)*\n"
   ]
  },
  {
   "cell_type": "code",
   "execution_count": 50,
   "metadata": {
    "ExecuteTime": {
     "end_time": "2023-06-06T10:52:25.114706800Z",
     "start_time": "2023-06-06T10:52:24.400112800Z"
    },
    "collapsed": false
   },
   "outputs": [
    {
     "name": "stdout",
     "output_type": "stream",
     "text": [
      "313/313 [==============================] - 1s 3ms/step - loss: 0.3721 - accuracy: 0.8679\n"
     ]
    }
   ],
   "source": [
    "history_test = model.evaluate(x_test, y_test, verbose=1)"
   ]
  },
  {
   "cell_type": "markdown",
   "metadata": {
    "collapsed": false
   },
   "source": [
    "Step 7: Predict Model"
   ]
  },
  {
   "cell_type": "code",
   "execution_count": 51,
   "metadata": {
    "ExecuteTime": {
     "end_time": "2023-06-06T10:52:28.306877900Z",
     "start_time": "2023-06-06T10:52:28.164958900Z"
    },
    "collapsed": false
   },
   "outputs": [
    {
     "name": "stdout",
     "output_type": "stream",
     "text": [
      "1/1 [==============================] - 0s 209ms/step\n",
      "pred.shape: (4, 28, 28)\n",
      "pred_x_test: [[0.    0.    0.    0.    0.    0.021 0.    0.049 0.002 0.927]\n",
      " [0.    0.    0.999 0.    0.    0.    0.    0.    0.    0.   ]\n",
      " [0.    1.    0.    0.    0.    0.    0.    0.    0.    0.   ]\n",
      " [0.    1.    0.    0.    0.    0.    0.    0.    0.    0.   ]]\n",
      "labels_pred: [9 2 1 1], y_test: [9 2 1 1]\n"
     ]
    }
   ],
   "source": [
    "pred = x_test[0:4,:,:]\n",
    "pred_x_test = model.predict(pred).round(3)\n",
    "labels_pred = np.argmax(pred_x_test, axis=1)\n",
    "print(f\"pred.shape: {pred.shape}\")\n",
    "print(f\"pred_x_test: {pred_x_test}\")\n",
    "print(f\"labels_pred: {labels_pred}, y_test: {y_test[0:4]}\")\n"
   ]
  },
  {
   "cell_type": "markdown",
   "metadata": {},
   "source": [
    "**Vanishing/exploding gradients**\n",
    "- Initialization\n",
    "  - [Article](http://proceedings.mlr.press/v9/glorot10a/glorot10a.pdf)\n",
    "- Nonsaturating activation functions\n",
    "- Batch normalization\n",
    "- Gradient clipping"
   ]
  },
  {
   "cell_type": "markdown",
   "metadata": {},
   "source": [
    "**Time**"
   ]
  },
  {
   "cell_type": "markdown",
   "metadata": {},
   "source": [
    "**Limited data**"
   ]
  },
  {
   "cell_type": "markdown",
   "metadata": {},
   "source": [
    "**Overfitting**\n",
    "- `L1 and L2 regularization` \n",
    "  - `kernel_regularizer:` Regularizer to apply a penalty on the layer's kernel\n",
    "  - `bias_regularizer:` Regularizer to apply a penalty on the layer's bias\n",
    "  - `activity_regularizer:` Regularizer to apply a penalty on the layer's output\n",
    "  - [link 1](https://www.tensorflow.org/api_docs/python/tf/keras/regularizers/Regularizer)\n",
    "  - [link 2](https://keras.io/api/layers/regularizers/)\n",
    "- `Dropout` \n",
    "   - [Article 1](https://jmlr.org/papers/volume15/srivastava14a/srivastava14a.pdf)\n",
    "   - [Article 2](https://proceedings.mlr.press/v48/gal16.pdf)\n",
    "   - [link 1](https://www.tensorflow.org/api_docs/python/tf/keras/layers/Dropout)\n",
    "   - [AlphaDropout:](https://www.tensorflow.org/api_docs/python/tf/keras/layers/AlphaDropout) It fits well to Scaled Exponential Linear Units by randomly setting activations to the negative saturation value.\n",
    "- `Max-Norm`"
   ]
  },
  {
   "cell_type": "code",
   "execution_count": null,
   "metadata": {},
   "outputs": [],
   "source": [
    "# ======================================================== Build the model ===========================================================\n",
    "model = keras.models.Sequential([keras.layers.Flatten(input_shape=x_train.shape[1:3]),               # x_train.shape[1:3]:(28, 28)\n",
    "                                keras.layers.Dense(units=100,\n",
    "                                                   # kernel_regularizer=keras.regularizers.l2(0.01),   # L2 Regularization Penalty\n",
    "                                                   kernel_regularizer=keras.regularizers.L1L2(l1=0.01, l2=0.01),  # L1 + L2 penalties\n",
    "                                                   activation=\"relu\"),\n",
    "                                # keras.layers.Dropout(0.2),\n",
    "                                keras.layers.Dense(units=75, \n",
    "                                                   # kernel_regularizer=keras.regularizers.l2(0.01),\n",
    "                                                   activation=\"relu\"),\n",
    "                                keras.layers.Dropout(0.2),\n",
    "                                keras.layers.Dense(units=len(np.unique(y_train)), activation=\"softmax\")])\n",
    "model.summary()\n",
    "weights, bias = model.layers[1].get_weights()                                 # weights & bias in first layer\n",
    "print(f\"\\n weights:{weights}; \\n weights.shape: {weights.shape}\")\n",
    "print(f\"\\n bias: {bias}; \\n bias.shape: {bias.shape}\")\n",
    "# ======================================================= Compile the model ==========================================================\n",
    "model.compile(loss=\"sparse_categorical_crossentropy\",\n",
    "              optimizer=\"sgd\",\n",
    "              metrics=[\"accuracy\"])\n",
    "# ========================================================= Fit the model ============================================================\n",
    "history_train = model.fit(x_train, y_train, epochs=5, validation_split=0.15)\n",
    "# ======================================================= Evaluate the model =========================================================\n",
    "history_test = model.evaluate(x_test, y_test, verbose=1)\n",
    "# ======================================================== Predict the model =========================================================\n",
    "pred = x_test[0:4,:,:]\n",
    "pred_x_test = model.predict(pred).round(3)\n",
    "labels_pred = np.argmax(pred_x_test, axis=1)\n",
    "print(f\"\\n pred.shape: {pred.shape}\")\n",
    "print(f\"\\n pred_x_test: {pred_x_test}\")\n",
    "print(f\"\\n labels_pred: {labels_pred}, y_test: {y_test[0:4]}\")\n",
    "# ======================================================== Plot the model ============================================================\n",
    "fig, axs = plt.subplots(nrows=1, ncols=2, figsize=(5, 3))\n",
    "axs[0].plot(history_train.history[\"loss\"], label=\"train loss\")\n",
    "axs[0].plot(history_train.history[\"accuracy\"], label=\"train accuracy\")\n",
    "axs[1].plot(history_train.history[\"val_loss\"], label=\"validation loss\")\n",
    "axs[1].plot(history_train.history[\"val_accuracy\"], label=\"validation accuracy\")\n",
    "axs[0].legend()\n",
    "axs[1].legend()"
   ]
  },
  {
   "cell_type": "code",
   "execution_count": null,
   "metadata": {},
   "outputs": [],
   "source": []
  },
  {
   "cell_type": "code",
   "execution_count": 29,
   "metadata": {},
   "outputs": [],
   "source": [
    "model = keras.models.Sequential([\n",
    "    keras.layers.Flatten(input_shape=[28, 28]),\n",
    "    keras.layers.Dropout(0.2),\n",
    "    keras.layers.Dense(100, activation=\"elu\",\n",
    "                       kernel_initializer=\"he_normal\",\n",
    "                       kernel_regularizer=keras.regularizers.l2(0.01)),\n",
    "    keras.layers.Dropout(0.2),\n",
    "    keras.layers.Dense(100, activation=\"elu\",\n",
    "                       kernel_initializer=\"he_normal\"),\n",
    "    keras.layers.Dropout(0.2),\n",
    "    keras.layers.Dense(50, activation=\"elu\",\n",
    "                       kernel_initializer=\"he_normal\"),\n",
    "    keras.layers.Dropout(0.2),                       \n",
    "    keras.layers.Dense(10, activation=\"softmax\")\n",
    "])"
   ]
  }
 ],
 "metadata": {
  "kernelspec": {
   "display_name": "Python 3",
   "language": "python",
   "name": "python3"
  },
  "language_info": {
   "codemirror_mode": {
    "name": "ipython",
    "version": 3
   },
   "file_extension": ".py",
   "mimetype": "text/x-python",
   "name": "python",
   "nbconvert_exporter": "python",
   "pygments_lexer": "ipython3",
   "version": "3.11.4"
  }
 },
 "nbformat": 4,
 "nbformat_minor": 0
}
