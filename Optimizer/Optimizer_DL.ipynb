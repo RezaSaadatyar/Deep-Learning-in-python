{
 "cells": [
  {
   "cell_type": "markdown",
   "metadata": {
    "collapsed": false
   },
   "source": [
    "*Import Libraries*"
   ]
  },
  {
   "cell_type": "code",
   "execution_count": 2,
   "metadata": {
    "collapsed": false
   },
   "outputs": [],
   "source": [
    "import numpy as np\n",
    "# import tensorflow as tf                                                       # print(tf.__version__)\n",
    "from tensorflow import keras\n",
    "from keras.datasets import fashion_mnist, mnist\n",
    "import matplotlib.pyplot as plt"
   ]
  },
  {
   "cell_type": "markdown",
   "metadata": {
    "collapsed": false
   },
   "source": [
    "*Step 1. Load data*<br/>\n",
    "Path data: C:\\Users\\name pc\\.keras<br/>\n",
    "[MNIST Dataset](https://www.tensorflow.org/datasets/catalog/mnist)<br>\n",
    "[Fashion MNIST](https://github.com/zalandoresearch/fashion-mnist)"
   ]
  },
  {
   "cell_type": "code",
   "execution_count": 3,
   "metadata": {
    "ExecuteTime": {
     "end_time": "2023-06-06T10:46:34.186953900Z",
     "start_time": "2023-06-06T10:46:33.304438100Z"
    },
    "collapsed": false
   },
   "outputs": [
    {
     "name": "stdout",
     "output_type": "stream",
     "text": [
      "x_train.shape:(60000, 28, 28)\n",
      "x_test.shape:(10000, 28, 28)\n",
      "y_train.shape:(60000,)\n",
      "y_test.shape:(10000,)\n",
      "y_train[:10]:[9 0 0 ... 3 0 5]\n",
      "x_train[0,]: [[0 0 0 0 0 0 0 0 0 0 0 0 0 0 0 0 0 0 0 0 0 0 0 0 0 0 0 0]\n",
      " [0 0 0 0 0 0 0 0 0 0 0 0 0 0 0 0 0 0 0 0 0 0 0 0 0 0 0 0]]\n"
     ]
    }
   ],
   "source": [
    "name = 2                                                                        # 1:mnist; 2:fashion_mnist\n",
    "if name==1:\n",
    "    (x_train, y_train), (x_test, y_test) = mnist.load_data()                    # 70,000 28x28\n",
    "else:\n",
    "    (x_train, y_train), (x_test, y_test) = fashion_mnist.load_data()            # 70,000 28x28\n",
    "print(f\"x_train.shape:{x_train.shape}\")                                         # (60000, 28, 28) = (Number of images, 28 , 28)\n",
    "print(f\"x_test.shape:{x_test.shape}\")                                           # (10000, 28, 28) = (Number of images, 28 , 28)\n",
    "print(f\"y_train.shape:{y_train.shape}\")                                         # (60000,) = (Number of label)\n",
    "print(f\"y_test.shape:{y_test.shape}\")                                           # (10000,) = (Number of label)\n",
    "print(f\"y_train[:10]:{y_train}\")                                                # Train labels\n",
    "print(f\"x_train[0,]: {x_train[0, 0:2, :]}\")                                     # (Image 0, 0:2 out of 28, 28) ==> Ankle boot"
   ]
  },
  {
   "cell_type": "code",
   "execution_count": 4,
   "metadata": {
    "ExecuteTime": {
     "end_time": "2023-06-06T10:46:42.505475200Z",
     "start_time": "2023-06-06T10:46:42.255618600Z"
    },
    "collapsed": false
   },
   "outputs": [
    {
     "data": {
      "text/plain": [
       "<matplotlib.image.AxesImage at 0x133fc27e110>"
      ]
     },
     "execution_count": 4,
     "metadata": {},
     "output_type": "execute_result"
    },
    {
     "data": {
      "image/png": "[encoded data removed]",
      "text/plain": [
       "<Figure size 300x200 with 1 Axes>"
      ]
     },
     "metadata": {},
     "output_type": "display_data"
    }
   ],
   "source": [
    "fig, ax = plt.subplots(figsize=(3, 2))\n",
    "ax.imshow(x_train[0,], cmap=\"gray\")"
   ]
  },
  {
   "cell_type": "markdown",
   "metadata": {
    "collapsed": false
   },
   "source": [
    "*Step 2. Normalize data*<br/>\n",
    "pixel values between 0 and 255; Scale these values to a range of 0 to 1 before feeding them to the neural network model."
   ]
  },
  {
   "cell_type": "code",
   "execution_count": 5,
   "metadata": {
    "ExecuteTime": {
     "end_time": "2023-06-06T10:47:20.978817600Z",
     "start_time": "2023-06-06T10:47:20.674993Z"
    },
    "collapsed": false
   },
   "outputs": [],
   "source": [
    "x_train, x_test = x_train/255.0, x_test/255.0    "
   ]
  },
  {
   "cell_type": "markdown",
   "metadata": {
    "collapsed": false
   },
   "source": [
    "*Step 3. Creating a Sequential model*<br/>\n",
    "[Sequential model](https://keras.io/guides/sequential_model/)<br/>\n",
    "[Dense layer](https://keras.io/api/layers/core_layers/dense/)<br/>\n",
    "[Activation functions](https://keras.io/api/layers/activations/)<br/>\n",
    "[Flatten layer](https://keras.io/api/layers/reshaping_layers/flatten/)<br/>"
   ]
  },
  {
   "cell_type": "code",
   "execution_count": 56,
   "metadata": {
    "ExecuteTime": {
     "end_time": "2023-06-06T10:47:30.460498100Z",
     "start_time": "2023-06-06T10:47:30.285578200Z"
    },
    "collapsed": false
   },
   "outputs": [
    {
     "name": "stdout",
     "output_type": "stream",
     "text": [
      "Model: \"sequential_2\"\n",
      "_________________________________________________________________\n",
      " Layer (type)                Output Shape              Param #   \n",
      "=================================================================\n",
      " flatten_2 (Flatten)         (None, 784)               0         \n",
      "                                                                 \n",
      " dense_6 (Dense)             (None, 100)               78500     \n",
      "                                                                 \n",
      " dense_7 (Dense)             (None, 75)                7575      \n",
      "                                                                 \n",
      " dense_8 (Dense)             (None, 10)                760       \n",
      "                                                                 \n",
      "=================================================================\n",
      "Total params: 86,835\n",
      "Trainable params: 86,835\n",
      "Non-trainable params: 0\n",
      "_________________________________________________________________\n"
     ]
    }
   ],
   "source": [
    "# Define Sequential model with 3 layers using 2 methods\n",
    "def building_model(x_train,units_layer1, units_layer2, units_output, fun_output, method):\n",
    "    global model\n",
    "    if method==1:\n",
    "        model = keras.models.Sequential()\n",
    "        model.add(keras.layers.Flatten(input_shape=x_train.shape[1:3]))         # Layer input : Input must be vectored; x_train.shape[1:3]:(28, 28)\n",
    "        model.add(keras.layers.Dense(units_layer1, activation=\"relu\"))          # Layer 1: The first hidden layer\n",
    "        model.add(keras.layers.Dense(units_layer2, activation=\"relu\"))          # Layer 2: The second hidden layer\n",
    "        model.add(keras.layers.Dense(units_output, activation=fun_output))      # Layer output or 3: 10 neuron = 10 class; Multi classification then activation is softmax\n",
    "    elif method==2:\n",
    "        model = keras.models.Sequential([\n",
    "            keras.layers.Flatten(input_shape=x_train.shape[1:3]),               # x_train.shape[1:3]:(28, 28)\n",
    "            keras.layers.Dense(units_layer1,activation=\"relu\"),\n",
    "            keras.layers.Dense(units_layer2, activation=\"relu\"),\n",
    "            keras.layers.Dense(units_output, activation=fun_output)])\n",
    "    return model\n",
    "model= building_model(x_train,units_layer1=100, units_layer2=75, units_output=10, fun_output=\"softmax\", method=2)\n",
    "model.summary()"
   ]
  },
  {
   "cell_type": "markdown",
   "metadata": {
    "collapsed": false
   },
   "source": [
    "*Step 3.1: Print the model parameters*"
   ]
  },
  {
   "cell_type": "code",
   "execution_count": 57,
   "metadata": {
    "ExecuteTime": {
     "end_time": "2023-06-06T10:47:45.595611300Z",
     "start_time": "2023-06-06T10:47:45.543581700Z"
    },
    "collapsed": false
   },
   "outputs": [
    {
     "data": {
      "text/plain": [
       "[<keras.layers.reshaping.flatten.Flatten at 0x19ae762e290>,\n",
       " <keras.layers.core.dense.Dense at 0x19ae762ca00>,\n",
       " <keras.layers.core.dense.Dense at 0x19ae762fa90>,\n",
       " <keras.layers.core.dense.Dense at 0x19ae7615420>]"
      ]
     },
     "execution_count": 57,
     "metadata": {},
     "output_type": "execute_result"
    }
   ],
   "source": [
    "model.layers"
   ]
  },
  {
   "cell_type": "code",
   "execution_count": 58,
   "metadata": {
    "ExecuteTime": {
     "end_time": "2023-06-06T10:47:50.460984700Z",
     "start_time": "2023-06-06T10:47:50.400998900Z"
    },
    "collapsed": false
   },
   "outputs": [
    {
     "name": "stdout",
     "output_type": "stream",
     "text": [
      "weights:[[-0.07771023 -0.03512208  0.04507594 ... -0.0444593  -0.01684878\n",
      "  -0.02952897]\n",
      " [-0.07651211  0.03869442  0.04412022 ...  0.04696287 -0.01046001\n",
      "   0.08051331]\n",
      " [-0.02841158 -0.06881222  0.05441937 ...  0.07416122 -0.08084415\n",
      "   0.0073989 ]\n",
      " ...\n",
      " [ 0.04067504  0.03070255 -0.03098211 ... -0.06067839  0.02638599\n",
      "  -0.07870661]\n",
      " [ 0.00908421 -0.0120855  -0.06686854 ...  0.05330965 -0.05676524\n",
      "   0.05479673]\n",
      " [ 0.06745569 -0.03739367 -0.07080661 ...  0.05533269  0.05228692\n",
      "  -0.08087917]]; weights.shape: (784, 100)\n",
      " bias: [0. 0. 0. 0. 0. 0. 0. 0. 0. 0. 0. 0. 0. 0. 0. 0. 0. 0. 0. 0. 0. 0. 0. 0.\n",
      " 0. 0. 0. 0. 0. 0. 0. 0. 0. 0. 0. 0. 0. 0. 0. 0. 0. 0. 0. 0. 0. 0. 0. 0.\n",
      " 0. 0. 0. 0. 0. 0. 0. 0. 0. 0. 0. 0. 0. 0. 0. 0. 0. 0. 0. 0. 0. 0. 0. 0.\n",
      " 0. 0. 0. 0. 0. 0. 0. 0. 0. 0. 0. 0. 0. 0. 0. 0. 0. 0. 0. 0. 0. 0. 0. 0.\n",
      " 0. 0. 0. 0.]; bias.shape: (100,)\n"
     ]
    }
   ],
   "source": [
    "weights, bias = model.layers[1].get_weights()                                 # weights & bias in first layer\n",
    "print(f\"weights:{weights}; weights.shape: {weights.shape}\")\n",
    "print(f\" bias: {bias}; bias.shape: {bias.shape}\")"
   ]
  },
  {
   "cell_type": "markdown",
   "metadata": {
    "collapsed": false
   },
   "source": [
    "*Step 4. [Compile Model](https://keras.io/api/models/model_training_apis/)*<br/>\n",
    "[Metrics](https://keras.io/api/metrics/)<br/>"
   ]
  },
  {
   "cell_type": "code",
   "execution_count": 59,
   "metadata": {
    "ExecuteTime": {
     "end_time": "2023-06-06T10:49:16.895904400Z",
     "start_time": "2023-06-06T10:49:16.809953400Z"
    },
    "collapsed": false
   },
   "outputs": [],
   "source": [
    "model.compile(loss=\"sparse_categorical_crossentropy\", optimizer=\"sgd\", metrics=[\"accuracy\"]) # Multi Classification:sparse_categorical_crossentropy"
   ]
  },
  {
   "cell_type": "markdown",
   "metadata": {
    "collapsed": false
   },
   "source": [
    "*Step 5: [Fit method](https://keras.io/api/models/model_training_apis/)*<br/>"
   ]
  },
  {
   "cell_type": "code",
   "execution_count": 60,
   "metadata": {
    "ExecuteTime": {
     "end_time": "2023-06-06T10:51:03.338115200Z",
     "start_time": "2023-06-06T10:49:23.318426600Z"
    },
    "collapsed": false
   },
   "outputs": [
    {
     "name": "stdout",
     "output_type": "stream",
     "text": [
      "Epoch 1/20\n",
      "1594/1594 [==============================] - 6s 3ms/step - loss: 0.7667 - accuracy: 0.7475 - val_loss: 0.5623 - val_accuracy: 0.8031\n",
      "Epoch 2/20\n",
      "1594/1594 [==============================] - 4s 3ms/step - loss: 0.5072 - accuracy: 0.8246 - val_loss: 0.4847 - val_accuracy: 0.8280\n",
      "Epoch 3/20\n",
      "1594/1594 [==============================] - 5s 3ms/step - loss: 0.4613 - accuracy: 0.8390 - val_loss: 0.4457 - val_accuracy: 0.8423\n",
      "Epoch 4/20\n",
      "1594/1594 [==============================] - 5s 3ms/step - loss: 0.4333 - accuracy: 0.8503 - val_loss: 0.4452 - val_accuracy: 0.8440\n",
      "Epoch 5/20\n",
      "1594/1594 [==============================] - 5s 3ms/step - loss: 0.4132 - accuracy: 0.8551 - val_loss: 0.4437 - val_accuracy: 0.8401\n",
      "Epoch 6/20\n",
      "1594/1594 [==============================] - 4s 3ms/step - loss: 0.3968 - accuracy: 0.8608 - val_loss: 0.4280 - val_accuracy: 0.8470\n",
      "Epoch 7/20\n",
      "1594/1594 [==============================] - 5s 3ms/step - loss: 0.3841 - accuracy: 0.8662 - val_loss: 0.3996 - val_accuracy: 0.8587\n",
      "Epoch 8/20\n",
      "1594/1594 [==============================] - 5s 3ms/step - loss: 0.3716 - accuracy: 0.8696 - val_loss: 0.4082 - val_accuracy: 0.8572\n",
      "Epoch 9/20\n",
      "1594/1594 [==============================] - 5s 3ms/step - loss: 0.3626 - accuracy: 0.8713 - val_loss: 0.3790 - val_accuracy: 0.8668\n",
      "Epoch 10/20\n",
      "1594/1594 [==============================] - 4s 3ms/step - loss: 0.3534 - accuracy: 0.8738 - val_loss: 0.3878 - val_accuracy: 0.8634\n",
      "Epoch 11/20\n",
      "1594/1594 [==============================] - 4s 3ms/step - loss: 0.3458 - accuracy: 0.8778 - val_loss: 0.3665 - val_accuracy: 0.8690\n",
      "Epoch 12/20\n",
      "1594/1594 [==============================] - 4s 3ms/step - loss: 0.3384 - accuracy: 0.8791 - val_loss: 0.3868 - val_accuracy: 0.8651\n",
      "Epoch 13/20\n",
      "1594/1594 [==============================] - 5s 3ms/step - loss: 0.3301 - accuracy: 0.8823 - val_loss: 0.3846 - val_accuracy: 0.8664\n",
      "Epoch 14/20\n",
      "1594/1594 [==============================] - 5s 3ms/step - loss: 0.3237 - accuracy: 0.8840 - val_loss: 0.3552 - val_accuracy: 0.8742\n",
      "Epoch 15/20\n",
      "1594/1594 [==============================] - 5s 3ms/step - loss: 0.3169 - accuracy: 0.8861 - val_loss: 0.3577 - val_accuracy: 0.8723\n",
      "Epoch 16/20\n",
      "1594/1594 [==============================] - 6s 4ms/step - loss: 0.3117 - accuracy: 0.8876 - val_loss: 0.3426 - val_accuracy: 0.8781\n",
      "Epoch 17/20\n",
      "1594/1594 [==============================] - 6s 3ms/step - loss: 0.3067 - accuracy: 0.8901 - val_loss: 0.3570 - val_accuracy: 0.8748\n",
      "Epoch 18/20\n",
      "1594/1594 [==============================] - 5s 3ms/step - loss: 0.3008 - accuracy: 0.8914 - val_loss: 0.3778 - val_accuracy: 0.8644\n",
      "Epoch 19/20\n",
      "1594/1594 [==============================] - 5s 3ms/step - loss: 0.2976 - accuracy: 0.8926 - val_loss: 0.3541 - val_accuracy: 0.8733\n",
      "Epoch 20/20\n",
      "1594/1594 [==============================] - 5s 3ms/step - loss: 0.2920 - accuracy: 0.8947 - val_loss: 0.3407 - val_accuracy: 0.8791\n"
     ]
    }
   ],
   "source": [
    "history_train = model.fit(x_train, y_train, epochs=20, validation_split=0.15)"
   ]
  },
  {
   "cell_type": "markdown",
   "metadata": {
    "collapsed": false
   },
   "source": [
    "*Step 5.1: Print the history parameters*"
   ]
  },
  {
   "cell_type": "code",
   "execution_count": 61,
   "metadata": {
    "ExecuteTime": {
     "end_time": "2023-06-06T10:52:11.649794500Z",
     "start_time": "2023-06-06T10:52:11.630804900Z"
    },
    "collapsed": false
   },
   "outputs": [
    {
     "name": "stdout",
     "output_type": "stream",
     "text": [
      " history_params: {'verbose': 1, 'epochs': 20, 'steps': 1594}\n",
      "Loss_train: [0.7666921615600586, 0.5072388648986816, 0.46129074692726135, 0.43332651257514954, 0.41319194436073303, 0.39680272340774536, 0.38410818576812744, 0.3716121315956116, 0.36262407898902893, 0.35342222452163696, 0.34582066535949707, 0.3383598029613495, 0.3301279842853546, 0.32368120551109314, 0.31690409779548645, 0.31172969937324524, 0.30673328042030334, 0.300808310508728, 0.29759714007377625, 0.29201480746269226]\n",
      "Accuracy_train: [0.7475293874740601, 0.8245686292648315, 0.8390195965766907, 0.8502941131591797, 0.8550980687141418, 0.8608235120773315, 0.866215705871582, 0.8695686459541321, 0.8712745308876038, 0.8737843036651611, 0.8777843117713928, 0.879058837890625, 0.8823137283325195, 0.8840000033378601, 0.8860980272293091, 0.8875686526298523, 0.890137255191803, 0.8914117813110352, 0.892627477645874, 0.8946666717529297]\n",
      "Loss_validation: [0.562313973903656, 0.48470360040664673, 0.44570645689964294, 0.445156455039978, 0.44366955757141113, 0.42801743745803833, 0.39955952763557434, 0.4082326292991638, 0.3789987564086914, 0.3877805769443512, 0.36654728651046753, 0.3868010640144348, 0.3846490681171417, 0.35518306493759155, 0.3576769232749939, 0.3426123261451721, 0.357016384601593, 0.3777795433998108, 0.3541344404220581, 0.34068378806114197]\n",
      "Accuracy_validation: [0.8031111359596252, 0.828000009059906, 0.8423333168029785, 0.843999981880188, 0.8401111364364624, 0.847000002861023, 0.8586666584014893, 0.8572221994400024, 0.866777777671814, 0.863444447517395, 0.8690000176429749, 0.8651111125946045, 0.86644446849823, 0.8742222189903259, 0.8723333477973938, 0.8781111240386963, 0.8747777938842773, 0.8644444346427917, 0.8733333349227905, 0.879111111164093]\n"
     ]
    }
   ],
   "source": [
    "print(f\" history_params: {history_train.params}\")\n",
    "print(f\"Loss_train: {history_train.history['loss']}\")                                         # print(f\"history.history: {history.history}\")\n",
    "print(f\"Accuracy_train: {history_train.history['accuracy']}\")\n",
    "print(f\"Loss_validation: {history_train.history['val_loss']}\")\n",
    "print(f\"Accuracy_validation: {history_train.history['val_accuracy']}\")"
   ]
  },
  {
   "cell_type": "markdown",
   "metadata": {
    "collapsed": false
   },
   "source": [
    "*Step 5.2: Plot*"
   ]
  },
  {
   "cell_type": "code",
   "execution_count": 62,
   "metadata": {
    "ExecuteTime": {
     "end_time": "2023-06-06T10:52:19.280808400Z",
     "start_time": "2023-06-06T10:52:18.983705300Z"
    },
    "collapsed": false
   },
   "outputs": [
    {
     "data": {
      "text/plain": [
       "<matplotlib.legend.Legend at 0x19ae77e0040>"
      ]
     },
     "execution_count": 62,
     "metadata": {},
     "output_type": "execute_result"
    },
    {
     "data": {
      "image/png": "[encoded data removed]",
      "text/plain": [
       "<Figure size 400x300 with 1 Axes>"
      ]
     },
     "metadata": {},
     "output_type": "display_data"
    }
   ],
   "source": [
    "fig, ax = plt.subplots(figsize=(4, 3))\n",
    "ax.plot(history_train.history[\"loss\"], label=\"train loss\")\n",
    "ax.plot(history_train.history[\"accuracy\"], label=\"train accuracy\")\n",
    "ax.plot(history_train.history[\"val_loss\"], label=\"validation loss\")\n",
    "ax.plot(history_train.history[\"val_accuracy\"], label=\"validation accuracy\")\n",
    "ax.legend()"
   ]
  },
  {
   "cell_type": "markdown",
   "metadata": {
    "collapsed": false
   },
   "source": [
    "*Step 6: [Evaluate Model](https://keras.io/api/models/model_training_apis/)*\n"
   ]
  },
  {
   "cell_type": "code",
   "execution_count": 63,
   "metadata": {
    "ExecuteTime": {
     "end_time": "2023-06-06T10:52:25.114706800Z",
     "start_time": "2023-06-06T10:52:24.400112800Z"
    },
    "collapsed": false
   },
   "outputs": [
    {
     "name": "stdout",
     "output_type": "stream",
     "text": [
      "313/313 [==============================] - 1s 2ms/step - loss: 0.3602 - accuracy: 0.8714\n"
     ]
    }
   ],
   "source": [
    "history_test = model.evaluate(x_test, y_test, verbose=1)"
   ]
  },
  {
   "cell_type": "markdown",
   "metadata": {
    "collapsed": false
   },
   "source": [
    "Step 7: Predict Model"
   ]
  },
  {
   "cell_type": "code",
   "execution_count": 64,
   "metadata": {
    "ExecuteTime": {
     "end_time": "2023-06-06T10:52:28.306877900Z",
     "start_time": "2023-06-06T10:52:28.164958900Z"
    },
    "collapsed": false
   },
   "outputs": [
    {
     "name": "stdout",
     "output_type": "stream",
     "text": [
      "1/1 [==============================] - 0s 81ms/step\n",
      "pred.shape: (4, 28, 28)\n",
      "pred_x_test: [[0.    0.    0.    0.    0.    0.031 0.    0.036 0.002 0.931]\n",
      " [0.    0.    0.999 0.    0.001 0.    0.    0.    0.    0.   ]\n",
      " [0.    1.    0.    0.    0.    0.    0.    0.    0.    0.   ]\n",
      " [0.    1.    0.    0.    0.    0.    0.    0.    0.    0.   ]]\n",
      "labels_pred: [9 2 1 1], y_test: [9 2 1 1]\n"
     ]
    }
   ],
   "source": [
    "pred = x_test[0:4,:,:]\n",
    "pred_x_test = model.predict(pred).round(3)\n",
    "labels_pred = np.argmax(pred_x_test, axis=1)\n",
    "print(f\"pred.shape: {pred.shape}\")\n",
    "print(f\"pred_x_test: {pred_x_test}\")\n",
    "print(f\"labels_pred: {labels_pred}, y_test: {y_test[0:4]}\")"
   ]
  },
  {
   "cell_type": "markdown",
   "metadata": {},
   "source": [
    "**Vanishing/exploding gradients**\n",
    "- Initialization\n",
    "  - [Article](http://proceedings.mlr.press/v9/glorot10a/glorot10a.pdf)\n",
    "- Nonsaturating activation functions\n",
    "- Batch normalization\n",
    "- Gradient clipping"
   ]
  },
  {
   "cell_type": "markdown",
   "metadata": {},
   "source": [
    "**Time**"
   ]
  },
  {
   "cell_type": "markdown",
   "metadata": {},
   "source": [
    "**Limited data**"
   ]
  },
  {
   "cell_type": "markdown",
   "metadata": {},
   "source": [
    "**Overfitting**"
   ]
  }
 ],
 "metadata": {
  "kernelspec": {
   "display_name": "Python 3",
   "language": "python",
   "name": "python3"
  },
  "language_info": {
   "codemirror_mode": {
    "name": "ipython",
    "version": 3
   },
   "file_extension": ".py",
   "mimetype": "text/x-python",
   "name": "python",
   "nbconvert_exporter": "python",
   "pygments_lexer": "ipython3",
   "version": "3.11.4"
  }
 },
 "nbformat": 4,
 "nbformat_minor": 0
}
