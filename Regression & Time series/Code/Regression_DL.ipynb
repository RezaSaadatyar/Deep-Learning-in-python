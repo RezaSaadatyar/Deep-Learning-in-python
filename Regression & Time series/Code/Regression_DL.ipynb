{
 "cells": [
  {
   "cell_type": "markdown",
   "metadata": {
    "collapsed": false
   },
   "source": [
    "*Import Libraries*"
   ]
  },
  {
   "cell_type": "code",
   "execution_count": 2,
   "metadata": {
    "ExecuteTime": {
     "end_time": "2023-06-06T12:48:56.163116400Z",
     "start_time": "2023-06-06T12:48:56.151128200Z"
    },
    "collapsed": false
   },
   "outputs": [],
   "source": [
    "import numpy as np\n",
    "from tensorflow import keras\n",
    "import matplotlib.pyplot as plt\n",
    "from sklearn import datasets, model_selection, preprocessing"
   ]
  },
  {
   "cell_type": "markdown",
   "metadata": {
    "collapsed": false
   },
   "source": [
    "*Step 1. Load data*<br/>\n",
    "[Dataset](https://scikit-learn.org/stable/modules/generated/sklearn.datasets.fetch_california_housing.html)"
   ]
  },
  {
   "cell_type": "code",
   "execution_count": 5,
   "metadata": {
    "ExecuteTime": {
     "end_time": "2023-06-06T11:22:49.691549800Z",
     "start_time": "2023-06-06T11:22:49.658568800Z"
    },
    "collapsed": false
   },
   "outputs": [
    {
     "name": "stdout",
     "output_type": "stream",
     "text": [
      "Data.keys: dict_keys(['data', 'target', 'frame', 'target_names', 'feature_names', 'DESCR'])\n",
      "\n",
      " Inputs:[[   8.3252       41.            6.98412698 ...    2.55555556\n",
      "    37.88       -122.23      ]\n",
      " [   8.3014       21.            6.23813708 ...    2.10984183\n",
      "    37.86       -122.22      ]\n",
      " [   7.2574       52.            8.28813559 ...    2.80225989\n",
      "    37.85       -122.24      ]\n",
      " ...\n",
      " [   1.7          17.            5.20554273 ...    2.3256351\n",
      "    39.43       -121.22      ]\n",
      " [   1.8672       18.            5.32951289 ...    2.12320917\n",
      "    39.43       -121.32      ]\n",
      " [   2.3886       16.            5.25471698 ...    2.61698113\n",
      "    39.37       -121.24      ]]\n",
      "\n",
      " Labels:[4.526 3.585 3.521 ... 0.923 0.847 0.894]\n",
      "\n",
      " Target_names:['MedInc', 'HouseAge', 'AveRooms', 'AveBedrms', 'Population', 'AveOccup', 'Latitude', 'Longitude']\n"
     ]
    }
   ],
   "source": [
    "data = datasets.fetch_california_housing()\n",
    "print(f\"Data.keys: {data.keys()}\")                                   # Information about dataset\n",
    "print(f\"\\n Inputs:{data['data']}\")                                      # Input data\n",
    "print(f\"\\n Labels:{data['target']}\")                                    # Targets or Labels\n",
    "print(f\"\\n Target_names:{data['feature_names']}\")                       # Features name"
   ]
  },
  {
   "cell_type": "code",
   "execution_count": 6,
   "metadata": {
    "ExecuteTime": {
     "end_time": "2023-06-06T11:23:49.466573Z",
     "start_time": "2023-06-06T11:23:49.400594600Z"
    },
    "collapsed": false
   },
   "outputs": [
    {
     "name": "stdout",
     "output_type": "stream",
     "text": [
      "input_data.shape: (20640, 8)\n",
      "labels.shape: (20640,)\n"
     ]
    }
   ],
   "source": [
    "input_data = data['data']                                         # Input data\n",
    "labels_data = data['target']                                      # Targets or Labels\n",
    "print(f\"input_data.shape: {input_data.shape}\")\n",
    "print(f\"labels.shape: {labels_data.shape}\")"
   ]
  },
  {
   "cell_type": "markdown",
   "metadata": {
    "collapsed": false
   },
   "source": [
    "*Step 2: [Split](https://scikit-learn.org/stable/modules/generated/sklearn.model_selection.train_test_split.html)*<br/>\n",
    "Split dataset into random train and test subsets<br/>\n",
    "Split train into random train and validation subsets<br/>"
   ]
  },
  {
   "cell_type": "code",
   "execution_count": 7,
   "metadata": {
    "ExecuteTime": {
     "end_time": "2023-06-06T12:26:31.952766100Z",
     "start_time": "2023-06-06T12:26:31.908789200Z"
    },
    "collapsed": false
   },
   "outputs": [
    {
     "name": "stdout",
     "output_type": "stream",
     "text": [
      "x_train.shape:(11610, 8)\n",
      "x_test.shape:(5160, 8)\n",
      "x_validation.shape:(3870, 8)\n",
      "y_train.shape:(11610,)\n",
      "y_test.shape:(5160,)\n",
      "y_validation.shape:(3870,)\n"
     ]
    }
   ],
   "source": [
    "x_train, x_test, y_train, y_test = model_selection.train_test_split(input_data, labels_data, test_size=0.25)  # Split data into train & test\n",
    "x_train, x_validation, y_train, y_validation = model_selection.train_test_split(x_train, y_train, test_size=0.25) # Split train into train & validation\n",
    "print(f\"x_train.shape:{x_train.shape}\")\n",
    "print(f\"x_test.shape:{x_test.shape}\")\n",
    "print(f\"x_validation.shape:{x_validation.shape}\")\n",
    "print(f\"y_train.shape:{y_train.shape}\")\n",
    "print(f\"y_test.shape:{y_test.shape}\")\n",
    "print(f\"y_validation.shape:{y_validation.shape}\")"
   ]
  },
  {
   "cell_type": "markdown",
   "metadata": {
    "collapsed": false
   },
   "source": [
    "*Step 3: [Normalize data](https://scikit-learn.org/stable/modules/generated/sklearn.preprocessing.StandardScaler.html)*"
   ]
  },
  {
   "cell_type": "code",
   "execution_count": 8,
   "metadata": {
    "ExecuteTime": {
     "end_time": "2023-06-06T13:11:37.083941600Z",
     "start_time": "2023-06-06T13:11:37.040645200Z"
    },
    "collapsed": false
   },
   "outputs": [],
   "source": [
    "norm = preprocessing.StandardScaler()\n",
    "x_train_norm = norm.fit_transform(x_train)\n",
    "x_validation_norm = norm.transform(x_validation)\n",
    "x_test_norm = norm.transform(x_test)"
   ]
  },
  {
   "cell_type": "markdown",
   "metadata": {},
   "source": [
    "*Step 4. Creating a Sequential model*<br/>\n",
    "[Sequential model](https://keras.io/guides/sequential_model/)<br/>\n",
    "[Dense layer](https://keras.io/api/layers/core_layers/dense/)<br/>\n",
    "[Activation functions](https://keras.io/api/layers/activations/)<br/>\n",
    "[Flatten layer](https://keras.io/api/layers/reshaping_layers/flatten/)<br/>"
   ]
  },
  {
   "cell_type": "code",
   "execution_count": 14,
   "metadata": {
    "ExecuteTime": {
     "end_time": "2023-06-06T13:12:53.814994400Z",
     "start_time": "2023-06-06T13:12:53.774019100Z"
    },
    "collapsed": false
   },
   "outputs": [],
   "source": [
    "# Define Sequential model with 3 layers using 2 methods\n",
    "def building_model(units_layer1, units_layer2, units_output, fun_output, method):\n",
    "    \n",
    "    global model\n",
    "    if method==1:\n",
    "        model = keras.models.Sequential()\n",
    "        model.add(keras.layers.Dense(units_layer1, activation=\"relu\"))          # Layer 1: The first hidden layer\n",
    "        model.add(keras.layers.Dense(units_layer2, activation=\"relu\"))          # Layer 2: The second hidden layer\n",
    "        model.add(keras.layers.Dense(units_output))                             # Layer output or 3: 1 neuron ==> regression then activation is not required\n",
    "    \n",
    "    elif method==2:\n",
    "        model = keras.models.Sequential([\n",
    "            keras.layers.Dense(units_layer1,activation=\"relu\"),\n",
    "            keras.layers.Dense(units_layer2, activation=\"relu\"),\n",
    "            keras.layers.Dense(units_output)])\n",
    "    return model\n",
    "\n",
    "model= building_model(units_layer1=40, units_layer2=20, units_output=1, fun_output=\"\", method=2)"
   ]
  },
  {
   "cell_type": "markdown",
   "metadata": {
    "collapsed": false
   },
   "source": [
    "*Step 4.1: Print the model parameters*"
   ]
  },
  {
   "cell_type": "code",
   "execution_count": 15,
   "metadata": {
    "ExecuteTime": {
     "end_time": "2023-06-06T13:12:55.987891100Z",
     "start_time": "2023-06-06T13:12:55.946895400Z"
    },
    "collapsed": false
   },
   "outputs": [
    {
     "data": {
      "text/plain": [
       "[<keras.src.layers.core.dense.Dense at 0x1f3a40b7a10>,\n",
       " <keras.src.layers.core.dense.Dense at 0x1f3a05e6290>,\n",
       " <keras.src.layers.core.dense.Dense at 0x1f3a40b7e90>]"
      ]
     },
     "execution_count": 15,
     "metadata": {},
     "output_type": "execute_result"
    }
   ],
   "source": [
    "model.layers"
   ]
  },
  {
   "cell_type": "markdown",
   "metadata": {},
   "source": [
    "*Step 5. [Compile Model](https://keras.io/api/models/model_training_apis/)*<br/>\n",
    "[Metrics](https://keras.io/api/metrics/regression_metrics/)"
   ]
  },
  {
   "cell_type": "code",
   "execution_count": 16,
   "metadata": {
    "ExecuteTime": {
     "end_time": "2023-06-06T13:12:59.488078800Z",
     "start_time": "2023-06-06T13:12:59.438048500Z"
    },
    "collapsed": false
   },
   "outputs": [],
   "source": [
    "model.compile(loss=\"mean_squared_error\", optimizer=\"sgd\", metrics=[\"mean_absolute_error\"]) # Regression:mean_squared_error"
   ]
  },
  {
   "cell_type": "markdown",
   "metadata": {},
   "source": [
    "*Step 6: [Fit Model](https://keras.io/api/models/model_training_apis/)*"
   ]
  },
  {
   "cell_type": "code",
   "execution_count": 17,
   "metadata": {
    "ExecuteTime": {
     "end_time": "2023-06-06T13:13:17.939114600Z",
     "start_time": "2023-06-06T13:13:02.360225400Z"
    },
    "collapsed": false
   },
   "outputs": [
    {
     "name": "stdout",
     "output_type": "stream",
     "text": [
      "Epoch 1/20\n",
      "363/363 [==============================] - 2s 3ms/step - loss: 0.7467 - mean_absolute_error: 0.6084 - val_loss: 0.5001 - val_mean_absolute_error: 0.4977\n",
      "Epoch 2/20\n",
      "363/363 [==============================] - 1s 3ms/step - loss: 0.4419 - mean_absolute_error: 0.4798 - val_loss: 0.4681 - val_mean_absolute_error: 0.5017\n",
      "Epoch 3/20\n",
      "363/363 [==============================] - 1s 2ms/step - loss: 0.4101 - mean_absolute_error: 0.4591 - val_loss: 0.4460 - val_mean_absolute_error: 0.4715\n",
      "Epoch 4/20\n",
      "363/363 [==============================] - 1s 2ms/step - loss: 0.3955 - mean_absolute_error: 0.4485 - val_loss: 0.4224 - val_mean_absolute_error: 0.4549\n",
      "Epoch 5/20\n",
      "363/363 [==============================] - 1s 3ms/step - loss: 0.4005 - mean_absolute_error: 0.4451 - val_loss: 0.4223 - val_mean_absolute_error: 0.4632\n",
      "Epoch 6/20\n",
      "363/363 [==============================] - 1s 2ms/step - loss: 0.3818 - mean_absolute_error: 0.4407 - val_loss: 0.4034 - val_mean_absolute_error: 0.4488\n",
      "Epoch 7/20\n",
      "363/363 [==============================] - 1s 2ms/step - loss: 0.3714 - mean_absolute_error: 0.4350 - val_loss: 0.3995 - val_mean_absolute_error: 0.4383\n",
      "Epoch 8/20\n",
      "363/363 [==============================] - 1s 3ms/step - loss: 0.3638 - mean_absolute_error: 0.4309 - val_loss: 0.4123 - val_mean_absolute_error: 0.4494\n",
      "Epoch 9/20\n",
      "363/363 [==============================] - 1s 3ms/step - loss: 0.3589 - mean_absolute_error: 0.4278 - val_loss: 0.3905 - val_mean_absolute_error: 0.4426\n",
      "Epoch 10/20\n",
      "363/363 [==============================] - 2s 5ms/step - loss: 0.3537 - mean_absolute_error: 0.4239 - val_loss: 0.3883 - val_mean_absolute_error: 0.4406\n",
      "Epoch 11/20\n",
      "363/363 [==============================] - 1s 4ms/step - loss: 0.3478 - mean_absolute_error: 0.4203 - val_loss: 0.3836 - val_mean_absolute_error: 0.4454\n",
      "Epoch 12/20\n",
      "363/363 [==============================] - 1s 2ms/step - loss: 0.3458 - mean_absolute_error: 0.4172 - val_loss: 0.3714 - val_mean_absolute_error: 0.4246\n",
      "Epoch 13/20\n",
      "363/363 [==============================] - 1s 3ms/step - loss: 0.3409 - mean_absolute_error: 0.4147 - val_loss: 0.3759 - val_mean_absolute_error: 0.4273\n",
      "Epoch 14/20\n",
      "363/363 [==============================] - 1s 4ms/step - loss: 0.3372 - mean_absolute_error: 0.4111 - val_loss: 0.3785 - val_mean_absolute_error: 0.4421\n",
      "Epoch 15/20\n",
      "363/363 [==============================] - 1s 2ms/step - loss: 0.3336 - mean_absolute_error: 0.4094 - val_loss: 0.3683 - val_mean_absolute_error: 0.4370\n",
      "Epoch 16/20\n",
      "363/363 [==============================] - 1s 2ms/step - loss: 0.3303 - mean_absolute_error: 0.4052 - val_loss: 0.3699 - val_mean_absolute_error: 0.4284\n",
      "Epoch 17/20\n",
      "363/363 [==============================] - 1s 3ms/step - loss: 0.3288 - mean_absolute_error: 0.4038 - val_loss: 0.3692 - val_mean_absolute_error: 0.4149\n",
      "Epoch 18/20\n",
      "363/363 [==============================] - 1s 2ms/step - loss: 0.3233 - mean_absolute_error: 0.4012 - val_loss: 0.3679 - val_mean_absolute_error: 0.4389\n",
      "Epoch 19/20\n",
      "363/363 [==============================] - 1s 2ms/step - loss: 0.3220 - mean_absolute_error: 0.4008 - val_loss: 0.3575 - val_mean_absolute_error: 0.4144\n",
      "Epoch 20/20\n",
      "363/363 [==============================] - 1s 2ms/step - loss: 0.3208 - mean_absolute_error: 0.3982 - val_loss: 0.3551 - val_mean_absolute_error: 0.4298\n"
     ]
    }
   ],
   "source": [
    "history_train = model.fit(x_train_norm, y_train, epochs=20, validation_data=(x_validation_norm, y_validation))"
   ]
  },
  {
   "cell_type": "code",
   "execution_count": 18,
   "metadata": {},
   "outputs": [
    {
     "data": {
      "text/plain": [
       "(11610, 8)"
      ]
     },
     "execution_count": 18,
     "metadata": {},
     "output_type": "execute_result"
    }
   ],
   "source": [
    "x_train_norm.shape"
   ]
  }
 ],
 "metadata": {
  "kernelspec": {
   "display_name": "Python 3",
   "language": "python",
   "name": "python3"
  },
  "language_info": {
   "codemirror_mode": {
    "name": "ipython",
    "version": 3
   },
   "file_extension": ".py",
   "mimetype": "text/x-python",
   "name": "python",
   "nbconvert_exporter": "python",
   "pygments_lexer": "ipython3",
   "version": "3.11.4"
  }
 },
 "nbformat": 4,
 "nbformat_minor": 0
}
