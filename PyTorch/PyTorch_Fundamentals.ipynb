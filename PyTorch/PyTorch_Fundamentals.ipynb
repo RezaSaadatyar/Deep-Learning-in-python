{
 "cells": [
  {
   "cell_type": "markdown",
   "metadata": {},
   "source": [
    "A tensor is a multi-dimensional array of numerical values. Tensor computation (like numpy) with strong GPU acceleration.<br/>\n",
    "\n",
    "**1️⃣ N-d Tensor:**\n",
    "- `0-dimensional (Scalar):` A single number, e.g., 5, 3.14, -10. A <font color='red'><b>scalar</b></font> is a single number and in tensor-speak it's a zero dimension tensor.\n",
    "- `1-dimensional (Vector):` A list of numbers, e.g., [1, 2, 3]. A <font color='blue'><b>vector</b></font> is a single dimension tensor but can contain many numbers.<br/>\n",
    "- `2-dimensional (Matrix):` A table of numbers, e.g., [[1, 2], [3, 4]]. <font color='green'><b>MATRIX</b></font>  has two dimensions.\n",
    "- `3-dimensional (or higher):` Like a \"cube\" of numbers or more complex higher-dimensional structures. These are common for representing images, videos, and more.\n",
    "\n",
    "**2️⃣ Tensor datatypes:**<br/>\n",
    "There are many different [tensor datatypes available in PyTorch](https://pytorch.org/docs/stable/tensors.html#data-types). Some are specific for CPU and some are better for GPU.<br/>\n",
    "Generally if you see `torch.cuda` anywhere, the tensor is being used for GPU (since Nvidia GPUs use a computing toolkit called CUDA).<br/>\n",
    "The most common type (and generally the default) is `torch.float32` or `torch.float`.<br/>\n",
    "\n",
    "**3️⃣Getting information from tensors:**<br/>\n",
    "* `shape` - what shape is the tensor? (some operations require specific shape rules)\n",
    "* `dtype` - what datatype are the elements within the tensor stored in?\n",
    "* `device` - what device is the tensor stored on? (usually GPU or CPU)\n",
    "\n",
    "**4️⃣ Math Operations:**<br/>\n",
    "* Addition ⇒ `a+b `or `torh.add(a, b)`\n",
    "* Substraction ⇒ `a-b `or `torh.sub(a, b)`\n",
    "* Multiplication (element-wise) ⇒ `a*b `\n",
    "* Division ⇒ `a/b `or `torh.div(a, b)`\n",
    "* Matrix multiplication ⇒ \"`@`\" in Python is the symbol for matrix multiplication. [`torch.matmul()`](https://pytorch.org/docs/stable/generated/torch.matmul.html) or [`torch.mm()`](https://pytorch.org/docs/stable/generated/torch.mm.html)"
   ]
  },
  {
   "cell_type": "code",
   "execution_count": 3,
   "metadata": {},
   "outputs": [],
   "source": [
    "import torch  #  torch.__version__  -> '2.5.1+cpu'"
   ]
  },
  {
   "cell_type": "markdown",
   "metadata": {},
   "source": [
    "**1️⃣ Scalar, Vector, Column vector, Matrix, & N-d Tensor**\n"
   ]
  },
  {
   "cell_type": "code",
   "execution_count": 4,
   "metadata": {},
   "outputs": [
    {
     "data": {
      "text/plain": [
       "tensor(1.3333)"
      ]
     },
     "execution_count": 4,
     "metadata": {},
     "output_type": "execute_result"
    }
   ],
   "source": [
    "# Creating a 0D tensor (Scalar)\n",
    "torch.tensor(4/3)"
   ]
  },
  {
   "cell_type": "code",
   "execution_count": 5,
   "metadata": {},
   "outputs": [
    {
     "name": "stdout",
     "output_type": "stream",
     "text": [
      "a = tensor([1, 2, 3]) --> a.__class__ = <class 'torch.Tensor'>\n"
     ]
    }
   ],
   "source": [
    "# Creating a 1D tensor (Vector)\n",
    "a = torch.tensor([1, 2, 3])\n",
    "print(f\"{a = } --> {a.__class__ = }\")"
   ]
  },
  {
   "cell_type": "code",
   "execution_count": 6,
   "metadata": {},
   "outputs": [
    {
     "data": {
      "text/plain": [
       "tensor([[1],\n",
       "        [2],\n",
       "        [3],\n",
       "        [4]])"
      ]
     },
     "execution_count": 6,
     "metadata": {},
     "output_type": "execute_result"
    }
   ],
   "source": [
    "# Creating a 2D tensor (Column vector)\n",
    "torch.tensor([[1], [2], [3], [4]])"
   ]
  },
  {
   "cell_type": "code",
   "execution_count": 7,
   "metadata": {},
   "outputs": [
    {
     "data": {
      "text/plain": [
       "tensor([[1, 2, 3],\n",
       "        [4, 5, 6],\n",
       "        [7, 8, 9]])"
      ]
     },
     "execution_count": 7,
     "metadata": {},
     "output_type": "execute_result"
    }
   ],
   "source": [
    "# Creating a 2D tensor (Matrix)\n",
    "torch.tensor(\n",
    "    [[1, 2, 3],\n",
    "     [4, 5, 6],\n",
    "     [7, 8, 9]]\n",
    ")"
   ]
  },
  {
   "cell_type": "code",
   "execution_count": 11,
   "metadata": {},
   "outputs": [
    {
     "data": {
      "text/plain": [
       "tensor([[[1, 2, 2, 5],\n",
       "         [3, 4, 0, 8]],\n",
       "\n",
       "        [[5, 6, 6, 7],\n",
       "         [4, 8, 1, 2]],\n",
       "\n",
       "        [[1, 1, 8, 9],\n",
       "         [0, 0, 2, 3]]])"
      ]
     },
     "execution_count": 11,
     "metadata": {},
     "output_type": "execute_result"
    }
   ],
   "source": [
    "# Creating a 3D tensor\n",
    "torch.tensor(\n",
    "    [[[1, 2, 2 , 5],\n",
    "      [3, 4, 0 , 8]],\n",
    "\n",
    "     [[5, 6, 6, 7],\n",
    "      [4, 8, 1, 2]],\n",
    "\n",
    "     [[1, 1, 8, 9],\n",
    "      [0, 0, 2, 3]]]\n",
    "    )"
   ]
  },
  {
   "cell_type": "code",
   "execution_count": 12,
   "metadata": {},
   "outputs": [
    {
     "data": {
      "text/plain": [
       "tensor([[[[ 1,  2,  5,  4],\n",
       "          [ 3,  4,  1,  0]],\n",
       "\n",
       "         [[ 5,  6,  2,  3],\n",
       "          [ 7,  8,  6,  4]]],\n",
       "\n",
       "\n",
       "        [[[ 9, 10,  0,  9],\n",
       "          [11, 12,  5,  3]],\n",
       "\n",
       "         [[13, 14,  8,  7],\n",
       "          [15, 16,  2,  3]]]])"
      ]
     },
     "execution_count": 12,
     "metadata": {},
     "output_type": "execute_result"
    }
   ],
   "source": [
    "# Creating a 4D tensor (Matrix)\n",
    "torch.tensor(\n",
    "    [[[[1, 2, 5, 4],\n",
    "       [3, 4, 1, 0]],\n",
    "      [[5, 6, 2, 3],\n",
    "       [7, 8, 6, 4]]],\n",
    "     [[[9, 10, 0, 9],\n",
    "       [11, 12, 5, 3]],\n",
    "      [[13, 14, 8, 7],\n",
    "       [15, 16, 2, 3]]]]\n",
    "    )"
   ]
  },
  {
   "cell_type": "code",
   "execution_count": 21,
   "metadata": {},
   "outputs": [
    {
     "name": "stdout",
     "output_type": "stream",
     "text": [
      "Random 5D tensor:\n",
      "tensor([[[[[0.7814, 0.0994, 0.5195, 0.7621, 0.9517, 0.9682],\n",
      "           [0.4284, 0.3026, 0.0342, 0.8877, 0.0240, 0.1135],\n",
      "           [0.5707, 0.1353, 0.6982, 0.2232, 0.6365, 0.8410],\n",
      "           [0.4357, 0.0819, 0.6638, 0.0124, 0.2257, 0.6444],\n",
      "           [0.9113, 0.4437, 0.6845, 0.3286, 0.7790, 0.2403]],\n",
      "\n",
      "          [[0.7459, 0.3484, 0.0972, 0.4612, 0.7812, 0.7169],\n",
      "           [0.3778, 0.2016, 0.3002, 0.4857, 0.2817, 0.5033],\n",
      "           [0.5959, 0.1589, 0.2108, 0.3644, 0.0174, 0.6233],\n",
      "           [0.2189, 0.4498, 0.7410, 0.2308, 0.7776, 0.3275],\n",
      "           [0.3772, 0.5334, 0.2030, 0.1040, 0.6260, 0.3425]]]]])\n",
      "Shape of the random tensor: torch.Size([1, 1, 2, 5, 6])\n",
      "Number of elements in the tensor: 60\n"
     ]
    }
   ],
   "source": [
    "import torch\n",
    "\n",
    "# Method 1: Using torch.rand() to create a tensor with random values\n",
    "\n",
    "# Define the dimensions of the tensor\n",
    "shape = (1, 1, 2, 5, 6)  # This defines a 5D tensor of 2x3x4x5x6 elements.\n",
    "\n",
    "# Create a tensor with random numbers between 0 and 1\n",
    "tensor_5d_random = torch.rand(shape)\n",
    "\n",
    "print(\"Random 5D tensor:\")\n",
    "print(tensor_5d_random)\n",
    "print(\"Shape of the random tensor:\", tensor_5d_random.shape)\n",
    "print(\"Number of elements in the tensor:\", tensor_5d_random.numel())"
   ]
  },
  {
   "cell_type": "code",
   "execution_count": null,
   "metadata": {},
   "outputs": [
    {
     "data": {
      "text/plain": [
       "(torch.Size([3]), torch.float32, device(type='cpu'))"
      ]
     },
     "execution_count": 197,
     "metadata": {},
     "output_type": "execute_result"
    }
   ],
   "source": [
    "# Default datatype for tensors is float32\n",
    "float_32_tensor = torch.tensor([1.0, 5.0, 6.0],\n",
    "                               dtype=None, # defaults to None, which is torch.float32 or whatever datatype is passed\n",
    "                               device=None, # defaults to None, which uses the default tensor type\n",
    "                               requires_grad=False) # if True, operations performed on the tensor are recorded \n",
    "\n",
    "float_32_tensor.shape, float_32_tensor.dtype, float_32_tensor.device"
   ]
  },
  {
   "cell_type": "code",
   "execution_count": null,
   "metadata": {},
   "outputs": [],
   "source": []
  },
  {
   "cell_type": "code",
   "execution_count": 198,
   "metadata": {},
   "outputs": [
    {
     "name": "stdout",
     "output_type": "stream",
     "text": [
      "tensor([[0.0797, 0.3250, 0.4473, 0.5866],\n",
      "        [0.6251, 0.5120, 0.5415, 0.3856],\n",
      "        [0.5582, 0.9932, 0.1364, 0.7023]])\n",
      "Shape of tensor: torch.Size([3, 4])\n",
      "Datatype of tensor: torch.float32\n",
      "Device tensor is stored on: cpu\n"
     ]
    }
   ],
   "source": [
    "# Create a tensor\n",
    "some_tensor = torch.rand(3, 4)\n",
    "\n",
    "# Find out details about it\n",
    "print(some_tensor)\n",
    "print(f\"Shape of tensor: {some_tensor.shape}\")\n",
    "print(f\"Datatype of tensor: {some_tensor.dtype}\")\n",
    "print(f\"Device tensor is stored on: {some_tensor.device}\") # will default to CPU"
   ]
  },
  {
   "cell_type": "code",
   "execution_count": 194,
   "metadata": {},
   "outputs": [
    {
     "name": "stdout",
     "output_type": "stream",
     "text": [
      "a = tensor(1.3333, dtype=torch.float64) --> a.shape = torch.Size([]) --> a.ndim = 0 --> a.size() = torch.Size([])\n"
     ]
    },
    {
     "data": {
      "text/plain": [
       "tensor(1.3330, dtype=torch.float16)"
      ]
     },
     "execution_count": 194,
     "metadata": {},
     "output_type": "execute_result"
    }
   ],
   "source": [
    "# Creating a 0D tensor (Scalar)\n",
    "a = torch.tensor(4/3, dtype=torch.float64, device=\"cpu\")\n",
    "print(f\"{a = } --> {a.shape = } --> {a.ndim = } --> {a.size() = }\")\n",
    "a.type(torch.float16)  # Convert into float16 or a.short()"
   ]
  },
  {
   "cell_type": "code",
   "execution_count": 192,
   "metadata": {},
   "outputs": [
    {
     "name": "stdout",
     "output_type": "stream",
     "text": [
      "a = tensor([1, 2, 3]) --> a.shape = torch.Size([3]) --> a.ndim = 1 --> a.size() = torch.Size([3])\n",
      "a.__class__ = <class 'torch.Tensor'>\n"
     ]
    }
   ],
   "source": [
    "# Creating a 1D tensor (Vector)\n",
    "a = torch.tensor([1, 2, 3])\n",
    "print(f\"{a = } --> {a.shape = } --> {a.ndim = } --> {a.size() = }\\n{a.__class__ = }\")"
   ]
  },
  {
   "cell_type": "code",
   "execution_count": 88,
   "metadata": {},
   "outputs": [
    {
     "name": "stdout",
     "output_type": "stream",
     "text": [
      "a = tensor([[1],\n",
      "        [2],\n",
      "        [3],\n",
      "        [4]])\n",
      "a.shape = torch.Size([4, 1]) --> a.ndim = 2 --> a.size() = torch.Size([4, 1])\n"
     ]
    }
   ],
   "source": [
    "# Creating a 2D tensor (Column vector)\n",
    "a = torch.tensor([[1], [2], [3], [4]])\n",
    "print(f\"{a = }\\n{a.shape = } --> {a.ndim = } --> {a.size() = }\")"
   ]
  },
  {
   "cell_type": "code",
   "execution_count": 89,
   "metadata": {},
   "outputs": [
    {
     "name": "stdout",
     "output_type": "stream",
     "text": [
      "a = tensor([[1, 2, 3],\n",
      "        [4, 5, 6],\n",
      "        [7, 8, 9]])\n",
      "a.shape = torch.Size([3, 3]) --> a.ndim = 2 --> a.size() = torch.Size([3, 3])\n"
     ]
    },
    {
     "data": {
      "text/plain": [
       "array([[1, 2, 3],\n",
       "       [4, 5, 6],\n",
       "       [7, 8, 9]], dtype=int64)"
      ]
     },
     "execution_count": 89,
     "metadata": {},
     "output_type": "execute_result"
    }
   ],
   "source": [
    "# Creating a 2D tensor (Matrix)\n",
    "a = torch.tensor(\n",
    "    [[1, 2, 3],\n",
    "     [4, 5, 6],\n",
    "     [7, 8, 9]]\n",
    ")\n",
    "print(f\"{a = }\\n{a.shape = } --> {a.ndim = } --> {a.size() = }\")\n",
    "\n",
    "a.numpy()"
   ]
  },
  {
   "cell_type": "code",
   "execution_count": 44,
   "metadata": {},
   "outputs": [
    {
     "data": {
      "text/plain": [
       "tensor([[1, 2],\n",
       "        [3, 4],\n",
       "        [5, 6]])"
      ]
     },
     "execution_count": 44,
     "metadata": {},
     "output_type": "execute_result"
    }
   ],
   "source": [
    "a = tuple([(1, 2), (3, 4), (5, 6)])\n",
    "torch.tensor(a)"
   ]
  },
  {
   "cell_type": "code",
   "execution_count": 90,
   "metadata": {},
   "outputs": [
    {
     "name": "stdout",
     "output_type": "stream",
     "text": [
      "a = tensor([[[1, 2],\n",
      "         [3, 4]],\n",
      "\n",
      "        [[5, 6],\n",
      "         [4, 8]],\n",
      "\n",
      "        [[1, 1],\n",
      "         [0, 0]]])\n",
      "a.shape = torch.Size([3, 2, 2]) --> a.ndim = 3 --> a.size() = torch.Size([3, 2, 2])\n"
     ]
    }
   ],
   "source": [
    "# Creating a 3D tensor\n",
    "a = torch.tensor(\n",
    "    [[[1, 2],\n",
    "      [3, 4]],\n",
    "\n",
    "     [[5, 6],\n",
    "      [4, 8]],\n",
    "\n",
    "     [[1, 1],\n",
    "      [0, 0]]]\n",
    "    )\n",
    "print(f\"{a = }\\n{a.shape = } --> {a.ndim = } --> {a.size() = }\")"
   ]
  },
  {
   "cell_type": "code",
   "execution_count": 91,
   "metadata": {},
   "outputs": [
    {
     "name": "stdout",
     "output_type": "stream",
     "text": [
      "a = tensor([[[[ 1,  2],\n",
      "          [ 3,  4]],\n",
      "\n",
      "         [[ 5,  6],\n",
      "          [ 7,  8]]],\n",
      "\n",
      "\n",
      "        [[[ 9, 10],\n",
      "          [11, 12]],\n",
      "\n",
      "         [[13, 14],\n",
      "          [15, 16]]]])\n",
      "a.shape = torch.Size([2, 2, 2, 2]) --> a.ndim = 4 --> a.size() = torch.Size([2, 2, 2, 2])\n"
     ]
    }
   ],
   "source": [
    "# Creating a 2D tensor (Matrix)\n",
    "a = torch.tensor(\n",
    "    [[[[1, 2],\n",
    "       [3, 4]],\n",
    "      [[5, 6],\n",
    "       [7, 8]]],\n",
    "     [[[9, 10],\n",
    "       [11, 12]],\n",
    "      [[13, 14],\n",
    "       [15, 16]]]]\n",
    "    )\n",
    "print(f\"{a = }\\n{a.shape = } --> {a.ndim = } --> {a.size() = }\")"
   ]
  },
  {
   "cell_type": "markdown",
   "metadata": {},
   "source": [
    "**Tensor Attributes and Methods**"
   ]
  },
  {
   "cell_type": "code",
   "execution_count": 57,
   "metadata": {},
   "outputs": [
    {
     "data": {
      "text/plain": [
       "(tensor(2.), tensor(1.))"
      ]
     },
     "execution_count": 57,
     "metadata": {},
     "output_type": "execute_result"
    }
   ],
   "source": [
    "#  Mean, std\n",
    "a = torch.tensor([1, 2, 3])\n",
    "a.float().mean(), a.type(torch.float32).std()"
   ]
  },
  {
   "cell_type": "code",
   "execution_count": 92,
   "metadata": {},
   "outputs": [
    {
     "ename": "RuntimeError",
     "evalue": "t() expects a tensor with <= 2 dimensions, but self is 4D",
     "output_type": "error",
     "traceback": [
      "\u001b[1;31m---------------------------------------------------------------------------\u001b[0m",
      "\u001b[1;31mRuntimeError\u001b[0m                              Traceback (most recent call last)",
      "Cell \u001b[1;32mIn[92], line 12\u001b[0m\n\u001b[0;32m      1\u001b[0m \u001b[38;5;66;03m# Creating a 2D tensor (Matrix)\u001b[39;00m\n\u001b[0;32m      2\u001b[0m a \u001b[38;5;241m=\u001b[39m torch\u001b[38;5;241m.\u001b[39mtensor(\n\u001b[0;32m      3\u001b[0m     [[[[\u001b[38;5;241m1\u001b[39m, \u001b[38;5;241m2\u001b[39m],\n\u001b[0;32m      4\u001b[0m        [\u001b[38;5;241m3\u001b[39m, \u001b[38;5;241m4\u001b[39m]],\n\u001b[1;32m   (...)\u001b[0m\n\u001b[0;32m     10\u001b[0m        [\u001b[38;5;241m15\u001b[39m, \u001b[38;5;241m16\u001b[39m]]]]\n\u001b[0;32m     11\u001b[0m     )\n\u001b[1;32m---> 12\u001b[0m a \u001b[38;5;241m=\u001b[39m \u001b[43ma\u001b[49m\u001b[38;5;241;43m.\u001b[39;49m\u001b[43mt\u001b[49m\u001b[43m(\u001b[49m\u001b[43m)\u001b[49m\n\u001b[0;32m     13\u001b[0m \u001b[38;5;28mprint\u001b[39m(\u001b[38;5;124mf\u001b[39m\u001b[38;5;124m\"\u001b[39m\u001b[38;5;132;01m{\u001b[39;00ma\u001b[38;5;250m \u001b[39m\u001b[38;5;132;01m= }\u001b[39;00m\u001b[38;5;130;01m\\n\u001b[39;00m\u001b[38;5;132;01m{\u001b[39;00ma\u001b[38;5;241m.\u001b[39mshape\u001b[38;5;250m \u001b[39m\u001b[38;5;132;01m= }\u001b[39;00m\u001b[38;5;124m --> \u001b[39m\u001b[38;5;132;01m{\u001b[39;00ma\u001b[38;5;241m.\u001b[39mndim\u001b[38;5;250m \u001b[39m\u001b[38;5;132;01m= }\u001b[39;00m\u001b[38;5;124m --> \u001b[39m\u001b[38;5;132;01m{\u001b[39;00ma\u001b[38;5;241m.\u001b[39msize()\u001b[38;5;250m \u001b[39m\u001b[38;5;132;01m= }\u001b[39;00m\u001b[38;5;124m\"\u001b[39m)\n",
      "\u001b[1;31mRuntimeError\u001b[0m: t() expects a tensor with <= 2 dimensions, but self is 4D"
     ]
    }
   ],
   "source": [
    "# Creating a 2D tensor (Matrix)\n",
    "a = torch.tensor(\n",
    "    [[[[1, 2],\n",
    "       [3, 4]],\n",
    "      [[5, 6],\n",
    "       [7, 8]]],\n",
    "     [[[9, 10],\n",
    "       [11, 12]],\n",
    "      [[13, 14],\n",
    "       [15, 16]]]]\n",
    "    )\n",
    "a = a.t()\n",
    "print(f\"{a = }\\n{a.shape = } --> {a.ndim = } --> {a.size() = }\")"
   ]
  },
  {
   "cell_type": "markdown",
   "metadata": {},
   "source": [
    "**Special Arrays**<br/>\n",
    "Using [`torch.zeros_like(input)`](https://pytorch.org/docs/stable/generated/torch.zeros_like.html) or [`torch.ones_like(input)`](https://pytorch.org/docs/1.9.1/generated/torch.ones_like.html) which return a tensor filled with zeros or ones in the same shape as the `input` respectively."
   ]
  },
  {
   "cell_type": "code",
   "execution_count": 73,
   "metadata": {},
   "outputs": [
    {
     "data": {
      "text/plain": [
       "tensor([[1.],\n",
       "        [1.]])"
      ]
     },
     "execution_count": 73,
     "metadata": {},
     "output_type": "execute_result"
    }
   ],
   "source": [
    "torch.ones((2, 1))"
   ]
  },
  {
   "cell_type": "code",
   "execution_count": 80,
   "metadata": {},
   "outputs": [
    {
     "data": {
      "text/plain": [
       "tensor([[[0., 0., 0.],\n",
       "         [0., 0., 0.],\n",
       "         [0., 0., 0.],\n",
       "         [0., 0., 0.]],\n",
       "\n",
       "        [[0., 0., 0.],\n",
       "         [0., 0., 0.],\n",
       "         [0., 0., 0.],\n",
       "         [0., 0., 0.]],\n",
       "\n",
       "        [[0., 0., 0.],\n",
       "         [0., 0., 0.],\n",
       "         [0., 0., 0.],\n",
       "         [0., 0., 0.]]])"
      ]
     },
     "execution_count": 80,
     "metadata": {},
     "output_type": "execute_result"
    }
   ],
   "source": [
    "torch.zeros((3, 4, 3))"
   ]
  },
  {
   "cell_type": "code",
   "execution_count": 84,
   "metadata": {},
   "outputs": [
    {
     "data": {
      "text/plain": [
       "tensor([[1., 0., 0., 0.],\n",
       "        [0., 1., 0., 0.],\n",
       "        [0., 0., 1., 0.],\n",
       "        [0., 0., 0., 1.],\n",
       "        [0., 0., 0., 0.]])"
      ]
     },
     "execution_count": 84,
     "metadata": {},
     "output_type": "execute_result"
    }
   ],
   "source": [
    "torch.eye(5, 4)"
   ]
  },
  {
   "cell_type": "code",
   "execution_count": 85,
   "metadata": {},
   "outputs": [
    {
     "data": {
      "text/plain": [
       "tensor([[2, 2, 2],\n",
       "        [2, 2, 2],\n",
       "        [2, 2, 2],\n",
       "        [2, 2, 2]])"
      ]
     },
     "execution_count": 85,
     "metadata": {},
     "output_type": "execute_result"
    }
   ],
   "source": [
    "torch.full([4, 3], fill_value=2)"
   ]
  },
  {
   "cell_type": "markdown",
   "metadata": {},
   "source": [
    "**Random Arrays**"
   ]
  },
  {
   "cell_type": "code",
   "execution_count": 101,
   "metadata": {},
   "outputs": [
    {
     "data": {
      "text/plain": [
       "tensor([[0.4657, 0.2328, 0.4527],\n",
       "        [0.5871, 0.4086, 0.1272],\n",
       "        [0.6373, 0.2421, 0.7312],\n",
       "        [0.7224, 0.1992, 0.6948]])"
      ]
     },
     "execution_count": 101,
     "metadata": {},
     "output_type": "execute_result"
    }
   ],
   "source": [
    "torch.manual_seed(12)\n",
    "torch.rand((4, 3)) # Create a 4*3 tensor filled with random numbers from a uniform distribution on the interval [0, 1)"
   ]
  },
  {
   "cell_type": "code",
   "execution_count": 103,
   "metadata": {},
   "outputs": [
    {
     "data": {
      "text/plain": [
       "tensor([[-0.2138, -1.3780, -0.0546],\n",
       "        [ 0.4515,  0.7858, -1.0884],\n",
       "        [-0.5599, -0.9336,  0.0479],\n",
       "        [-0.0844, -0.1471,  0.7590]])"
      ]
     },
     "execution_count": 103,
     "metadata": {},
     "output_type": "execute_result"
    }
   ],
   "source": [
    "# Create a 4*3 tensor filled with random numbers from a uniform distribution on the interval [0, 1)\n",
    "torch.manual_seed(12)\n",
    "torch.randn((4, 3))"
   ]
  },
  {
   "cell_type": "code",
   "execution_count": 105,
   "metadata": {},
   "outputs": [
    {
     "data": {
      "text/plain": [
       "tensor([[12,  3,  9],\n",
       "        [11,  2, 10],\n",
       "        [ 8,  3,  3],\n",
       "        [10, 11,  2]])"
      ]
     },
     "execution_count": 105,
     "metadata": {},
     "output_type": "execute_result"
    }
   ],
   "source": [
    "torch.manual_seed(12)\n",
    "torch.randint(2, 13, (4, 3))"
   ]
  },
  {
   "cell_type": "code",
   "execution_count": 98,
   "metadata": {},
   "outputs": [
    {
     "data": {
      "text/plain": [
       "tensor([3, 8, 7, 6, 4, 5, 2, 9, 1, 0])"
      ]
     },
     "execution_count": 98,
     "metadata": {},
     "output_type": "execute_result"
    }
   ],
   "source": [
    "# Create a random permutation of integers from 0 to 9\n",
    "torch.randperm(10)"
   ]
  },
  {
   "cell_type": "markdown",
   "metadata": {},
   "source": [
    "**Indexing & Slicing**"
   ]
  },
  {
   "cell_type": "code",
   "execution_count": 122,
   "metadata": {},
   "outputs": [
    {
     "data": {
      "text/plain": [
       "(tensor([ 1.7400,  1.2857, -1.1413, -1.0312, -1.6453,  3.2576,  1.8908,  0.3741,\n",
       "          0.5526,  0.0421,  1.9144,  0.2466]),\n",
       " tensor([1.7400]),\n",
       " tensor(1.7400),\n",
       " tensor([ 1.7400, -1.1413,  0.3741]))"
      ]
     },
     "execution_count": 122,
     "metadata": {},
     "output_type": "execute_result"
    }
   ],
   "source": [
    "a = torch.randn(12)\n",
    "a, a[0:1], a[0], a[[0, 2, 7]]"
   ]
  },
  {
   "cell_type": "code",
   "execution_count": 124,
   "metadata": {},
   "outputs": [
    {
     "data": {
      "text/plain": [
       "(tensor([-1.1413, -1.6453,  1.8908,  0.5526,  1.9144]),\n",
       " tensor([-1.1413, -1.6453,  1.8908,  0.5526,  1.9144]))"
      ]
     },
     "execution_count": 124,
     "metadata": {},
     "output_type": "execute_result"
    }
   ],
   "source": [
    "a[2:12:2], a[2::2]"
   ]
  },
  {
   "cell_type": "code",
   "execution_count": 132,
   "metadata": {},
   "outputs": [
    {
     "data": {
      "text/plain": [
       "tensor([[ 0.2748,  1.9458, -1.0733,  1.8559, -1.2232],\n",
       "        [-0.0369,  1.7959,  0.9518, -0.0144,  3.0890],\n",
       "        [-1.6665, -1.3407,  1.7006, -0.7644,  0.9168]])"
      ]
     },
     "execution_count": 132,
     "metadata": {},
     "output_type": "execute_result"
    }
   ],
   "source": [
    "a = torch.randn(3,5)\n",
    "a"
   ]
  },
  {
   "cell_type": "code",
   "execution_count": 136,
   "metadata": {},
   "outputs": [
    {
     "data": {
      "text/plain": [
       "(tensor([[-1.0733,  1.8559],\n",
       "         [ 0.9518, -0.0144],\n",
       "         [ 1.7006, -0.7644]]),\n",
       " tensor([[-1.0733,  1.8559],\n",
       "         [ 0.9518, -0.0144],\n",
       "         [ 1.7006, -0.7644]]),\n",
       " tensor([[ 0.2748,  1.9458, -1.0733,  1.8559, -1.2232],\n",
       "         [-0.0369,  1.7959,  0.9518, -0.0144,  3.0890]]),\n",
       " tensor([[ 0.2748,  1.9458, -1.0733,  1.8559, -1.2232],\n",
       "         [-0.0369,  1.7959,  0.9518, -0.0144,  3.0890]]),\n",
       " tensor([[-1.0733,  1.8559, -1.2232],\n",
       "         [ 1.7006, -0.7644,  0.9168]]))"
      ]
     },
     "execution_count": 136,
     "metadata": {},
     "output_type": "execute_result"
    }
   ],
   "source": [
    "a[0:3, 2:-1], a[:, 2:-1], a[0:2], a[0:2, :], a[::2, 2:]"
   ]
  },
  {
   "cell_type": "code",
   "execution_count": 139,
   "metadata": {},
   "outputs": [
    {
     "data": {
      "text/plain": [
       "tensor([[[-0.6703,  1.4412, -0.1533, -0.8794, -0.5423, -0.0420, -0.2877],\n",
       "         [-0.2922,  0.7157,  0.7119, -0.9787, -1.6856,  0.4466,  2.2946],\n",
       "         [-0.8751, -0.1290, -1.2842,  0.2086, -0.6043, -0.2626,  0.8952],\n",
       "         [ 1.3979, -2.2215,  0.4134, -0.0226,  0.1649, -0.8611, -0.7836],\n",
       "         [-1.1848,  1.2251,  0.5372, -0.4704,  1.2422,  0.8005,  1.2001],\n",
       "         [-1.5673, -0.7892, -0.2722,  0.6104,  1.8975,  0.4636, -0.3487]],\n",
       "\n",
       "        [[ 0.7788, -0.4777, -1.9169, -0.2125,  0.8114,  0.5700, -0.5149],\n",
       "         [-1.3312, -1.5866, -0.5796,  0.1399,  0.6590,  0.5294, -0.6222],\n",
       "         [-0.7204, -0.6582, -1.4321,  0.5743,  1.0892, -1.5107, -0.6150],\n",
       "         [ 0.5099, -1.2288,  0.0390, -0.3312,  1.5377, -0.3099,  0.6083],\n",
       "         [ 0.3750, -0.0359,  0.1439,  2.3967,  0.7019, -1.4175, -0.1454],\n",
       "         [ 1.0030,  1.6245,  0.7386,  0.3521,  0.8626, -0.7893, -1.1969]],\n",
       "\n",
       "        [[-0.1089, -0.4277,  0.4336,  0.3443, -0.4808, -1.5701,  0.3897],\n",
       "         [ 0.6531, -0.5157,  0.3506,  0.9853,  0.2711, -0.5394, -0.3823],\n",
       "         [-1.0208, -1.0437,  0.2692,  0.7915,  0.1441, -0.2449,  0.4449],\n",
       "         [-1.9473, -0.2245,  1.0458, -1.5258, -1.1026,  0.0878,  1.6617],\n",
       "         [-1.7682, -2.2019, -1.6775, -1.0187,  0.5666, -1.3009, -0.7075],\n",
       "         [ 0.3261, -1.0325, -0.2393, -1.0478, -0.3860, -1.4021, -0.4852]],\n",
       "\n",
       "        [[-1.3548,  0.4881, -0.1385, -0.1427,  0.9877,  1.4807, -0.4320],\n",
       "         [-0.3005, -1.0060, -0.6331,  1.2979, -1.6966, -0.4666, -0.0752],\n",
       "         [ 0.4185, -0.5937,  0.6413,  2.0186, -0.6114,  1.1915, -0.3669],\n",
       "         [-0.3165,  0.3747, -1.2149,  0.3532, -0.9506, -0.3452,  0.5602],\n",
       "         [-0.5458, -0.8564, -1.3057, -0.6275, -1.7197, -0.2534,  1.3068],\n",
       "         [ 1.4199, -0.7709, -1.3083, -0.6036,  0.5158,  0.9297, -0.3125]]])"
      ]
     },
     "execution_count": 139,
     "metadata": {},
     "output_type": "execute_result"
    }
   ],
   "source": [
    "a = torch.randn(4, 6, 7)\n",
    "a"
   ]
  },
  {
   "cell_type": "code",
   "execution_count": null,
   "metadata": {},
   "outputs": [
    {
     "data": {
      "text/plain": [
       "(tensor([[[ 0.0390, -0.3312],\n",
       "          [ 0.1439,  2.3967]]]),\n",
       " tensor([[[ 0.0390, -0.3312],\n",
       "          [ 0.1439,  2.3967]]]),\n",
       " tensor([[ 0.0390, -0.3312],\n",
       "         [ 0.1439,  2.3967]]),\n",
       " tensor([[-0.5149, -0.6222, -0.6150,  0.6083, -0.1454, -1.1969],\n",
       "         [ 0.3897, -0.3823,  0.4449,  1.6617, -0.7075, -0.4852]]),\n",
       " tensor([[ 0.7788, -0.4777, -1.9169, -0.2125,  0.8114,  0.5700, -0.5149],\n",
       "         [-1.3312, -1.5866, -0.5796,  0.1399,  0.6590,  0.5294, -0.6222],\n",
       "         [-0.7204, -0.6582, -1.4321,  0.5743,  1.0892, -1.5107, -0.6150],\n",
       "         [ 0.5099, -1.2288,  0.0390, -0.3312,  1.5377, -0.3099,  0.6083],\n",
       "         [ 0.3750, -0.0359,  0.1439,  2.3967,  0.7019, -1.4175, -0.1454],\n",
       "         [ 1.0030,  1.6245,  0.7386,  0.3521,  0.8626, -0.7893, -1.1969]]))"
      ]
     },
     "execution_count": 148,
     "metadata": {},
     "output_type": "execute_result"
    }
   ],
   "source": [
    "a[1:2, 3:5, 2:4], a[[1], 3:5, 2:4], a[1, 3:5, 2:4], a[1:3, :, -1]"
   ]
  },
  {
   "cell_type": "code",
   "execution_count": 153,
   "metadata": {},
   "outputs": [
    {
     "data": {
      "text/plain": [
       "(tensor([[ 0.7788, -0.4777, -1.9169, -0.2125,  0.8114,  0.5700, -0.5149],\n",
       "         [-1.3312, -1.5866, -0.5796,  0.1399,  0.6590,  0.5294, -0.6222],\n",
       "         [-0.7204, -0.6582, -1.4321,  0.5743,  1.0892, -1.5107, -0.6150],\n",
       "         [ 0.5099, -1.2288,  0.0390, -0.3312,  1.5377, -0.3099,  0.6083],\n",
       "         [ 0.3750, -0.0359,  0.1439,  2.3967,  0.7019, -1.4175, -0.1454],\n",
       "         [ 1.0030,  1.6245,  0.7386,  0.3521,  0.8626, -0.7893, -1.1969]]),\n",
       " tensor([[-0.2877,  2.2946,  0.8952, -0.7836,  1.2001, -0.3487],\n",
       "         [-0.5149, -0.6222, -0.6150,  0.6083, -0.1454, -1.1969],\n",
       "         [ 0.3897, -0.3823,  0.4449,  1.6617, -0.7075, -0.4852],\n",
       "         [-0.4320, -0.0752, -0.3669,  0.5602,  1.3068, -0.3125]]),\n",
       " tensor([[-0.2877,  2.2946,  0.8952, -0.7836,  1.2001, -0.3487],\n",
       "         [-0.5149, -0.6222, -0.6150,  0.6083, -0.1454, -1.1969],\n",
       "         [ 0.3897, -0.3823,  0.4449,  1.6617, -0.7075, -0.4852],\n",
       "         [-0.4320, -0.0752, -0.3669,  0.5602,  1.3068, -0.3125]]))"
      ]
     },
     "execution_count": 153,
     "metadata": {},
     "output_type": "execute_result"
    }
   ],
   "source": [
    "a[1], a[:, :, -1], a[..., -1]"
   ]
  },
  {
   "cell_type": "markdown",
   "metadata": {},
   "source": [
    "**Math Operations (Addition, Subtraction, Multiplication, Division, Matrix Multiplication)**\n",
    "* Addition\n",
    "* Substraction\n",
    "* Multiplication (element-wise)\n",
    "* Division\n",
    "* Matrix multiplication"
   ]
  },
  {
   "cell_type": "code",
   "execution_count": 168,
   "metadata": {},
   "outputs": [
    {
     "data": {
      "text/plain": [
       "(tensor([[13,  5],\n",
       "         [17, 18]]),\n",
       " tensor([[-3, -5],\n",
       "         [ 1,  0]]),\n",
       " tensor([[40,  0],\n",
       "         [72, 81]]),\n",
       " tensor([[0.6250, 0.0000],\n",
       "         [1.1250, 1.0000]]),\n",
       " tensor([[ 40,  25],\n",
       "         [144, 126]]),\n",
       " tensor([[ 40,  25],\n",
       "         [144, 126]]))"
      ]
     },
     "execution_count": 168,
     "metadata": {},
     "output_type": "execute_result"
    }
   ],
   "source": [
    "a = torch.randint(10, (2, 2))\n",
    "b = torch.randint(10, (2, 2))\n",
    "torch.add(a, b, ), torch.sub(a, b, ), a * b, a / b, a @ b, torch.matmul(a, b)"
   ]
  },
  {
   "cell_type": "code",
   "execution_count": 178,
   "metadata": {},
   "outputs": [
    {
     "data": {
      "text/plain": [
       "(tensor([[9, 7],\n",
       "         [9, 9]]),\n",
       " torch.Size([2, 2]),\n",
       " tensor([[[9, 7],\n",
       "          [9, 9]]]),\n",
       " torch.Size([1, 2, 2]),\n",
       " tensor([[[9, 7]],\n",
       " \n",
       "         [[9, 9]]]),\n",
       " torch.Size([2, 1, 2]),\n",
       " tensor([[[9],\n",
       "          [7]],\n",
       " \n",
       "         [[9],\n",
       "          [9]]]),\n",
       " torch.Size([2, 2, 1]))"
      ]
     },
     "execution_count": 178,
     "metadata": {},
     "output_type": "execute_result"
    }
   ],
   "source": [
    "a = torch.randint(10, (2, 2))\n",
    "a, a.shape, a.unsqueeze(0), a.unsqueeze(0).shape, a.unsqueeze(1), a.unsqueeze(1).shape, a.unsqueeze(2), a.unsqueeze(2).shape"
   ]
  },
  {
   "cell_type": "code",
   "execution_count": 185,
   "metadata": {},
   "outputs": [
    {
     "data": {
      "text/plain": [
       "(tensor([[9, 7],\n",
       "         [9, 9]]),\n",
       " tensor([[9, 7],\n",
       "         [9, 9]]))"
      ]
     },
     "execution_count": 185,
     "metadata": {},
     "output_type": "execute_result"
    }
   ],
   "source": [
    "a.squeeze(0), a.squeeze(1)"
   ]
  }
 ],
 "metadata": {
  "kernelspec": {
   "display_name": "Python 3",
   "language": "python",
   "name": "python3"
  },
  "language_info": {
   "codemirror_mode": {
    "name": "ipython",
    "version": 3
   },
   "file_extension": ".py",
   "mimetype": "text/x-python",
   "name": "python",
   "nbconvert_exporter": "python",
   "pygments_lexer": "ipython3",
   "version": "3.12.4"
  }
 },
 "nbformat": 4,
 "nbformat_minor": 2
}
