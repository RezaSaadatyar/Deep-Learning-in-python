{
 "cells": [
  {
   "cell_type": "markdown",
   "metadata": {
    "collapsed": false
   },
   "source": [
    "Import Libraries"
   ]
  },
  {
   "cell_type": "code",
   "execution_count": 2,
   "metadata": {
    "ExecuteTime": {
     "end_time": "2023-06-06T12:48:56.163116400Z",
     "start_time": "2023-06-06T12:48:56.151128200Z"
    },
    "collapsed": false
   },
   "outputs": [],
   "source": [
    "import numpy as np\n",
    "from tensorflow import keras\n",
    "import matplotlib.pyplot as plt\n",
    "from sklearn import datasets, model_selection, preprocessing"
   ]
  },
  {
   "cell_type": "markdown",
   "metadata": {
    "collapsed": false
   },
   "source": [
    "Step 1. Load data\n",
    "Dataset: https://scikit-learn.org/stable/modules/generated/sklearn.datasets.fetch_california_housing.html"
   ]
  },
  {
   "cell_type": "code",
   "execution_count": 3,
   "metadata": {
    "ExecuteTime": {
     "end_time": "2023-06-06T11:22:49.691549800Z",
     "start_time": "2023-06-06T11:22:49.658568800Z"
    },
    "collapsed": false
   },
   "outputs": [
    {
     "name": "stdout",
     "output_type": "stream",
     "text": [
      "Data.keys: dict_keys(['data', 'target', 'frame', 'target_names', 'feature_names', 'DESCR'])\n",
      "Inputs:[[   8.3252       41.            6.98412698 ...    2.55555556\n",
      "    37.88       -122.23      ]\n",
      " [   8.3014       21.            6.23813708 ...    2.10984183\n",
      "    37.86       -122.22      ]\n",
      " [   7.2574       52.            8.28813559 ...    2.80225989\n",
      "    37.85       -122.24      ]\n",
      " ...\n",
      " [   1.7          17.            5.20554273 ...    2.3256351\n",
      "    39.43       -121.22      ]\n",
      " [   1.8672       18.            5.32951289 ...    2.12320917\n",
      "    39.43       -121.32      ]\n",
      " [   2.3886       16.            5.25471698 ...    2.61698113\n",
      "    39.37       -121.24      ]]\n",
      "Labels:[4.526 3.585 3.521 ... 0.923 0.847 0.894]\n",
      "Target_names:['MedInc', 'HouseAge', 'AveRooms', 'AveBedrms', 'Population', 'AveOccup', 'Latitude', 'Longitude']\n"
     ]
    }
   ],
   "source": [
    "data = datasets.fetch_california_housing()\n",
    "print(f\"Data.keys: {data.keys()}\")                                   # Information about dataset\n",
    "print(f\"Inputs:{data['data']}\")                                      # Input data\n",
    "print(f\"Labels:{data['target']}\")                                    # Targets or Labels\n",
    "print(f\"Target_names:{data['feature_names']}\")                       # Features name"
   ]
  },
  {
   "cell_type": "code",
   "execution_count": 4,
   "metadata": {
    "ExecuteTime": {
     "end_time": "2023-06-06T11:23:49.466573Z",
     "start_time": "2023-06-06T11:23:49.400594600Z"
    },
    "collapsed": false
   },
   "outputs": [
    {
     "name": "stdout",
     "output_type": "stream",
     "text": [
      "input_data.shape: (20640, 8)\n",
      "labels.shape: (20640,)\n"
     ]
    }
   ],
   "source": [
    "input_data = data['data']                                         # Input data\n",
    "labels_data = data['target']                                      # Targets or Labels\n",
    "print(f\"input_data.shape: {input_data.shape}\")\n",
    "print(f\"labels.shape: {labels_data.shape}\")"
   ]
  },
  {
   "cell_type": "markdown",
   "metadata": {
    "collapsed": false
   },
   "source": [
    "Step 2: Split\n",
    "1.Split dataset into random train and test subsets\n",
    "2.Split train into random train and validation subsets\n",
    "https://scikit-learn.org/stable/modules/generated/sklearn.model_selection.train_test_split.html"
   ]
  },
  {
   "cell_type": "code",
   "execution_count": 5,
   "metadata": {
    "ExecuteTime": {
     "end_time": "2023-06-06T12:26:31.952766100Z",
     "start_time": "2023-06-06T12:26:31.908789200Z"
    },
    "collapsed": false
   },
   "outputs": [
    {
     "name": "stdout",
     "output_type": "stream",
     "text": [
      "x_train.shape:(11610, 8)\n",
      "x_test.shape:(5160, 8)\n",
      "x_validation.shape:(3870, 8)\n",
      "y_train.shape:(11610,)\n",
      "y_test.shape:(5160,)\n",
      "y_validation.shape:(3870,)\n"
     ]
    }
   ],
   "source": [
    "x_train, x_test, y_train, y_test = model_selection.train_test_split(input_data, labels_data, test_size=0.25)  # Split data into train & test\n",
    "x_train, x_validation, y_train, y_validation = model_selection.train_test_split(x_train, y_train, test_size=0.25) # Split train into train & validation\n",
    "print(f\"x_train.shape:{x_train.shape}\")\n",
    "print(f\"x_test.shape:{x_test.shape}\")\n",
    "print(f\"x_validation.shape:{x_validation.shape}\")\n",
    "print(f\"y_train.shape:{y_train.shape}\")\n",
    "print(f\"y_test.shape:{y_test.shape}\")\n",
    "print(f\"y_validation.shape:{y_validation.shape}\")"
   ]
  },
  {
   "cell_type": "markdown",
   "metadata": {
    "collapsed": false
   },
   "source": [
    "Step 3: Normalize data\n",
    "https://scikit-learn.org/stable/modules/generated/sklearn.preprocessing.StandardScaler.html"
   ]
  },
  {
   "cell_type": "code",
   "execution_count": 6,
   "metadata": {
    "ExecuteTime": {
     "end_time": "2023-06-06T13:11:37.083941600Z",
     "start_time": "2023-06-06T13:11:37.040645200Z"
    },
    "collapsed": false
   },
   "outputs": [],
   "source": [
    "norm = preprocessing.StandardScaler()\n",
    "x_train_norm = norm.fit_transform(x_train)\n",
    "x_validation_norm = norm.transform(x_validation)\n",
    "x_test_norm = norm.transform(x_test)"
   ]
  },
  {
   "cell_type": "raw",
   "metadata": {
    "collapsed": false
   },
   "source": [
    "Step 4. Creating a Sequential model\n",
    "1.Sequential model: https://keras.io/guides/sequential_model/\n",
    "2.Dense layer: https://keras.io/api/layers/core_layers/dense/\n",
    "3.Activation functions: https://keras.io/api/layers/activations/\n",
    "4.Flatten layer: https://keras.io/api/layers/reshaping_layers/flatten/"
   ]
  },
  {
   "cell_type": "code",
   "execution_count": 7,
   "metadata": {
    "ExecuteTime": {
     "end_time": "2023-06-06T13:12:53.814994400Z",
     "start_time": "2023-06-06T13:12:53.774019100Z"
    },
    "collapsed": false
   },
   "outputs": [],
   "source": [
    "# Define Sequential model with 3 layers using 2 methods\n",
    "def building_model(x_train,units_layer1, units_layer2, units_output, fun_output, method):\n",
    "    global model\n",
    "    if method==1:\n",
    "        model = keras.models.Sequential()\n",
    "        model.add(keras.layers.Dense(units_layer1, activation=\"relu\"))          # Layer 1: The first hidden layer\n",
    "        model.add(keras.layers.Dense(units_layer2, activation=\"relu\"))          # Layer 2: The second hidden layer\n",
    "        model.add(keras.layers.Dense(units_output))                             # Layer output or 3: 1 neuron ==> regression then activation is not required\n",
    "    elif method==2:\n",
    "        model = keras.models.Sequential([\n",
    "            keras.layers.Dense(units_layer1,activation=\"relu\"),\n",
    "            keras.layers.Dense(units_layer2, activation=\"relu\"),\n",
    "            keras.layers.Dense(units_output)\n",
    "        ])\n",
    "    return model\n",
    "model= building_model(x_train,units_layer1=40, units_layer2=20, units_output=1, fun_output=\"\", method=2)"
   ]
  },
  {
   "cell_type": "markdown",
   "metadata": {
    "collapsed": false
   },
   "source": [
    "Step 4.1: Print the model parameters"
   ]
  },
  {
   "cell_type": "code",
   "execution_count": 8,
   "metadata": {
    "ExecuteTime": {
     "end_time": "2023-06-06T13:12:55.987891100Z",
     "start_time": "2023-06-06T13:12:55.946895400Z"
    },
    "collapsed": false
   },
   "outputs": [
    {
     "data": {
      "text/plain": [
       "[<keras.src.layers.core.dense.Dense at 0x221951fb6d0>,\n",
       " <keras.src.layers.core.dense.Dense at 0x22196a15790>,\n",
       " <keras.src.layers.core.dense.Dense at 0x22194b49910>]"
      ]
     },
     "execution_count": 8,
     "metadata": {},
     "output_type": "execute_result"
    }
   ],
   "source": [
    "model.layers"
   ]
  },
  {
   "cell_type": "raw",
   "metadata": {
    "collapsed": false
   },
   "source": [
    "Step 5. Compile Model\n",
    "1.Model.compile: https://keras.io/api/models/model_training_apis/\n",
    "2.Metrics: https://keras.io/api/metrics/regression_metrics/"
   ]
  },
  {
   "cell_type": "code",
   "execution_count": 9,
   "metadata": {
    "ExecuteTime": {
     "end_time": "2023-06-06T13:12:59.488078800Z",
     "start_time": "2023-06-06T13:12:59.438048500Z"
    },
    "collapsed": false
   },
   "outputs": [],
   "source": [
    "model.compile(loss=\"mean_squared_error\", optimizer=\"sgd\", metrics=[\"mean_absolute_error\"]) # Regression:mean_squared_error"
   ]
  },
  {
   "cell_type": "raw",
   "metadata": {
    "collapsed": false
   },
   "source": [
    "Step 6: Fit Model\n",
    "1.Fit method: https://keras.io/api/models/model_training_apis/"
   ]
  },
  {
   "cell_type": "code",
   "execution_count": 10,
   "metadata": {
    "ExecuteTime": {
     "end_time": "2023-06-06T13:13:17.939114600Z",
     "start_time": "2023-06-06T13:13:02.360225400Z"
    },
    "collapsed": false
   },
   "outputs": [
    {
     "name": "stdout",
     "output_type": "stream",
     "text": [
      "Epoch 1/20\n",
      "363/363 [==============================] - 2s 3ms/step - loss: 0.7526 - mean_absolute_error: 0.6025 - val_loss: 0.4942 - val_mean_absolute_error: 0.5016\n",
      "Epoch 2/20\n",
      "363/363 [==============================] - 1s 2ms/step - loss: 0.4540 - mean_absolute_error: 0.4880 - val_loss: 0.4473 - val_mean_absolute_error: 0.4746\n",
      "Epoch 3/20\n",
      "363/363 [==============================] - 1s 2ms/step - loss: 0.4209 - mean_absolute_error: 0.4667 - val_loss: 0.4270 - val_mean_absolute_error: 0.4587\n",
      "Epoch 4/20\n",
      "363/363 [==============================] - 1s 2ms/step - loss: 0.4042 - mean_absolute_error: 0.4543 - val_loss: 0.4128 - val_mean_absolute_error: 0.4432\n",
      "Epoch 5/20\n",
      "363/363 [==============================] - 1s 3ms/step - loss: 0.3876 - mean_absolute_error: 0.4433 - val_loss: 0.3952 - val_mean_absolute_error: 0.4451\n",
      "Epoch 6/20\n",
      "363/363 [==============================] - 1s 3ms/step - loss: 0.3804 - mean_absolute_error: 0.4393 - val_loss: 0.3868 - val_mean_absolute_error: 0.4366\n",
      "Epoch 7/20\n",
      "363/363 [==============================] - 1s 4ms/step - loss: 0.3760 - mean_absolute_error: 0.4363 - val_loss: 0.3878 - val_mean_absolute_error: 0.4321\n",
      "Epoch 8/20\n",
      "363/363 [==============================] - 1s 3ms/step - loss: 0.3658 - mean_absolute_error: 0.4297 - val_loss: 0.3761 - val_mean_absolute_error: 0.4284\n",
      "Epoch 9/20\n",
      "363/363 [==============================] - 1s 2ms/step - loss: 0.3605 - mean_absolute_error: 0.4256 - val_loss: 0.3821 - val_mean_absolute_error: 0.4408\n",
      "Epoch 10/20\n",
      "363/363 [==============================] - 1s 2ms/step - loss: 0.3601 - mean_absolute_error: 0.4259 - val_loss: 0.3869 - val_mean_absolute_error: 0.4334\n",
      "Epoch 11/20\n",
      "363/363 [==============================] - 1s 2ms/step - loss: 0.3558 - mean_absolute_error: 0.4234 - val_loss: 0.3635 - val_mean_absolute_error: 0.4222\n",
      "Epoch 12/20\n",
      "363/363 [==============================] - 1s 2ms/step - loss: 0.3475 - mean_absolute_error: 0.4188 - val_loss: 0.3601 - val_mean_absolute_error: 0.4253\n",
      "Epoch 13/20\n",
      "363/363 [==============================] - 1s 2ms/step - loss: 0.3462 - mean_absolute_error: 0.4176 - val_loss: 0.3618 - val_mean_absolute_error: 0.4319\n",
      "Epoch 14/20\n",
      "363/363 [==============================] - 1s 2ms/step - loss: 0.3424 - mean_absolute_error: 0.4145 - val_loss: 0.3550 - val_mean_absolute_error: 0.4246\n",
      "Epoch 15/20\n",
      "363/363 [==============================] - 1s 2ms/step - loss: 0.3424 - mean_absolute_error: 0.4129 - val_loss: 0.3474 - val_mean_absolute_error: 0.4155\n",
      "Epoch 16/20\n",
      "363/363 [==============================] - 1s 3ms/step - loss: 0.3363 - mean_absolute_error: 0.4095 - val_loss: 0.3471 - val_mean_absolute_error: 0.4113\n",
      "Epoch 17/20\n",
      "363/363 [==============================] - 1s 3ms/step - loss: 0.3470 - mean_absolute_error: 0.4114 - val_loss: 0.3454 - val_mean_absolute_error: 0.4206\n",
      "Epoch 18/20\n",
      "363/363 [==============================] - 1s 3ms/step - loss: 0.3314 - mean_absolute_error: 0.4067 - val_loss: 0.3784 - val_mean_absolute_error: 0.4128\n",
      "Epoch 19/20\n",
      "363/363 [==============================] - 1s 3ms/step - loss: 0.3304 - mean_absolute_error: 0.4046 - val_loss: 0.3458 - val_mean_absolute_error: 0.4020\n",
      "Epoch 20/20\n",
      "363/363 [==============================] - 1s 3ms/step - loss: 0.3243 - mean_absolute_error: 0.4018 - val_loss: 0.3310 - val_mean_absolute_error: 0.4007\n"
     ]
    }
   ],
   "source": [
    "history_train = model.fit(x_train_norm, y_train, epochs=20, validation_data=(x_validation_norm, y_validation))"
   ]
  },
  {
   "cell_type": "code",
   "execution_count": 12,
   "metadata": {},
   "outputs": [
    {
     "data": {
      "text/plain": [
       "(11610, 8)"
      ]
     },
     "execution_count": 12,
     "metadata": {},
     "output_type": "execute_result"
    }
   ],
   "source": [
    "x_train_norm.shape"
   ]
  }
 ],
 "metadata": {
  "kernelspec": {
   "display_name": "Python 3",
   "language": "python",
   "name": "python3"
  },
  "language_info": {
   "codemirror_mode": {
    "name": "ipython",
    "version": 3
   },
   "file_extension": ".py",
   "mimetype": "text/x-python",
   "name": "python",
   "nbconvert_exporter": "python",
   "pygments_lexer": "ipython3",
   "version": "3.11.4"
  }
 },
 "nbformat": 4,
 "nbformat_minor": 0
}
