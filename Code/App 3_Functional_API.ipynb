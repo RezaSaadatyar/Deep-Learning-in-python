{
 "cells": [
  {
   "cell_type": "raw",
   "source": [
    "Import Libraries"
   ],
   "metadata": {
    "collapsed": false
   }
  },
  {
   "cell_type": "code",
   "execution_count": null,
   "outputs": [],
   "source": [
    "from tensorflow import keras      # print(keras.__version__, tf.__version__)\n",
    "import matplotlib.pyplot as plt\n",
    "from sklearn import datasets, model_selection, preprocessing"
   ],
   "metadata": {
    "collapsed": false
   }
  },
  {
   "cell_type": "markdown",
   "source": [
    "Step 1. Load data\n",
    "Dataset: https://scikit-learn.org/stable/modules/generated/sklearn.datasets.fetch_california_housing.html"
   ],
   "metadata": {
    "collapsed": false
   }
  },
  {
   "cell_type": "code",
   "execution_count": null,
   "outputs": [],
   "source": [
    "data = datasets.fetch_california_housing()\n",
    "print(f\"Data.keys: {data.keys()}\")                                   # Information about dataset\n",
    "print(f\"Inputs:{data['data']}\")                                      # Input data\n",
    "print(f\"Labels:{data['target']}\")                                    # Targets or Labels\n",
    "print(f\"Target_names:{data['feature_names']}\")                       # Features name"
   ],
   "metadata": {
    "collapsed": false
   }
  },
  {
   "cell_type": "code",
   "execution_count": null,
   "outputs": [],
   "source": [
    "input_data = data['data']                                         # Input data\n",
    "labels_data = data['target']                                      # Targets or Labels\n",
    "print(f\"input_data.shape: {input_data.shape}\")\n",
    "print(f\"labels.shape: {labels_data.shape}\")"
   ],
   "metadata": {
    "collapsed": false
   }
  },
  {
   "cell_type": "markdown",
   "source": [
    "Step 2: Split\n",
    "1.Split dataset into random train and test subsets\n",
    "2.Split train into random train and validation subsets\n",
    "https://scikit-learn.org/stable/modules/generated/sklearn.model_selection.train_test_split.html"
   ],
   "metadata": {
    "collapsed": false
   }
  },
  {
   "cell_type": "code",
   "execution_count": null,
   "outputs": [],
   "source": [
    "x_train, x_test, y_train, y_test = model_selection.train_test_split(input_data, labels_data, test_size=0.25)  # Split data into train & test\n",
    "x_train, x_validation, y_train, y_validation = model_selection.train_test_split(x_train, y_train, test_size=0.25) # Split train into train & validation\n",
    "print(f\"x_train.shape:{x_train.shape}\")\n",
    "print(f\"x_test.shape:{x_test.shape}\")\n",
    "print(f\"x_validation.shape:{x_validation.shape}\")\n",
    "print(f\"y_train.shape:{y_train.shape}\")\n",
    "print(f\"y_test.shape:{y_test.shape}\")\n",
    "print(f\"y_validation.shape:{y_validation.shape}\")"
   ],
   "metadata": {
    "collapsed": false
   }
  },
  {
   "cell_type": "markdown",
   "source": [
    "Step 3: Normalize data\n",
    "https://scikit-learn.org/stable/modules/generated/sklearn.preprocessing.StandardScaler.html"
   ],
   "metadata": {
    "collapsed": false
   }
  },
  {
   "cell_type": "code",
   "execution_count": null,
   "outputs": [],
   "source": [
    "norm = preprocessing.StandardScaler()\n",
    "x_train_norm = norm.fit_transform(x_train)\n",
    "x_validation_norm = norm.transform(x_validation)\n",
    "x_test_norm = norm.transform(x_test)"
   ],
   "metadata": {
    "collapsed": false
   }
  },
  {
   "cell_type": "raw",
   "source": [
    "Step 4: Wide & Deep Network\n",
    "1.Functional API: https://keras.io/guides/functional_api/\n",
    "2.Concatenate layer: https://keras.io/api/layers/merging_layers/concatenate/\n",
    "2.Article: "
   ],
   "metadata": {
    "collapsed": false
   }
  },
  {
   "cell_type": "code",
   "execution_count": null,
   "outputs": [],
   "source": [],
   "metadata": {
    "collapsed": false
   }
  }
 ],
 "metadata": {
  "kernelspec": {
   "display_name": "Python 3",
   "language": "python",
   "name": "python3"
  },
  "language_info": {
   "codemirror_mode": {
    "name": "ipython",
    "version": 2
   },
   "file_extension": ".py",
   "mimetype": "text/x-python",
   "name": "python",
   "nbconvert_exporter": "python",
   "pygments_lexer": "ipython2",
   "version": "2.7.6"
  }
 },
 "nbformat": 4,
 "nbformat_minor": 0
}
