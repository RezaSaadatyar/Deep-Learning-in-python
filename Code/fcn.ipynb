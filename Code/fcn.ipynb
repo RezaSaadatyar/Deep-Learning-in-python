{
 "cells": [
  {
   "cell_type": "markdown",
   "metadata": {},
   "source": [
    "**Welcome to Fully Convolutional Networks (FCNs) in Python**\n",
    "\n",
    "Presented by: Reza Saadatyar (2023-2024)<br/>\n",
    "E-mail: Reza.Saadatyar@outlook.com"
   ]
  },
  {
   "cell_type": "markdown",
   "metadata": {},
   "source": [
    "**Fully Convolutional Networks**<br/>\n",
    "FCNs address the limitations of traditional CNNs in segmentation tasks by enabling pixel-level predictions, where each pixel in the input image is assigned a specific label or class. They generate detailed segmentation maps by upsampling feature maps through transposed convolutions, which replace fully connected layers and restore the feature maps to match the resolution of the input image (same size as input).<br/>\n",
    "FCNs use skip connections to link lower-level and higher-level feature maps, preserving details and improving localization accuracy. They excel in tasks like medical image segmentation, scene parsing, and instance segmentation, handling various input sizes, providing pixel-level predictions, and maintaining spatial information."
   ]
  },
  {
   "cell_type": "code",
   "execution_count": null,
   "metadata": {},
   "outputs": [],
   "source": []
  },
  {
   "cell_type": "code",
   "execution_count": null,
   "metadata": {},
   "outputs": [],
   "source": []
  }
 ],
 "metadata": {
  "kernelspec": {
   "display_name": "Python 3",
   "language": "python",
   "name": "python3"
  },
  "language_info": {
   "name": "python",
   "version": "3.12.8"
  }
 },
 "nbformat": 4,
 "nbformat_minor": 2
}
