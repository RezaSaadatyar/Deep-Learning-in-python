{
 "cells": [
  {
   "cell_type": "markdown",
   "metadata": {},
   "source": [
    "Artilces:<br/>\n",
    "[Perceptrons]()<br/>\n",
    "[The Organization of Behavior]()<br/>\n",
    "[Learning Internal Representations by Error Propagation]()<br/>\n",
    "[A logical calculus of the ideas immanent in nervous activity]()<br/>\n",
    "[The perceptron: A probabilistic model for information storage and organization in the brain]()<br/>\n",
    "\n",
    "\n"
   ]
  },
  {
   "cell_type": "code",
   "execution_count": null,
   "metadata": {},
   "outputs": [],
   "source": []
  }
 ],
 "metadata": {
  "language_info": {
   "name": "python"
  }
 },
 "nbformat": 4,
 "nbformat_minor": 2
}
