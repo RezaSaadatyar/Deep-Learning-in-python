{
 "cells": [
  {
   "cell_type": "markdown",
   "metadata": {},
   "source": [
    "*Import Libraries*"
   ]
  },
  {
   "cell_type": "code",
   "execution_count": 4,
   "metadata": {
    "collapsed": false
   },
   "outputs": [],
   "source": [
    "from tensorflow import keras      # print(keras.__version__, tf.__version__)\n",
    "import matplotlib.pyplot as plt\n",
    "from sklearn import datasets, model_selection, preprocessing"
   ]
  },
  {
   "cell_type": "markdown",
   "metadata": {
    "collapsed": false
   },
   "source": [
    "*Step 1. Load data*<br/>\n",
    "[Dataset](https://scikit-learn.org/stable/modules/generated/sklearn.datasets.fetch_california_housing.html)"
   ]
  },
  {
   "cell_type": "code",
   "execution_count": 5,
   "metadata": {
    "collapsed": false
   },
   "outputs": [
    {
     "name": "stdout",
     "output_type": "stream",
     "text": [
      "Data.keys: dict_keys(['data', 'target', 'frame', 'target_names', 'feature_names', 'DESCR'])\n",
      "\n",
      " Inputs:[[   8.3252       41.            6.98412698 ...    2.55555556\n",
      "    37.88       -122.23      ]\n",
      " [   8.3014       21.            6.23813708 ...    2.10984183\n",
      "    37.86       -122.22      ]\n",
      " [   7.2574       52.            8.28813559 ...    2.80225989\n",
      "    37.85       -122.24      ]\n",
      " ...\n",
      " [   1.7          17.            5.20554273 ...    2.3256351\n",
      "    39.43       -121.22      ]\n",
      " [   1.8672       18.            5.32951289 ...    2.12320917\n",
      "    39.43       -121.32      ]\n",
      " [   2.3886       16.            5.25471698 ...    2.61698113\n",
      "    39.37       -121.24      ]]\n",
      "\n",
      " Labels:[4.526 3.585 3.521 ... 0.923 0.847 0.894]\n",
      "\n",
      " Target_names:['MedInc', 'HouseAge', 'AveRooms', 'AveBedrms', 'Population', 'AveOccup', 'Latitude', 'Longitude']\n"
     ]
    }
   ],
   "source": [
    "data = datasets.fetch_california_housing()\n",
    "print(f\"Data.keys: {data.keys()}\")                                      # Information about dataset\n",
    "print(f\"\\n Inputs:{data['data']}\")                                      # Input data\n",
    "print(f\"\\n Labels:{data['target']}\")                                    # Targets or Labels\n",
    "print(f\"\\n Target_names:{data['feature_names']}\")                       # Features name"
   ]
  },
  {
   "cell_type": "code",
   "execution_count": 6,
   "metadata": {
    "collapsed": false
   },
   "outputs": [
    {
     "name": "stdout",
     "output_type": "stream",
     "text": [
      "input_data.shape: (20640, 8)\n",
      "labels.shape: (20640,)\n"
     ]
    }
   ],
   "source": [
    "input_data = data['data']                                         # Input data\n",
    "labels_data = data['target']                                      # Targets or Labels\n",
    "print(f\"input_data.shape: {input_data.shape}\")\n",
    "print(f\"labels.shape: {labels_data.shape}\")"
   ]
  },
  {
   "cell_type": "markdown",
   "metadata": {
    "collapsed": false
   },
   "source": [
    "*Step 2: [Split](https://scikit-learn.org/stable/modules/generated/sklearn.model_selection.train_test_split.html)*<br/>\n",
    "Split dataset into random train and test subsets<br/>\n",
    "Split train into random train and validation subsets<br/>"
   ]
  },
  {
   "cell_type": "code",
   "execution_count": 7,
   "metadata": {
    "collapsed": false
   },
   "outputs": [
    {
     "name": "stdout",
     "output_type": "stream",
     "text": [
      "x_train.shape:(11610, 8)\n",
      "x_test.shape:(5160, 8)\n",
      "x_validation.shape:(3870, 8)\n",
      "y_train.shape:(11610,)\n",
      "y_test.shape:(5160,)\n",
      "y_validation.shape:(3870,)\n"
     ]
    }
   ],
   "source": [
    "x_train, x_test, y_train, y_test = model_selection.train_test_split(input_data, labels_data, test_size=0.25)  # Split data into train & test\n",
    "x_train, x_validation, y_train, y_validation = model_selection.train_test_split(x_train, y_train, test_size=0.25) # Split train into train & validation\n",
    "print(f\"x_train.shape:{x_train.shape}\")\n",
    "print(f\"x_test.shape:{x_test.shape}\")\n",
    "print(f\"x_validation.shape:{x_validation.shape}\")\n",
    "print(f\"y_train.shape:{y_train.shape}\")\n",
    "print(f\"y_test.shape:{y_test.shape}\")\n",
    "print(f\"y_validation.shape:{y_validation.shape}\")"
   ]
  },
  {
   "cell_type": "markdown",
   "metadata": {
    "collapsed": false
   },
   "source": [
    "*Step 3: [Normalize data](https://scikit-learn.org/stable/modules/generated/sklearn.preprocessing.StandardScaler.html)*\n"
   ]
  },
  {
   "cell_type": "code",
   "execution_count": 8,
   "metadata": {
    "collapsed": false
   },
   "outputs": [],
   "source": [
    "norm = preprocessing.StandardScaler()\n",
    "x_train_norm = norm.fit_transform(x_train)\n",
    "x_validation_norm = norm.transform(x_validation)\n",
    "x_test_norm = norm.transform(x_test)"
   ]
  },
  {
   "cell_type": "markdown",
   "metadata": {},
   "source": [
    "*[Wrappers for the Scikit-Learn API](https://faroit.com/keras-docs/1.0.6/scikit-learn-api/)*<br/>\n",
    "*[GridSearch](https://scikit-learn.org/stable/modules/generated/sklearn.model_selection.GridSearchCV.html)*<br/>\n",
    "*[Hyperas](https://github.com/maxpumperla/hyperas)*<br/>\n",
    "*[KerasTuner](https://keras.io/keras_tuner/)*<br/>\n",
    "*[Hyperband Tuner](https://keras.io/api/keras_tuner/tuners/hyperband/) ---> [Github](https://github.com/zygmuntz/hyperband)*<br/>\n",
    "*[Article](https://arxiv.org/pdf/1803.09820.pdf)*"
   ]
  },
  {
   "cell_type": "code",
   "execution_count": 18,
   "metadata": {},
   "outputs": [
    {
     "ename": "AttributeError",
     "evalue": "module 'keras.api._v2.keras' has no attribute 'wrappers'",
     "output_type": "error",
     "traceback": [
      "\u001b[1;31m---------------------------------------------------------------------------\u001b[0m",
      "\u001b[1;31mAttributeError\u001b[0m                            Traceback (most recent call last)",
      "\u001b[1;32mc:\\Users\\Reza\\Documents\\Deep-Learning-in-python\\Functional API\\Code\\Functional_API.ipynb Cell 25\u001b[0m line \u001b[0;36m1\n\u001b[0;32m      <a href='vscode-notebook-cell:/c%3A/Users/Reza/Documents/Deep-Learning-in-python/Functional%20API/Code/Functional_API.ipynb#X33sZmlsZQ%3D%3D?line=8'>9</a>\u001b[0m     model\u001b[39m.\u001b[39mcompile(loss\u001b[39m=\u001b[39m\u001b[39m\"\u001b[39m\u001b[39mmse\u001b[39m\u001b[39m\"\u001b[39m, optimizer\u001b[39m=\u001b[39msgd)\n\u001b[0;32m     <a href='vscode-notebook-cell:/c%3A/Users/Reza/Documents/Deep-Learning-in-python/Functional%20API/Code/Functional_API.ipynb#X33sZmlsZQ%3D%3D?line=9'>10</a>\u001b[0m     \u001b[39mreturn\u001b[39;00m model\n\u001b[1;32m---> <a href='vscode-notebook-cell:/c%3A/Users/Reza/Documents/Deep-Learning-in-python/Functional%20API/Code/Functional_API.ipynb#X33sZmlsZQ%3D%3D?line=11'>12</a>\u001b[0m keras_scikit_reg \u001b[39m=\u001b[39m keras\u001b[39m.\u001b[39;49mwrappers\u001b[39m.\u001b[39msklearn\u001b[39m.\u001b[39mKerasRegressor(build_fn\u001b[39m=\u001b[39mdeep_model)\n\u001b[0;32m     <a href='vscode-notebook-cell:/c%3A/Users/Reza/Documents/Deep-Learning-in-python/Functional%20API/Code/Functional_API.ipynb#X33sZmlsZQ%3D%3D?line=12'>13</a>\u001b[0m param_grid \u001b[39m=\u001b[39m {\u001b[39m\"\u001b[39m\u001b[39mnumber_of_hidden_layers\u001b[39m\u001b[39m\"\u001b[39m: [\u001b[39m1\u001b[39m, \u001b[39m3\u001b[39m, \u001b[39m5\u001b[39m], \u001b[39m\"\u001b[39m\u001b[39mnumber_of_neurons\u001b[39m\u001b[39m\"\u001b[39m: [\u001b[39m50\u001b[39m, \u001b[39m70\u001b[39m, \u001b[39m100\u001b[39m], \u001b[39m\"\u001b[39m\u001b[39mlr\u001b[39m\u001b[39m\"\u001b[39m: [\u001b[39m0.001\u001b[39m, \u001b[39m0.01\u001b[39m, \u001b[39m0.1\u001b[39m]}\n\u001b[0;32m     <a href='vscode-notebook-cell:/c%3A/Users/Reza/Documents/Deep-Learning-in-python/Functional%20API/Code/Functional_API.ipynb#X33sZmlsZQ%3D%3D?line=13'>14</a>\u001b[0m keras_sk_reg_gs \u001b[39m=\u001b[39m model_selection\u001b[39m.\u001b[39mGridSearchCV(keras_scikit_reg, param_grid)\n",
      "File \u001b[1;32mc:\\Users\\Reza\\AppData\\Local\\Programs\\Python\\Python311\\Lib\\site-packages\\tensorflow\\python\\util\\lazy_loader.py:59\u001b[0m, in \u001b[0;36mLazyLoader.__getattr__\u001b[1;34m(self, item)\u001b[0m\n\u001b[0;32m     57\u001b[0m \u001b[39mdef\u001b[39;00m \u001b[39m__getattr__\u001b[39m(\u001b[39mself\u001b[39m, item):\n\u001b[0;32m     58\u001b[0m   module \u001b[39m=\u001b[39m \u001b[39mself\u001b[39m\u001b[39m.\u001b[39m_load()\n\u001b[1;32m---> 59\u001b[0m   \u001b[39mreturn\u001b[39;00m \u001b[39mgetattr\u001b[39m(module, item)\n",
      "\u001b[1;31mAttributeError\u001b[0m: module 'keras.api._v2.keras' has no attribute 'wrappers'"
     ]
    }
   ],
   "source": [
    "# ------------------------------------------- Build the model & compile ------------------------------------------------\n",
    "def deep_model(x_train_norm, num_hidden_layers=1, num_neurons=50, lr=0.01):\n",
    "    model = keras.models.Sequential()\n",
    "    model.add(keras.layers.InputLayer(input_shape=x_train_norm.shape[1]))\n",
    "    for i in range(num_hidden_layers):\n",
    "        model.add(keras.layers.Dense(num_neurons, activation=\"selu\"))\n",
    "    model.add(keras.layers.Dense(1))\n",
    "    sgd = keras.optimizers.SGD(lr=lr)\n",
    "    model.compile(loss=\"mse\", optimizer=sgd)\n",
    "    return model\n",
    "\n",
    "keras_scikit_reg = keras.wrappers.sklearn.KerasRegressor(build_fn=deep_model)\n",
    "param_grid = {\"number_of_hidden_layers\": [1, 3, 5], \"number_of_neurons\": [50, 70, 100], \"lr\": [0.001, 0.01, 0.1]}\n",
    "keras_sk_reg_gs = model_selection.GridSearchCV(keras_scikit_reg, param_grid)\n",
    "# ----------------------------------------- Fit, evaluate & predictModel ----------------------------------------------\n",
    "keras_sk_reg_gs.fit(x_train_norm, y_train, epochs=2, validation_data=(x_validation_norm, y_validation),\n",
    "                    callbacks=[keras.callbacks.EarlyStopping(patience=5)])\n",
    "keras_sk_reg_gs.param_grid\n",
    "keras_sk_reg_gs.best_params_\n",
    "final_model = keras_sk_reg_gs.best_estimator_.model"
   ]
  }
 ],
 "metadata": {
  "kernelspec": {
   "display_name": "Python 3",
   "language": "python",
   "name": "python3"
  },
  "language_info": {
   "codemirror_mode": {
    "name": "ipython",
    "version": 3
   },
   "file_extension": ".py",
   "mimetype": "text/x-python",
   "name": "python",
   "nbconvert_exporter": "python",
   "pygments_lexer": "ipython3",
   "version": "3.11.4"
  }
 },
 "nbformat": 4,
 "nbformat_minor": 0
}
